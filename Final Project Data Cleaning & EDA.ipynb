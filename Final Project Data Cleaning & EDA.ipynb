{
 "cells": [
  {
   "cell_type": "code",
   "execution_count": 1,
   "metadata": {
    "ExecuteTime": {
     "end_time": "2020-08-25T05:25:19.338579Z",
     "start_time": "2020-08-25T05:25:17.105902Z"
    }
   },
   "outputs": [],
   "source": [
    "import pandas as pd\n",
    "import numpy as np\n",
    "\n",
    "#visualization\n",
    "import pandas as pd\n",
    "import seaborn as sns\n",
    "import matplotlib.pyplot as plt\n",
    "\n",
    "\n",
    "#statistic\n",
    "from scipy import stats\n",
    "\n",
    "\n",
    "import warnings \n",
    "warnings.filterwarnings(\"ignore\")"
   ]
  },
  {
   "cell_type": "markdown",
   "metadata": {},
   "source": [
    "# Latar Belakang:\n",
    "- Restoran adalah salah satu jenis usaha jasa pangan yang bertempat di sebagian atau seluruh bangunan yang permanen, dilengkapi dengan peralatan dan perlengkapan untuk proses pembuatan, penyimpanan, penyajian, dan penjualan makanan dan minuman bagi umum di tempat usahanya dan memenuhi ketentuan persyaratan yang ditetapkan dalam keputusan ini (Keputusan Menteri Pariwisata, Pos dan Telekomunikasi Nomor KM. 95/HK.103/MPT-87). \n",
    "- Kemajuan teknologi  informasi seperti smartphone dan media sosial telah mengubah perilaku manusia. Perubahan perilaku orang terlihat ketika hendak ingin mengunjungi sebuah restaurant atau rumah makan yang ingin dikunjungi, informasi tersebut dapat dilihat melalui website ataupun aplikasi yang menyediakan infomasi restaurant disekitar kita.Berangkat dari hal tersebut, salah satu aplikasi yang menyajikan informasi seputar restaurant/tempat yaitu zomato\n",
    "- Zomato adalah layanan penyedia informasi tempat kuliner yang menyediakan informasi lengkap meliputi daftar makanan, foto, ulasan, hingga rating berbagai restoran. \n",
    "- Salah satu faktor yang menentukan keberhasilan sebuah restaurant/rumah makan  dalam industri kuliner saat ini adalah tingkat kepuasan konsumen/rating.\n",
    "- Rating atau tingkat kepuasan konsumen dapat diartikan :\n",
    "   - a) tingkat perasaan dimana seseorang menyatakan hasil perbandingan atas kualiatas sebuah produk maupun jasa yang diterima dan diharapkan.\n",
    "   - b)  respon pelanggan terhadap evaluasi ketidaksesuaian terhadap produk ataupun jasa yang dirasakan anatara harapan sebelumnya dengan dampak yang dirasakan setelah menggunakan produk atau jasa.   \n",
    "- Berdasarkan penjelasan diatas maka penulis ingin melakukan penelitian mengenai **“Restaurant Rating Analysis and Restaurant Rating Prediction Based on Zomato”**.\n",
    "\n",
    "\n",
    "## Bisnis Problem.\n",
    "- Berdasarkan Latar Belakang sebelumnya, penulis memiliki beberapa bisnis problem mengenai **Restaurant Rating**, yaitu:\n",
    "    - Apakah restoran yang menyediakan reservasi table cenderung memiliki rating yang lebih tinggi ?\n",
    "    - Apakah restoran yang menyediakan order secara online cenderung memiliki rating yang lebih tinggi ?\n",
    "    - Wilayah mana yang memiliki jumlah restaurant terbanyak?\n",
    "    \n",
    "## Dataset\n",
    "- Dataset yang digunakan merupakan public dataset yang dikeluarkan oleh zomato.\n",
    "- Zomato adalah layanan penyedia informasi tempat kuliner yang menyediakan informasi lengkap.\n",
    "- Bangalore merupakan ibu kota dari negara bagian dan kota terbesar di negara bagian India Karnartaka\n",
    "- Sekitar 12.000 restaurant terdapat di Bangalore yang menyajikan hampir seluruh jenis makanan yang ada di dunia.\n",
    "- link dataset https://www.kaggle.com/himanshupoddar/zomato-bangalore-restaurants\n",
    "- Adapun kolom pada dataset berisi:\n",
    "    - url : Alamat website restoran\n",
    "    - address : Detail alamat dimana restoran berada\n",
    "    - name : Nama restoran\n",
    "    - online_order : Mengetahui apakah restoran menyediakan layanan booking pemesanan makanan secara online atau tidak \n",
    "    - book_table : Ketersediaan restoran dalam menyediakan reservasi makan ditempat\n",
    "    - rate : Angka penilaian restoran yang diberikan oleh konsumen dengan nilai maks 5\n",
    "    - votes : Total dari rating yang diberikan oleh konsumen\n",
    "    - phone : Nomor telfon restoran\n",
    "    - location : Area dimana restoran berada\n",
    "    - rest_type : Tipe restoran\n",
    "    - dish_liked : Makanan yang paling disukai konsumen pada tiap restoran\n",
    "    - cuisines : Jenis masakan, biasanya dihubungkan dengan masakan khas suatu daerah\n",
    "    - approx_cost(for two people) : Perkiraan harga makanan untuk dua orang\n",
    "    - reviews_list : Testimoni pengunjung\n",
    "    - menu_item : List yang berisi menu makanan\n",
    "    - listed_in(type) : Jenis pelayanan restoran, seperti Buffet, caffe\n",
    "    - listed_in(city) : Menjelaskan dimana restoran yang ingin didaftarkan, misalnya Resto A Cabang Banashankari ingin didaftarkan oleh Resto A Cabang Jayanager maka listed in city adalah Jayanager\n"
   ]
  },
  {
   "cell_type": "markdown",
   "metadata": {},
   "source": [
    "## 1. Cleaning Data"
   ]
  },
  {
   "cell_type": "code",
   "execution_count": 2,
   "metadata": {
    "ExecuteTime": {
     "end_time": "2020-08-25T05:25:24.776389Z",
     "start_time": "2020-08-25T05:25:19.344541Z"
    }
   },
   "outputs": [],
   "source": [
    "data = pd.read_csv(\"zomato.csv\")"
   ]
  },
  {
   "cell_type": "code",
   "execution_count": 3,
   "metadata": {
    "ExecuteTime": {
     "end_time": "2020-08-25T05:25:24.800258Z",
     "start_time": "2020-08-25T05:25:24.782308Z"
    }
   },
   "outputs": [],
   "source": [
    "df= data.copy()"
   ]
  },
  {
   "cell_type": "code",
   "execution_count": 8,
   "metadata": {},
   "outputs": [],
   "source": [
    "df[:100].to_html(\"zomato.html\")"
   ]
  },
  {
   "cell_type": "markdown",
   "metadata": {},
   "source": [
    "#### Mengecek null value seluruh feature"
   ]
  },
  {
   "cell_type": "code",
   "execution_count": 4,
   "metadata": {
    "ExecuteTime": {
     "end_time": "2020-08-25T05:25:24.859102Z",
     "start_time": "2020-08-25T05:25:24.805247Z"
    },
    "scrolled": true
   },
   "outputs": [
    {
     "name": "stdout",
     "output_type": "stream",
     "text": [
      "<class 'pandas.core.frame.DataFrame'>\n",
      "RangeIndex: 51717 entries, 0 to 51716\n",
      "Data columns (total 17 columns):\n",
      " #   Column                       Non-Null Count  Dtype \n",
      "---  ------                       --------------  ----- \n",
      " 0   url                          51717 non-null  object\n",
      " 1   address                      51717 non-null  object\n",
      " 2   name                         51717 non-null  object\n",
      " 3   online_order                 51717 non-null  object\n",
      " 4   book_table                   51717 non-null  object\n",
      " 5   rate                         43942 non-null  object\n",
      " 6   votes                        51717 non-null  int64 \n",
      " 7   phone                        50509 non-null  object\n",
      " 8   location                     51696 non-null  object\n",
      " 9   rest_type                    51490 non-null  object\n",
      " 10  dish_liked                   23639 non-null  object\n",
      " 11  cuisines                     51672 non-null  object\n",
      " 12  approx_cost(for two people)  51371 non-null  object\n",
      " 13  reviews_list                 51717 non-null  object\n",
      " 14  menu_item                    51717 non-null  object\n",
      " 15  listed_in(type)              51717 non-null  object\n",
      " 16  listed_in(city)              51717 non-null  object\n",
      "dtypes: int64(1), object(16)\n",
      "memory usage: 6.7+ MB\n"
     ]
    }
   ],
   "source": [
    "\n",
    "df.info()"
   ]
  },
  {
   "cell_type": "markdown",
   "metadata": {},
   "source": [
    "#### Mengecek presentase null value pada semua feature"
   ]
  },
  {
   "cell_type": "code",
   "execution_count": 5,
   "metadata": {
    "ExecuteTime": {
     "end_time": "2020-08-25T05:25:24.939711Z",
     "start_time": "2020-08-25T05:25:24.861096Z"
    }
   },
   "outputs": [
    {
     "data": {
      "text/html": [
       "<div>\n",
       "<style scoped>\n",
       "    .dataframe tbody tr th:only-of-type {\n",
       "        vertical-align: middle;\n",
       "    }\n",
       "\n",
       "    .dataframe tbody tr th {\n",
       "        vertical-align: top;\n",
       "    }\n",
       "\n",
       "    .dataframe thead th {\n",
       "        text-align: right;\n",
       "    }\n",
       "</style>\n",
       "<table border=\"1\" class=\"dataframe\">\n",
       "  <thead>\n",
       "    <tr style=\"text-align: right;\">\n",
       "      <th></th>\n",
       "      <th>Missing Value Percentage</th>\n",
       "    </tr>\n",
       "  </thead>\n",
       "  <tbody>\n",
       "    <tr>\n",
       "      <th>url</th>\n",
       "      <td>0.000</td>\n",
       "    </tr>\n",
       "    <tr>\n",
       "      <th>address</th>\n",
       "      <td>0.000</td>\n",
       "    </tr>\n",
       "    <tr>\n",
       "      <th>name</th>\n",
       "      <td>0.000</td>\n",
       "    </tr>\n",
       "    <tr>\n",
       "      <th>online_order</th>\n",
       "      <td>0.000</td>\n",
       "    </tr>\n",
       "    <tr>\n",
       "      <th>book_table</th>\n",
       "      <td>0.000</td>\n",
       "    </tr>\n",
       "    <tr>\n",
       "      <th>rate</th>\n",
       "      <td>15.034</td>\n",
       "    </tr>\n",
       "    <tr>\n",
       "      <th>votes</th>\n",
       "      <td>0.000</td>\n",
       "    </tr>\n",
       "    <tr>\n",
       "      <th>phone</th>\n",
       "      <td>2.336</td>\n",
       "    </tr>\n",
       "    <tr>\n",
       "      <th>location</th>\n",
       "      <td>0.041</td>\n",
       "    </tr>\n",
       "    <tr>\n",
       "      <th>rest_type</th>\n",
       "      <td>0.439</td>\n",
       "    </tr>\n",
       "    <tr>\n",
       "      <th>dish_liked</th>\n",
       "      <td>54.292</td>\n",
       "    </tr>\n",
       "    <tr>\n",
       "      <th>cuisines</th>\n",
       "      <td>0.087</td>\n",
       "    </tr>\n",
       "    <tr>\n",
       "      <th>approx_cost(for two people)</th>\n",
       "      <td>0.669</td>\n",
       "    </tr>\n",
       "    <tr>\n",
       "      <th>reviews_list</th>\n",
       "      <td>0.000</td>\n",
       "    </tr>\n",
       "    <tr>\n",
       "      <th>menu_item</th>\n",
       "      <td>0.000</td>\n",
       "    </tr>\n",
       "    <tr>\n",
       "      <th>listed_in(type)</th>\n",
       "      <td>0.000</td>\n",
       "    </tr>\n",
       "    <tr>\n",
       "      <th>listed_in(city)</th>\n",
       "      <td>0.000</td>\n",
       "    </tr>\n",
       "  </tbody>\n",
       "</table>\n",
       "</div>"
      ],
      "text/plain": [
       "                             Missing Value Percentage\n",
       "url                                             0.000\n",
       "address                                         0.000\n",
       "name                                            0.000\n",
       "online_order                                    0.000\n",
       "book_table                                      0.000\n",
       "rate                                           15.034\n",
       "votes                                           0.000\n",
       "phone                                           2.336\n",
       "location                                        0.041\n",
       "rest_type                                       0.439\n",
       "dish_liked                                     54.292\n",
       "cuisines                                        0.087\n",
       "approx_cost(for two people)                     0.669\n",
       "reviews_list                                    0.000\n",
       "menu_item                                       0.000\n",
       "listed_in(type)                                 0.000\n",
       "listed_in(city)                                 0.000"
      ]
     },
     "execution_count": 5,
     "metadata": {},
     "output_type": "execute_result"
    }
   ],
   "source": [
    "pd.DataFrame(round(df.isnull().sum()/df.shape[0] *100,3), columns= ['Missing Value Percentage'])"
   ]
  },
  {
   "cell_type": "markdown",
   "metadata": {},
   "source": [
    "#### Mengecek jumlah null value pada tiap feature"
   ]
  },
  {
   "cell_type": "code",
   "execution_count": 6,
   "metadata": {
    "ExecuteTime": {
     "end_time": "2020-08-25T05:25:24.990575Z",
     "start_time": "2020-08-25T05:25:24.941706Z"
    }
   },
   "outputs": [
    {
     "data": {
      "text/plain": [
       "url                                0\n",
       "menu_item                          0\n",
       "reviews_list                       0\n",
       "listed_in(type)                    0\n",
       "votes                              0\n",
       "listed_in(city)                    0\n",
       "book_table                         0\n",
       "online_order                       0\n",
       "name                               0\n",
       "address                            0\n",
       "location                          21\n",
       "cuisines                          45\n",
       "rest_type                        227\n",
       "approx_cost(for two people)      346\n",
       "phone                           1208\n",
       "rate                            7775\n",
       "dish_liked                     28078\n",
       "dtype: int64"
      ]
     },
     "execution_count": 6,
     "metadata": {},
     "output_type": "execute_result"
    }
   ],
   "source": [
    "df.isna().sum().sort_values()"
   ]
  },
  {
   "cell_type": "markdown",
   "metadata": {},
   "source": [
    "#### Melihat jenis nama column,typedata,total null value, jumlah unique values, contoh unique values pada dataset"
   ]
  },
  {
   "cell_type": "code",
   "execution_count": 7,
   "metadata": {
    "ExecuteTime": {
     "end_time": "2020-08-25T05:25:27.457898Z",
     "start_time": "2020-08-25T05:25:24.993569Z"
    }
   },
   "outputs": [
    {
     "data": {
      "text/html": [
       "<div>\n",
       "<style scoped>\n",
       "    .dataframe tbody tr th:only-of-type {\n",
       "        vertical-align: middle;\n",
       "    }\n",
       "\n",
       "    .dataframe tbody tr th {\n",
       "        vertical-align: top;\n",
       "    }\n",
       "\n",
       "    .dataframe thead th {\n",
       "        text-align: right;\n",
       "    }\n",
       "</style>\n",
       "<table border=\"1\" class=\"dataframe\">\n",
       "  <thead>\n",
       "    <tr style=\"text-align: right;\">\n",
       "      <th></th>\n",
       "      <th>Column Name</th>\n",
       "      <th>DataType</th>\n",
       "      <th>Total Null Value</th>\n",
       "      <th>unique</th>\n",
       "      <th>sample unique values</th>\n",
       "    </tr>\n",
       "  </thead>\n",
       "  <tbody>\n",
       "    <tr>\n",
       "      <th>0</th>\n",
       "      <td>url</td>\n",
       "      <td>object</td>\n",
       "      <td>0</td>\n",
       "      <td>51717</td>\n",
       "      <td>[https://www.zomato.com/bangalore/peat-fire-jp...</td>\n",
       "    </tr>\n",
       "    <tr>\n",
       "      <th>1</th>\n",
       "      <td>address</td>\n",
       "      <td>object</td>\n",
       "      <td>0</td>\n",
       "      <td>11495</td>\n",
       "      <td>[103,7th Main,Near Reliable Acacia,Off Sarjapu...</td>\n",
       "    </tr>\n",
       "    <tr>\n",
       "      <th>2</th>\n",
       "      <td>name</td>\n",
       "      <td>object</td>\n",
       "      <td>0</td>\n",
       "      <td>8792</td>\n",
       "      <td>[Indian Spicy Food]</td>\n",
       "    </tr>\n",
       "    <tr>\n",
       "      <th>3</th>\n",
       "      <td>online_order</td>\n",
       "      <td>object</td>\n",
       "      <td>0</td>\n",
       "      <td>2</td>\n",
       "      <td>[No]</td>\n",
       "    </tr>\n",
       "    <tr>\n",
       "      <th>4</th>\n",
       "      <td>book_table</td>\n",
       "      <td>object</td>\n",
       "      <td>0</td>\n",
       "      <td>2</td>\n",
       "      <td>[No]</td>\n",
       "    </tr>\n",
       "    <tr>\n",
       "      <th>5</th>\n",
       "      <td>rate</td>\n",
       "      <td>object</td>\n",
       "      <td>7775</td>\n",
       "      <td>64</td>\n",
       "      <td>[4.2/5]</td>\n",
       "    </tr>\n",
       "    <tr>\n",
       "      <th>6</th>\n",
       "      <td>votes</td>\n",
       "      <td>int64</td>\n",
       "      <td>0</td>\n",
       "      <td>2328</td>\n",
       "      <td>[976]</td>\n",
       "    </tr>\n",
       "    <tr>\n",
       "      <th>7</th>\n",
       "      <td>phone</td>\n",
       "      <td>object</td>\n",
       "      <td>1208</td>\n",
       "      <td>14926</td>\n",
       "      <td>[+91 8147981939]</td>\n",
       "    </tr>\n",
       "    <tr>\n",
       "      <th>8</th>\n",
       "      <td>location</td>\n",
       "      <td>object</td>\n",
       "      <td>21</td>\n",
       "      <td>93</td>\n",
       "      <td>[New BEL Road]</td>\n",
       "    </tr>\n",
       "    <tr>\n",
       "      <th>9</th>\n",
       "      <td>rest_type</td>\n",
       "      <td>object</td>\n",
       "      <td>227</td>\n",
       "      <td>93</td>\n",
       "      <td>[Food Court, Quick Bites]</td>\n",
       "    </tr>\n",
       "    <tr>\n",
       "      <th>10</th>\n",
       "      <td>dish_liked</td>\n",
       "      <td>object</td>\n",
       "      <td>28078</td>\n",
       "      <td>5271</td>\n",
       "      <td>[Mai Thai, Sangria, Pizza, Cocktails, Biryani,...</td>\n",
       "    </tr>\n",
       "    <tr>\n",
       "      <th>11</th>\n",
       "      <td>cuisines</td>\n",
       "      <td>object</td>\n",
       "      <td>45</td>\n",
       "      <td>2723</td>\n",
       "      <td>[Desserts, Sandwich, Fast Food, Beverages]</td>\n",
       "    </tr>\n",
       "    <tr>\n",
       "      <th>12</th>\n",
       "      <td>approx_cost(for two people)</td>\n",
       "      <td>object</td>\n",
       "      <td>346</td>\n",
       "      <td>70</td>\n",
       "      <td>[50]</td>\n",
       "    </tr>\n",
       "    <tr>\n",
       "      <th>13</th>\n",
       "      <td>reviews_list</td>\n",
       "      <td>object</td>\n",
       "      <td>0</td>\n",
       "      <td>22513</td>\n",
       "      <td>[[('Rated 5.0', 'RATED\\n  A taste that you wil...</td>\n",
       "    </tr>\n",
       "    <tr>\n",
       "      <th>14</th>\n",
       "      <td>menu_item</td>\n",
       "      <td>object</td>\n",
       "      <td>0</td>\n",
       "      <td>9098</td>\n",
       "      <td>[['Dal Makhni Meal', 'Dilli Rajma Meal', 'Chol...</td>\n",
       "    </tr>\n",
       "    <tr>\n",
       "      <th>15</th>\n",
       "      <td>listed_in(type)</td>\n",
       "      <td>object</td>\n",
       "      <td>0</td>\n",
       "      <td>7</td>\n",
       "      <td>[Cafes]</td>\n",
       "    </tr>\n",
       "    <tr>\n",
       "      <th>16</th>\n",
       "      <td>listed_in(city)</td>\n",
       "      <td>object</td>\n",
       "      <td>0</td>\n",
       "      <td>30</td>\n",
       "      <td>[Lavelle Road]</td>\n",
       "    </tr>\n",
       "  </tbody>\n",
       "</table>\n",
       "</div>"
      ],
      "text/plain": [
       "                    Column Name DataType  Total Null Value  unique  \\\n",
       "0                           url   object                 0   51717   \n",
       "1                       address   object                 0   11495   \n",
       "2                          name   object                 0    8792   \n",
       "3                  online_order   object                 0       2   \n",
       "4                    book_table   object                 0       2   \n",
       "5                          rate   object              7775      64   \n",
       "6                         votes    int64                 0    2328   \n",
       "7                         phone   object              1208   14926   \n",
       "8                      location   object                21      93   \n",
       "9                     rest_type   object               227      93   \n",
       "10                   dish_liked   object             28078    5271   \n",
       "11                     cuisines   object                45    2723   \n",
       "12  approx_cost(for two people)   object               346      70   \n",
       "13                 reviews_list   object                 0   22513   \n",
       "14                    menu_item   object                 0    9098   \n",
       "15              listed_in(type)   object                 0       7   \n",
       "16              listed_in(city)   object                 0      30   \n",
       "\n",
       "                                 sample unique values  \n",
       "0   [https://www.zomato.com/bangalore/peat-fire-jp...  \n",
       "1   [103,7th Main,Near Reliable Acacia,Off Sarjapu...  \n",
       "2                                 [Indian Spicy Food]  \n",
       "3                                                [No]  \n",
       "4                                                [No]  \n",
       "5                                             [4.2/5]  \n",
       "6                                               [976]  \n",
       "7                                    [+91 8147981939]  \n",
       "8                                      [New BEL Road]  \n",
       "9                           [Food Court, Quick Bites]  \n",
       "10  [Mai Thai, Sangria, Pizza, Cocktails, Biryani,...  \n",
       "11         [Desserts, Sandwich, Fast Food, Beverages]  \n",
       "12                                               [50]  \n",
       "13  [[('Rated 5.0', 'RATED\\n  A taste that you wil...  \n",
       "14  [['Dal Makhni Meal', 'Dilli Rajma Meal', 'Chol...  \n",
       "15                                            [Cafes]  \n",
       "16                                     [Lavelle Road]  "
      ]
     },
     "execution_count": 7,
     "metadata": {},
     "output_type": "execute_result"
    }
   ],
   "source": [
    "\n",
    "pd.DataFrame({'Column Name': df.columns, 'DataType': df.dtypes,\n",
    "             'Total Null Value': df.isna().sum(),'unique': df.nunique(),\n",
    "              'sample unique values': [list(df[i].drop_duplicates().sample(1))for i in df.columns]}).reset_index(drop=True)"
   ]
  },
  {
   "cell_type": "markdown",
   "metadata": {},
   "source": [
    "#### Drop null value pada feature ``rate``  sebesar 15% dari keseluruhan data\n"
   ]
  },
  {
   "cell_type": "code",
   "execution_count": 8,
   "metadata": {
    "ExecuteTime": {
     "end_time": "2020-08-25T05:25:27.491770Z",
     "start_time": "2020-08-25T05:25:27.462848Z"
    }
   },
   "outputs": [],
   "source": [
    "df = df.dropna(axis=0,subset=['rate'])"
   ]
  },
  {
   "cell_type": "markdown",
   "metadata": {},
   "source": [
    "#### Drop null value pada feature ``cuisines``  sebanyak 45 row dari keseluruhan data\n"
   ]
  },
  {
   "cell_type": "code",
   "execution_count": 9,
   "metadata": {
    "ExecuteTime": {
     "end_time": "2020-08-25T05:25:27.525678Z",
     "start_time": "2020-08-25T05:25:27.493764Z"
    }
   },
   "outputs": [],
   "source": [
    "df = df.dropna(axis=0,subset=['cuisines'])"
   ]
  },
  {
   "cell_type": "markdown",
   "metadata": {},
   "source": [
    "#### Mengganti nama kolom"
   ]
  },
  {
   "cell_type": "code",
   "execution_count": 10,
   "metadata": {
    "ExecuteTime": {
     "end_time": "2020-08-25T05:25:27.533656Z",
     "start_time": "2020-08-25T05:25:27.527673Z"
    }
   },
   "outputs": [],
   "source": [
    "df.columns = ['url', 'address', 'name', 'online_order', 'book_table', 'rate', 'votes',\n",
    "       'phone', 'location', 'rest_type', 'dish_liked', 'cuisines',\n",
    "       'cost_two_person', 'reviews_list', 'menu_item',\n",
    "       'service_type', 'registered_city']"
   ]
  },
  {
   "cell_type": "markdown",
   "metadata": {},
   "source": [
    "##### Merubah nilai rating yang 'NEW' menjadi nol dan \"-\" menjadi np.nan (data kosong)"
   ]
  },
  {
   "cell_type": "code",
   "execution_count": 11,
   "metadata": {
    "ExecuteTime": {
     "end_time": "2020-08-25T05:25:27.544630Z",
     "start_time": "2020-08-25T05:25:27.535651Z"
    }
   },
   "outputs": [],
   "source": [
    "df['rate'].replace('NEW','0', inplace=True)"
   ]
  },
  {
   "cell_type": "code",
   "execution_count": 12,
   "metadata": {
    "ExecuteTime": {
     "end_time": "2020-08-25T05:25:27.555610Z",
     "start_time": "2020-08-25T05:25:27.547620Z"
    }
   },
   "outputs": [],
   "source": [
    "df['rate'].replace(\"-\",np.nan,inplace=True)"
   ]
  },
  {
   "cell_type": "markdown",
   "metadata": {},
   "source": [
    "##### Menghapus /5 pada rating"
   ]
  },
  {
   "cell_type": "code",
   "execution_count": 13,
   "metadata": {
    "ExecuteTime": {
     "end_time": "2020-08-25T05:25:27.569567Z",
     "start_time": "2020-08-25T05:25:27.557593Z"
    }
   },
   "outputs": [],
   "source": [
    "df['rate'] = df['rate'].astype('str')"
   ]
  },
  {
   "cell_type": "code",
   "execution_count": 14,
   "metadata": {
    "ExecuteTime": {
     "end_time": "2020-08-25T05:25:27.594497Z",
     "start_time": "2020-08-25T05:25:27.571557Z"
    }
   },
   "outputs": [],
   "source": [
    "df['rate'] = df['rate'].apply(lambda x: x.split(\"/\")[0])"
   ]
  },
  {
   "cell_type": "code",
   "execution_count": 15,
   "metadata": {
    "ExecuteTime": {
     "end_time": "2020-08-25T05:25:27.618430Z",
     "start_time": "2020-08-25T05:25:27.597490Z"
    }
   },
   "outputs": [],
   "source": [
    "#sebelah paling kanan terdapat spasi dihapus\n",
    "df['rate'] = df['rate'].str.rstrip()"
   ]
  },
  {
   "cell_type": "markdown",
   "metadata": {},
   "source": [
    "##### Mengubah tipe data rating dari string to float"
   ]
  },
  {
   "cell_type": "code",
   "execution_count": 16,
   "metadata": {
    "ExecuteTime": {
     "end_time": "2020-08-25T05:25:27.642366Z",
     "start_time": "2020-08-25T05:25:27.621423Z"
    }
   },
   "outputs": [],
   "source": [
    "df['rate'] = df['rate'].astype('float')"
   ]
  },
  {
   "cell_type": "markdown",
   "metadata": {},
   "source": [
    "#### Merubah feature `cost_two_person` datatype menjadi float"
   ]
  },
  {
   "cell_type": "code",
   "execution_count": 17,
   "metadata": {
    "ExecuteTime": {
     "end_time": "2020-08-25T05:25:27.693234Z",
     "start_time": "2020-08-25T05:25:27.644361Z"
    }
   },
   "outputs": [],
   "source": [
    "df['cost_two_person'] = df[~(df['cost_two_person'].isna())]['cost_two_person'].apply(lambda x: x.split(\",\"))"
   ]
  },
  {
   "cell_type": "code",
   "execution_count": 18,
   "metadata": {
    "ExecuteTime": {
     "end_time": "2020-08-25T05:25:27.732130Z",
     "start_time": "2020-08-25T05:25:27.694227Z"
    }
   },
   "outputs": [],
   "source": [
    "df['cost_two_person'] = df[~(df['cost_two_person'].isna())]['cost_two_person'].apply(lambda x: \"\".join(x))"
   ]
  },
  {
   "cell_type": "code",
   "execution_count": 19,
   "metadata": {
    "ExecuteTime": {
     "end_time": "2020-08-25T05:25:27.743097Z",
     "start_time": "2020-08-25T05:25:27.734120Z"
    }
   },
   "outputs": [
    {
     "data": {
      "text/plain": [
       "array(['800', '300', '600', '700', '550', '500', '450', '650', '400',\n",
       "       '900', '200', '750', '150', '850', '100', '1200', '350', '250',\n",
       "       '950', '1000', '1500', '1300', '199', '80', '1100', '160', '1600',\n",
       "       '230', '130', '1700', '1400', '1350', nan, '2200', '2000', '1800',\n",
       "       '1900', '180', '330', '2500', '2100', '3000', '2800', '3400', '50',\n",
       "       '40', '1250', '3500', '4000', '2400', '2600', '1450', '70', '3200',\n",
       "       '560', '240', '360', '6000', '1050', '2300', '4100', '120', '5000',\n",
       "       '3700', '1650', '2700', '4500'], dtype=object)"
      ]
     },
     "execution_count": 19,
     "metadata": {},
     "output_type": "execute_result"
    }
   ],
   "source": [
    "df['cost_two_person'].unique()"
   ]
  },
  {
   "cell_type": "code",
   "execution_count": 20,
   "metadata": {
    "ExecuteTime": {
     "end_time": "2020-08-25T05:25:27.770024Z",
     "start_time": "2020-08-25T05:25:27.745091Z"
    }
   },
   "outputs": [],
   "source": [
    "df['cost_two_person'] = df['cost_two_person'].astype(\"float\")"
   ]
  },
  {
   "cell_type": "markdown",
   "metadata": {},
   "source": [
    "#### Handling Duplicate Value"
   ]
  },
  {
   "cell_type": "code",
   "execution_count": 21,
   "metadata": {
    "ExecuteTime": {
     "end_time": "2020-08-25T05:25:29.255384Z",
     "start_time": "2020-08-25T05:25:27.773018Z"
    }
   },
   "outputs": [
    {
     "data": {
      "text/html": [
       "<div>\n",
       "<style scoped>\n",
       "    .dataframe tbody tr th:only-of-type {\n",
       "        vertical-align: middle;\n",
       "    }\n",
       "\n",
       "    .dataframe tbody tr th {\n",
       "        vertical-align: top;\n",
       "    }\n",
       "\n",
       "    .dataframe thead th {\n",
       "        text-align: right;\n",
       "    }\n",
       "</style>\n",
       "<table border=\"1\" class=\"dataframe\">\n",
       "  <thead>\n",
       "    <tr style=\"text-align: right;\">\n",
       "      <th></th>\n",
       "      <th>url</th>\n",
       "      <th>address</th>\n",
       "      <th>name</th>\n",
       "      <th>online_order</th>\n",
       "      <th>book_table</th>\n",
       "      <th>rate</th>\n",
       "      <th>votes</th>\n",
       "      <th>phone</th>\n",
       "      <th>location</th>\n",
       "      <th>rest_type</th>\n",
       "      <th>dish_liked</th>\n",
       "      <th>cuisines</th>\n",
       "      <th>cost_two_person</th>\n",
       "      <th>reviews_list</th>\n",
       "      <th>menu_item</th>\n",
       "      <th>service_type</th>\n",
       "      <th>registered_city</th>\n",
       "    </tr>\n",
       "  </thead>\n",
       "  <tbody>\n",
       "    <tr>\n",
       "      <th>41402</th>\n",
       "      <td>https://www.zomato.com/bangalore/andhra-expres...</td>\n",
       "      <td>168/4, Ward 57, Abbaiah Reddy, Layout Main Roa...</td>\n",
       "      <td>Andhra Express</td>\n",
       "      <td>Yes</td>\n",
       "      <td>No</td>\n",
       "      <td>3.7</td>\n",
       "      <td>19</td>\n",
       "      <td>080 49653153</td>\n",
       "      <td>CV Raman Nagar</td>\n",
       "      <td>Takeaway, Delivery</td>\n",
       "      <td>NaN</td>\n",
       "      <td>Andhra, Biryani, North Indian, Beverages</td>\n",
       "      <td>300.0</td>\n",
       "      <td>[('Rated 5.0', 'RATED\\n  Amazing take away / h...</td>\n",
       "      <td>[]</td>\n",
       "      <td>Delivery</td>\n",
       "      <td>Marathahalli</td>\n",
       "    </tr>\n",
       "    <tr>\n",
       "      <th>41404</th>\n",
       "      <td>https://www.zomato.com/bangalore/andhra-expres...</td>\n",
       "      <td>168/4, Ward 57, Abbaiah Reddy, Layout Main Roa...</td>\n",
       "      <td>Andhra Express</td>\n",
       "      <td>Yes</td>\n",
       "      <td>No</td>\n",
       "      <td>3.7</td>\n",
       "      <td>19</td>\n",
       "      <td>080 49653153</td>\n",
       "      <td>CV Raman Nagar</td>\n",
       "      <td>Takeaway, Delivery</td>\n",
       "      <td>NaN</td>\n",
       "      <td>Andhra, Biryani, North Indian, Beverages</td>\n",
       "      <td>300.0</td>\n",
       "      <td>[('Rated 5.0', 'RATED\\n  Amazing take away / h...</td>\n",
       "      <td>[]</td>\n",
       "      <td>Delivery</td>\n",
       "      <td>Marathahalli</td>\n",
       "    </tr>\n",
       "    <tr>\n",
       "      <th>9286</th>\n",
       "      <td>https://www.zomato.com/bangalore/bisimillah-bi...</td>\n",
       "      <td>51, 5th Main, 60 Feet Road, BNG Homestay Build...</td>\n",
       "      <td>Bisimillah Biriyani</td>\n",
       "      <td>No</td>\n",
       "      <td>No</td>\n",
       "      <td>3.5</td>\n",
       "      <td>11</td>\n",
       "      <td>+91 8050077699\\r\\n+91 9731841212</td>\n",
       "      <td>BTM</td>\n",
       "      <td>Quick Bites</td>\n",
       "      <td>NaN</td>\n",
       "      <td>Biryani, Fast Food</td>\n",
       "      <td>300.0</td>\n",
       "      <td>[('Rated 4.0', 'RATED\\n  Very delicious food @...</td>\n",
       "      <td>[]</td>\n",
       "      <td>Delivery</td>\n",
       "      <td>BTM</td>\n",
       "    </tr>\n",
       "    <tr>\n",
       "      <th>9549</th>\n",
       "      <td>https://www.zomato.com/bangalore/bisimillah-bi...</td>\n",
       "      <td>51, 5th Main, 60 Feet Road, BNG Homestay Build...</td>\n",
       "      <td>Bisimillah Biriyani</td>\n",
       "      <td>No</td>\n",
       "      <td>No</td>\n",
       "      <td>3.5</td>\n",
       "      <td>11</td>\n",
       "      <td>+91 8050077699\\r\\n+91 9731841212</td>\n",
       "      <td>BTM</td>\n",
       "      <td>Quick Bites</td>\n",
       "      <td>NaN</td>\n",
       "      <td>Biryani, Fast Food</td>\n",
       "      <td>300.0</td>\n",
       "      <td>[('Rated 4.0', 'RATED\\n  Very delicious food @...</td>\n",
       "      <td>[]</td>\n",
       "      <td>Delivery</td>\n",
       "      <td>BTM</td>\n",
       "    </tr>\n",
       "    <tr>\n",
       "      <th>9449</th>\n",
       "      <td>https://www.zomato.com/bangalore/bisimillah-bi...</td>\n",
       "      <td>51, 5th Main, 60 Feet Road, BNG Homestay Build...</td>\n",
       "      <td>Bisimillah Biriyani's &amp; Kebab's</td>\n",
       "      <td>No</td>\n",
       "      <td>No</td>\n",
       "      <td>3.3</td>\n",
       "      <td>6</td>\n",
       "      <td>+91 8050077699\\r\\n+91 9731841212</td>\n",
       "      <td>BTM</td>\n",
       "      <td>Quick Bites</td>\n",
       "      <td>NaN</td>\n",
       "      <td>Biryani, Fast Food</td>\n",
       "      <td>300.0</td>\n",
       "      <td>[]</td>\n",
       "      <td>[]</td>\n",
       "      <td>Delivery</td>\n",
       "      <td>BTM</td>\n",
       "    </tr>\n",
       "    <tr>\n",
       "      <th>...</th>\n",
       "      <td>...</td>\n",
       "      <td>...</td>\n",
       "      <td>...</td>\n",
       "      <td>...</td>\n",
       "      <td>...</td>\n",
       "      <td>...</td>\n",
       "      <td>...</td>\n",
       "      <td>...</td>\n",
       "      <td>...</td>\n",
       "      <td>...</td>\n",
       "      <td>...</td>\n",
       "      <td>...</td>\n",
       "      <td>...</td>\n",
       "      <td>...</td>\n",
       "      <td>...</td>\n",
       "      <td>...</td>\n",
       "      <td>...</td>\n",
       "    </tr>\n",
       "    <tr>\n",
       "      <th>9470</th>\n",
       "      <td>https://www.zomato.com/bangalore/the-paratha-s...</td>\n",
       "      <td>Koramangala 1st Block, Bangalore</td>\n",
       "      <td>The Paratha Stories</td>\n",
       "      <td>Yes</td>\n",
       "      <td>No</td>\n",
       "      <td>3.3</td>\n",
       "      <td>36</td>\n",
       "      <td>+91 9035955192</td>\n",
       "      <td>Koramangala 1st Block</td>\n",
       "      <td>Delivery</td>\n",
       "      <td>NaN</td>\n",
       "      <td>North Indian</td>\n",
       "      <td>400.0</td>\n",
       "      <td>[('Rated 3.0', 'RATED\\n  There is enough scope...</td>\n",
       "      <td>[]</td>\n",
       "      <td>Delivery</td>\n",
       "      <td>BTM</td>\n",
       "    </tr>\n",
       "    <tr>\n",
       "      <th>9454</th>\n",
       "      <td>https://www.zomato.com/bangalore/vyanjan-btm?c...</td>\n",
       "      <td>744, 13th Main, 7th Cross, BTM 2nd Stage, BTM,...</td>\n",
       "      <td>Vyanjan</td>\n",
       "      <td>Yes</td>\n",
       "      <td>No</td>\n",
       "      <td>3.9</td>\n",
       "      <td>201</td>\n",
       "      <td>+91 9916937446</td>\n",
       "      <td>BTM</td>\n",
       "      <td>Quick Bites</td>\n",
       "      <td>Poha, Jalebi, Paratha, Bhindi Masala, Kachori,...</td>\n",
       "      <td>North Indian, Street Food</td>\n",
       "      <td>300.0</td>\n",
       "      <td>[('Rated 3.0', \"RATED\\n  Nice place, it's for ...</td>\n",
       "      <td>['Jeera Rice', 'Khichdi', 'Plain Tawa Roti', '...</td>\n",
       "      <td>Delivery</td>\n",
       "      <td>BTM</td>\n",
       "    </tr>\n",
       "    <tr>\n",
       "      <th>9464</th>\n",
       "      <td>https://www.zomato.com/bangalore/vyanjan-btm?c...</td>\n",
       "      <td>744, 13th Main, 7th Cross, BTM 2nd Stage, BTM,...</td>\n",
       "      <td>Vyanjan</td>\n",
       "      <td>Yes</td>\n",
       "      <td>No</td>\n",
       "      <td>3.9</td>\n",
       "      <td>201</td>\n",
       "      <td>+91 9916937446</td>\n",
       "      <td>BTM</td>\n",
       "      <td>Quick Bites</td>\n",
       "      <td>Poha, Jalebi, Paratha, Bhindi Masala, Kachori,...</td>\n",
       "      <td>North Indian, Street Food</td>\n",
       "      <td>300.0</td>\n",
       "      <td>[('Rated 3.0', \"RATED\\n  Nice place, it's for ...</td>\n",
       "      <td>['Jeera Rice', 'Khichdi', 'Plain Tawa Roti', '...</td>\n",
       "      <td>Delivery</td>\n",
       "      <td>BTM</td>\n",
       "    </tr>\n",
       "    <tr>\n",
       "      <th>27649</th>\n",
       "      <td>https://www.zomato.com/bangalore/wedding-birya...</td>\n",
       "      <td>1086/A, Twin Tulips, 18th Cross, 14th Main Roa...</td>\n",
       "      <td>Wedding Biryani</td>\n",
       "      <td>No</td>\n",
       "      <td>No</td>\n",
       "      <td>0.0</td>\n",
       "      <td>0</td>\n",
       "      <td>+91 8095066833</td>\n",
       "      <td>HSR</td>\n",
       "      <td>Quick Bites</td>\n",
       "      <td>NaN</td>\n",
       "      <td>Biryani, Kebab</td>\n",
       "      <td>600.0</td>\n",
       "      <td>[]</td>\n",
       "      <td>[]</td>\n",
       "      <td>Delivery</td>\n",
       "      <td>Koramangala 4th Block</td>\n",
       "    </tr>\n",
       "    <tr>\n",
       "      <th>28139</th>\n",
       "      <td>https://www.zomato.com/bangalore/wedding-birya...</td>\n",
       "      <td>1086/A, Twin Tulips, 18th Cross, 14th Main Roa...</td>\n",
       "      <td>Wedding Biryani</td>\n",
       "      <td>No</td>\n",
       "      <td>No</td>\n",
       "      <td>0.0</td>\n",
       "      <td>0</td>\n",
       "      <td>+91 8095066833</td>\n",
       "      <td>HSR</td>\n",
       "      <td>Quick Bites</td>\n",
       "      <td>NaN</td>\n",
       "      <td>Biryani, Kebab</td>\n",
       "      <td>600.0</td>\n",
       "      <td>[]</td>\n",
       "      <td>[]</td>\n",
       "      <td>Delivery</td>\n",
       "      <td>Koramangala 4th Block</td>\n",
       "    </tr>\n",
       "  </tbody>\n",
       "</table>\n",
       "<p>64 rows × 17 columns</p>\n",
       "</div>"
      ],
      "text/plain": [
       "                                                     url  \\\n",
       "41402  https://www.zomato.com/bangalore/andhra-expres...   \n",
       "41404  https://www.zomato.com/bangalore/andhra-expres...   \n",
       "9286   https://www.zomato.com/bangalore/bisimillah-bi...   \n",
       "9549   https://www.zomato.com/bangalore/bisimillah-bi...   \n",
       "9449   https://www.zomato.com/bangalore/bisimillah-bi...   \n",
       "...                                                  ...   \n",
       "9470   https://www.zomato.com/bangalore/the-paratha-s...   \n",
       "9454   https://www.zomato.com/bangalore/vyanjan-btm?c...   \n",
       "9464   https://www.zomato.com/bangalore/vyanjan-btm?c...   \n",
       "27649  https://www.zomato.com/bangalore/wedding-birya...   \n",
       "28139  https://www.zomato.com/bangalore/wedding-birya...   \n",
       "\n",
       "                                                 address  \\\n",
       "41402  168/4, Ward 57, Abbaiah Reddy, Layout Main Roa...   \n",
       "41404  168/4, Ward 57, Abbaiah Reddy, Layout Main Roa...   \n",
       "9286   51, 5th Main, 60 Feet Road, BNG Homestay Build...   \n",
       "9549   51, 5th Main, 60 Feet Road, BNG Homestay Build...   \n",
       "9449   51, 5th Main, 60 Feet Road, BNG Homestay Build...   \n",
       "...                                                  ...   \n",
       "9470                    Koramangala 1st Block, Bangalore   \n",
       "9454   744, 13th Main, 7th Cross, BTM 2nd Stage, BTM,...   \n",
       "9464   744, 13th Main, 7th Cross, BTM 2nd Stage, BTM,...   \n",
       "27649  1086/A, Twin Tulips, 18th Cross, 14th Main Roa...   \n",
       "28139  1086/A, Twin Tulips, 18th Cross, 14th Main Roa...   \n",
       "\n",
       "                                  name online_order book_table  rate  votes  \\\n",
       "41402                   Andhra Express          Yes         No   3.7     19   \n",
       "41404                   Andhra Express          Yes         No   3.7     19   \n",
       "9286               Bisimillah Biriyani           No         No   3.5     11   \n",
       "9549               Bisimillah Biriyani           No         No   3.5     11   \n",
       "9449   Bisimillah Biriyani's & Kebab's           No         No   3.3      6   \n",
       "...                                ...          ...        ...   ...    ...   \n",
       "9470               The Paratha Stories          Yes         No   3.3     36   \n",
       "9454                           Vyanjan          Yes         No   3.9    201   \n",
       "9464                           Vyanjan          Yes         No   3.9    201   \n",
       "27649                  Wedding Biryani           No         No   0.0      0   \n",
       "28139                  Wedding Biryani           No         No   0.0      0   \n",
       "\n",
       "                                  phone               location  \\\n",
       "41402                      080 49653153         CV Raman Nagar   \n",
       "41404                      080 49653153         CV Raman Nagar   \n",
       "9286   +91 8050077699\\r\\n+91 9731841212                    BTM   \n",
       "9549   +91 8050077699\\r\\n+91 9731841212                    BTM   \n",
       "9449   +91 8050077699\\r\\n+91 9731841212                    BTM   \n",
       "...                                 ...                    ...   \n",
       "9470                     +91 9035955192  Koramangala 1st Block   \n",
       "9454                     +91 9916937446                    BTM   \n",
       "9464                     +91 9916937446                    BTM   \n",
       "27649                    +91 8095066833                    HSR   \n",
       "28139                    +91 8095066833                    HSR   \n",
       "\n",
       "                rest_type                                         dish_liked  \\\n",
       "41402  Takeaway, Delivery                                                NaN   \n",
       "41404  Takeaway, Delivery                                                NaN   \n",
       "9286          Quick Bites                                                NaN   \n",
       "9549          Quick Bites                                                NaN   \n",
       "9449          Quick Bites                                                NaN   \n",
       "...                   ...                                                ...   \n",
       "9470             Delivery                                                NaN   \n",
       "9454          Quick Bites  Poha, Jalebi, Paratha, Bhindi Masala, Kachori,...   \n",
       "9464          Quick Bites  Poha, Jalebi, Paratha, Bhindi Masala, Kachori,...   \n",
       "27649         Quick Bites                                                NaN   \n",
       "28139         Quick Bites                                                NaN   \n",
       "\n",
       "                                       cuisines  cost_two_person  \\\n",
       "41402  Andhra, Biryani, North Indian, Beverages            300.0   \n",
       "41404  Andhra, Biryani, North Indian, Beverages            300.0   \n",
       "9286                         Biryani, Fast Food            300.0   \n",
       "9549                         Biryani, Fast Food            300.0   \n",
       "9449                         Biryani, Fast Food            300.0   \n",
       "...                                         ...              ...   \n",
       "9470                               North Indian            400.0   \n",
       "9454                  North Indian, Street Food            300.0   \n",
       "9464                  North Indian, Street Food            300.0   \n",
       "27649                            Biryani, Kebab            600.0   \n",
       "28139                            Biryani, Kebab            600.0   \n",
       "\n",
       "                                            reviews_list  \\\n",
       "41402  [('Rated 5.0', 'RATED\\n  Amazing take away / h...   \n",
       "41404  [('Rated 5.0', 'RATED\\n  Amazing take away / h...   \n",
       "9286   [('Rated 4.0', 'RATED\\n  Very delicious food @...   \n",
       "9549   [('Rated 4.0', 'RATED\\n  Very delicious food @...   \n",
       "9449                                                  []   \n",
       "...                                                  ...   \n",
       "9470   [('Rated 3.0', 'RATED\\n  There is enough scope...   \n",
       "9454   [('Rated 3.0', \"RATED\\n  Nice place, it's for ...   \n",
       "9464   [('Rated 3.0', \"RATED\\n  Nice place, it's for ...   \n",
       "27649                                                 []   \n",
       "28139                                                 []   \n",
       "\n",
       "                                               menu_item service_type  \\\n",
       "41402                                                 []     Delivery   \n",
       "41404                                                 []     Delivery   \n",
       "9286                                                  []     Delivery   \n",
       "9549                                                  []     Delivery   \n",
       "9449                                                  []     Delivery   \n",
       "...                                                  ...          ...   \n",
       "9470                                                  []     Delivery   \n",
       "9454   ['Jeera Rice', 'Khichdi', 'Plain Tawa Roti', '...     Delivery   \n",
       "9464   ['Jeera Rice', 'Khichdi', 'Plain Tawa Roti', '...     Delivery   \n",
       "27649                                                 []     Delivery   \n",
       "28139                                                 []     Delivery   \n",
       "\n",
       "             registered_city  \n",
       "41402           Marathahalli  \n",
       "41404           Marathahalli  \n",
       "9286                     BTM  \n",
       "9549                     BTM  \n",
       "9449                     BTM  \n",
       "...                      ...  \n",
       "9470                     BTM  \n",
       "9454                     BTM  \n",
       "9464                     BTM  \n",
       "27649  Koramangala 4th Block  \n",
       "28139  Koramangala 4th Block  \n",
       "\n",
       "[64 rows x 17 columns]"
      ]
     },
     "execution_count": 21,
     "metadata": {},
     "output_type": "execute_result"
    }
   ],
   "source": [
    "# columns=['url',\n",
    "#  'address',\n",
    "#  'name',\n",
    "#  'online_order',\n",
    "#  'book_table',\n",
    "#  'rate',\n",
    "#  'votes',\n",
    "#  'phone',\n",
    "#  'location',\n",
    "#  'rest_type',\n",
    "#  'dish_liked',\n",
    "#  'cuisines',\n",
    "#  'cost_two_person',\n",
    "#  'reviews_list',\n",
    "#  'menu_item',\n",
    "#  'service_type',\n",
    "#  'registered_city']\n",
    "columns=[ 'address',\n",
    " 'name',\n",
    " 'online_order',\n",
    " 'book_table',\n",
    " 'rate',\n",
    " 'votes',\n",
    " 'phone',\n",
    " 'location',\n",
    " 'rest_type',\n",
    " 'dish_liked',\n",
    " 'cuisines',\n",
    " 'cost_two_person',\n",
    " 'reviews_list',\n",
    " 'menu_item',\n",
    " 'service_type','registered_city']\n",
    "duplicates = df.duplicated(subset=columns, keep=False)\n",
    "duplicated_rows = df[duplicates]\n",
    "duplicated_rows.sort_values(['name','rate','service_type'])"
   ]
  },
  {
   "cell_type": "code",
   "execution_count": 22,
   "metadata": {
    "ExecuteTime": {
     "end_time": "2020-08-25T05:25:29.267315Z",
     "start_time": "2020-08-25T05:25:29.258339Z"
    }
   },
   "outputs": [
    {
     "name": "stdout",
     "output_type": "stream",
     "text": [
      "https://www.zomato.com/bangalore/andhra-express-cv-raman-nagar-bangalore?context=eyJzZSI6eyJlIjpbIjE4NTA0NjU1IiwiMTg4MjU0NTQiLCIxODkzNTA4NSIsIjE4NzYzNzcyIiwxODg5Njg2NCwiMTg5MjIxOTYiLCIxODI0NjUwMCIsIjE4OTU5NDI5IiwiNTQ5NjMiLCIxODc4NTA5OCIsIjE4NzE2MzEwIiwiNTQzMzQiLCIxODY4NDc1MiIsIjE4NjYzNjEzIiwiNTM3ODQiXSwidCI6IkRlbGl2ZXJ5IFJlc3RhdXJhbnRzIGluIE1hcmF0aGFoYWxsaSJ9fQ==\n",
      "\n",
      "\n",
      "https://www.zomato.com/bangalore/andhra-express-cv-raman-nagar-bangalore?context=eyJzZSI6eyJlIjpbIjE4OTM1MDg1IiwiMTg3NjM3NzIiLCIxODY2MzYxMyIsIjUzNzg0IiwxODg5Njg2NCwiMTg5MjIxOTYiLCIxODc4NTA5OCIsIjE4MjQ2NTAwIiwiMTg5NTk0MjkiLCI1NDk2MyIsIjE4NzE2MzEwIiwiNTQzMzQiLCIxODY4NDc1MiIsIjE4NzkwNTQ4IiwiMTg4MjU3MDIiXSwidCI6IkRlbGl2ZXJ5IFJlc3RhdXJhbnRzIGluIE1hcmF0aGFoYWxsaSJ9fQ==\n"
     ]
    }
   ],
   "source": [
    "#Pembuktian bahwa semua kolom sama kecuali URL\n",
    "print(df.loc[41402,'url'])\n",
    "print('\\n')\n",
    "print(df.loc[41404,'url'])"
   ]
  },
  {
   "cell_type": "markdown",
   "metadata": {},
   "source": [
    "##### Ketika dilakukan check duplicates terdapat indikasi duplicates rows tetapi ada kemungkinan bahwa restoran name sampai dengan rating memiliki informasi yang sama namun memiliki url yang berbeda dan dapat diasumsikan bahwa restaurant tersebut merupakan restaurant yang sama namun pada saat meng-update url restaurant, sistem zomato tidak mereplace url, melainkan sistem hanya mengintegrasikan data lainnya."
   ]
  },
  {
   "cell_type": "code",
   "execution_count": 23,
   "metadata": {
    "ExecuteTime": {
     "end_time": "2020-08-25T05:25:29.277288Z",
     "start_time": "2020-08-25T05:25:29.270308Z"
    }
   },
   "outputs": [
    {
     "data": {
      "text/plain": [
       "['address',\n",
       " 'name',\n",
       " 'online_order',\n",
       " 'book_table',\n",
       " 'rate',\n",
       " 'votes',\n",
       " 'phone',\n",
       " 'location',\n",
       " 'rest_type',\n",
       " 'dish_liked',\n",
       " 'cuisines',\n",
       " 'cost_two_person',\n",
       " 'reviews_list',\n",
       " 'menu_item',\n",
       " 'service_type',\n",
       " 'registered_city']"
      ]
     },
     "execution_count": 23,
     "metadata": {},
     "output_type": "execute_result"
    }
   ],
   "source": [
    "columns"
   ]
  },
  {
   "cell_type": "markdown",
   "metadata": {},
   "source": [
    "## 2. Exploratory Data Analysis"
   ]
  },
  {
   "cell_type": "markdown",
   "metadata": {},
   "source": [
    "### a ) Melihat jumlah restaurant bedasarkan rating"
   ]
  },
  {
   "cell_type": "code",
   "execution_count": 24,
   "metadata": {
    "ExecuteTime": {
     "end_time": "2020-08-25T05:25:29.723137Z",
     "start_time": "2020-08-25T05:25:29.280281Z"
    }
   },
   "outputs": [
    {
     "data": {
      "image/png": "[encoded data removed]",
      "text/plain": [
       "<Figure size 864x576 with 1 Axes>"
      ]
     },
     "metadata": {
      "needs_background": "light"
     },
     "output_type": "display_data"
    }
   ],
   "source": [
    "%matplotlib inline\n",
    "plt.figure(figsize=(12,8))\n",
    "sns.countplot(df['rate'])\n",
    "plt.savefig(\"Jumlah restaurant bedasarkan rating\");"
   ]
  },
  {
   "cell_type": "markdown",
   "metadata": {},
   "source": [
    "### b )  Normal Test pada feature ``rate``"
   ]
  },
  {
   "cell_type": "code",
   "execution_count": 25,
   "metadata": {
    "ExecuteTime": {
     "end_time": "2020-08-25T05:25:29.737098Z",
     "start_time": "2020-08-25T05:25:29.725128Z"
    }
   },
   "outputs": [
    {
     "name": "stdout",
     "output_type": "stream",
     "text": [
      "p = nan\n",
      "The null hypothesis cannot be rejected\n"
     ]
    }
   ],
   "source": [
    "k2, p = stats.normaltest(df['rate'])\n",
    "alpha = 1e-3\n",
    "print(\"p = {:g}\".format(p))\n",
    "\n",
    "if p < alpha:  # null hypothesis: x comes from a normal distribution\n",
    "    print(\"The null hypothesis can be rejected\")\n",
    "else:\n",
    "    print(\"The null hypothesis cannot be rejected\")"
   ]
  },
  {
   "cell_type": "markdown",
   "metadata": {
    "ExecuteTime": {
     "end_time": "2020-08-06T11:59:57.032235Z",
     "start_time": "2020-08-06T11:59:56.984959Z"
    }
   },
   "source": [
    "#### Bedasarkan perhitungan normal test dapat diartikan bahwa feature ``rate`` terdistribusi secara normal"
   ]
  },
  {
   "cell_type": "markdown",
   "metadata": {},
   "source": [
    "### c) Melihat jumlah antara restoran yang menyediakan booking pemesanan secara online dan tidak "
   ]
  },
  {
   "cell_type": "code",
   "execution_count": 26,
   "metadata": {
    "ExecuteTime": {
     "end_time": "2020-08-25T05:25:29.746074Z",
     "start_time": "2020-08-25T05:25:29.739093Z"
    }
   },
   "outputs": [],
   "source": [
    "label_book = df['book_table'].unique().tolist()"
   ]
  },
  {
   "cell_type": "code",
   "execution_count": 27,
   "metadata": {
    "ExecuteTime": {
     "end_time": "2020-08-25T05:25:29.807780Z",
     "start_time": "2020-08-25T05:25:29.748067Z"
    },
    "scrolled": true
   },
   "outputs": [
    {
     "data": {
      "text/plain": [
       "book_table\n",
       "Yes     6433\n",
       "No     37498\n",
       "Name: name, dtype: int64"
      ]
     },
     "execution_count": 27,
     "metadata": {},
     "output_type": "execute_result"
    }
   ],
   "source": [
    "df_total_book_table = df.groupby(by=\"book_table\").count().sort_values('name',ascending=True)['name']\n",
    "df_total_book_table\n"
   ]
  },
  {
   "cell_type": "code",
   "execution_count": 28,
   "metadata": {
    "ExecuteTime": {
     "end_time": "2020-08-25T05:25:29.916487Z",
     "start_time": "2020-08-25T05:25:29.809771Z"
    }
   },
   "outputs": [
    {
     "data": {
      "image/png": "[encoded data removed]",
      "text/plain": [
       "<Figure size 720x576 with 1 Axes>"
      ]
     },
     "metadata": {},
     "output_type": "display_data"
    }
   ],
   "source": [
    "colors = [\"lightcoral\",\"lightskyblue\"]\n",
    "plt.figure(figsize=(10,8))\n",
    "plt.pie(df_total_book_table, labels=label_book,autopct = '%.2f',colors=colors,shadow=True,startangle=140)\n",
    "plt.axis('equal') #bentuk lingkaran\n",
    "plt.savefig(\"jumlah antara restoran yang menyediakan booking pemesanan secara online dan tidak\");"
   ]
  },
  {
   "cell_type": "code",
   "execution_count": 29,
   "metadata": {
    "ExecuteTime": {
     "end_time": "2020-08-25T05:25:30.057763Z",
     "start_time": "2020-08-25T05:25:29.918481Z"
    }
   },
   "outputs": [
    {
     "data": {
      "image/png": "[encoded data removed]",
      "text/plain": [
       "<Figure size 864x720 with 1 Axes>"
      ]
     },
     "metadata": {
      "needs_background": "light"
     },
     "output_type": "display_data"
    }
   ],
   "source": [
    "%matplotlib inline\n",
    "plt.figure(figsize=(12,10))\n",
    "sns.countplot(df['book_table'])\n",
    "plt.xticks(rotation=90);"
   ]
  },
  {
   "cell_type": "markdown",
   "metadata": {},
   "source": [
    "##### Pada diagram bisa disimpulkan bahwa sekitar 85% restaurant di  Bangalore tidak menyediakan layanan reservasi tempat"
   ]
  },
  {
   "cell_type": "markdown",
   "metadata": {},
   "source": [
    "### d) Melihat hubungan  antara restoran yang menyediakan reservasi tempat terhadap rating"
   ]
  },
  {
   "cell_type": "code",
   "execution_count": 30,
   "metadata": {
    "ExecuteTime": {
     "end_time": "2020-08-25T05:25:30.252226Z",
     "start_time": "2020-08-25T05:25:30.059739Z"
    }
   },
   "outputs": [
    {
     "data": {
      "image/png": "[encoded data removed]",
      "text/plain": [
       "<Figure size 864x576 with 1 Axes>"
      ]
     },
     "metadata": {
      "needs_background": "light"
     },
     "output_type": "display_data"
    }
   ],
   "source": [
    "\n",
    "plt.figure(figsize=(12,8))\n",
    "sns.boxplot(x='book_table',y=\"rate\" ,data=df,whis=(0,100));"
   ]
  },
  {
   "cell_type": "code",
   "execution_count": 31,
   "metadata": {
    "ExecuteTime": {
     "end_time": "2020-08-25T05:25:30.565387Z",
     "start_time": "2020-08-25T05:25:30.254220Z"
    }
   },
   "outputs": [
    {
     "data": {
      "image/png": "[encoded data removed]",
      "text/plain": [
       "<Figure size 864x576 with 1 Axes>"
      ]
     },
     "metadata": {
      "needs_background": "light"
     },
     "output_type": "display_data"
    }
   ],
   "source": [
    "plt.figure(figsize=(12,8))\n",
    "sns.distplot(df[df['book_table']=='Yes']['rate'],hist=False,label=\"Booking available\")\n",
    "sns.distplot(df[df['book_table']=='No']['rate'],hist=False,label=\"Booking not available\")\n",
    "plt.savefig(\"Hubungan antara restoran yang menyediakan reservasi tempat terhadap rating\");\n",
    "# sns.distplot('rate',df[df['book_table']=='No'],hist=False)\n"
   ]
  },
  {
   "cell_type": "markdown",
   "metadata": {},
   "source": [
    "Dari diagram diatas bisa ditunjukan bahwa resto yang menyediakan reservasi online memiliki rating yang lebih baik dari restoran yang tidak menyediakan reservasi secara online, kesimpulannya yaitu jika ingin membuka sebuah restoran di Bangalore disarankan untuk menyediakan jasa reservasi table secara online karena kemungkinan besar akan mempengaruhi rating"
   ]
  },
  {
   "cell_type": "markdown",
   "metadata": {},
   "source": [
    "### e) Melihat Jumlah antara restoran yang menyediakan booking pemesanan secara online dan tidak "
   ]
  },
  {
   "cell_type": "code",
   "execution_count": 32,
   "metadata": {
    "ExecuteTime": {
     "end_time": "2020-08-25T05:25:30.576358Z",
     "start_time": "2020-08-25T05:25:30.567381Z"
    }
   },
   "outputs": [
    {
     "data": {
      "text/plain": [
       "['Yes', 'No']"
      ]
     },
     "execution_count": 32,
     "metadata": {},
     "output_type": "execute_result"
    }
   ],
   "source": [
    "labels = df['online_order'].unique().tolist()\n",
    "labels\n"
   ]
  },
  {
   "cell_type": "code",
   "execution_count": 33,
   "metadata": {
    "ExecuteTime": {
     "end_time": "2020-08-25T05:25:30.643179Z",
     "start_time": "2020-08-25T05:25:30.578351Z"
    }
   },
   "outputs": [
    {
     "data": {
      "text/plain": [
       "online_order\n",
       "Yes    28300\n",
       "No     15631\n",
       "Name: name, dtype: int64"
      ]
     },
     "execution_count": 33,
     "metadata": {},
     "output_type": "execute_result"
    }
   ],
   "source": [
    "df_total_online_order = df.groupby(by=\"online_order\").count().sort_values('online_order',ascending=False)['name']\n",
    "df_total_online_order"
   ]
  },
  {
   "cell_type": "code",
   "execution_count": 34,
   "metadata": {
    "ExecuteTime": {
     "end_time": "2020-08-25T05:25:30.654150Z",
     "start_time": "2020-08-25T05:25:30.645175Z"
    }
   },
   "outputs": [
    {
     "data": {
      "text/plain": [
       "['Yes', 'No']"
      ]
     },
     "execution_count": 34,
     "metadata": {},
     "output_type": "execute_result"
    }
   ],
   "source": [
    "labels = df['online_order'].unique().tolist()\n",
    "labels"
   ]
  },
  {
   "cell_type": "code",
   "execution_count": 35,
   "metadata": {
    "ExecuteTime": {
     "end_time": "2020-08-25T05:25:30.768843Z",
     "start_time": "2020-08-25T05:25:30.656145Z"
    }
   },
   "outputs": [
    {
     "data": {
      "text/plain": [
       "''"
      ]
     },
     "execution_count": 35,
     "metadata": {},
     "output_type": "execute_result"
    },
    {
     "data": {
      "image/png": "[encoded data removed]",
      "text/plain": [
       "<Figure size 720x576 with 1 Axes>"
      ]
     },
     "metadata": {},
     "output_type": "display_data"
    }
   ],
   "source": [
    "colors = [\"lightcoral\",\"lightskyblue\"]\n",
    "plt.figure(figsize=(10,8))\n",
    "plt.pie(df_total_online_order, labels=labels,autopct = '%.2f',colors=colors,shadow=True,startangle=140)\n",
    "plt.axis('equal') #bentuk lingkaran\n",
    "plt.savefig(\"Jumlah antara restoran yang menyediakan booking pemesanan secara online dan tidak\")\n",
    ";"
   ]
  },
  {
   "cell_type": "code",
   "execution_count": 36,
   "metadata": {
    "ExecuteTime": {
     "end_time": "2020-08-25T05:25:30.823695Z",
     "start_time": "2020-08-25T05:25:30.770837Z"
    }
   },
   "outputs": [
    {
     "data": {
      "text/plain": [
       "online_order\n",
       "No     15631\n",
       "Yes    28300\n",
       "Name: url, dtype: int64"
      ]
     },
     "execution_count": 36,
     "metadata": {},
     "output_type": "execute_result"
    }
   ],
   "source": [
    "df_total_online = df.groupby(by=\"online_order\").count()['url']\n",
    "df_total_online"
   ]
  },
  {
   "cell_type": "code",
   "execution_count": 37,
   "metadata": {
    "ExecuteTime": {
     "end_time": "2020-08-25T05:25:30.982272Z",
     "start_time": "2020-08-25T05:25:30.825692Z"
    }
   },
   "outputs": [
    {
     "data": {
      "image/png": "[encoded data removed]",
      "text/plain": [
       "<Figure size 864x720 with 1 Axes>"
      ]
     },
     "metadata": {
      "needs_background": "light"
     },
     "output_type": "display_data"
    }
   ],
   "source": [
    "%matplotlib inline\n",
    "plt.figure(figsize=(12,10))\n",
    "sns.countplot(df['online_order'])\n",
    "plt.xticks(rotation=90);"
   ]
  },
  {
   "cell_type": "markdown",
   "metadata": {},
   "source": [
    "1. Bedasarkan diagram diatas dapat disimpulkan bahwa restoran yang menyediakan jasa online order memiliki proporsi sekitar 64%\n",
    "2. Sedangkan proporsi restaurant yang tidak menyediakan jasa online order memiliki proporsi 36%\n"
   ]
  },
  {
   "cell_type": "markdown",
   "metadata": {},
   "source": [
    "### f) Melihat pengaruh ``online order`` terhadap rating restaurant"
   ]
  },
  {
   "cell_type": "code",
   "execution_count": 38,
   "metadata": {
    "ExecuteTime": {
     "end_time": "2020-08-25T05:25:31.179745Z",
     "start_time": "2020-08-25T05:25:30.985264Z"
    }
   },
   "outputs": [
    {
     "data": {
      "image/png": "[encoded data removed]",
      "text/plain": [
       "<Figure size 864x576 with 1 Axes>"
      ]
     },
     "metadata": {
      "needs_background": "light"
     },
     "output_type": "display_data"
    }
   ],
   "source": [
    "plt.figure(figsize=(12,8))\n",
    "sns.boxplot(x=\"online_order\",y=\"rate\",data=df,whis=(0,100));"
   ]
  },
  {
   "cell_type": "code",
   "execution_count": 39,
   "metadata": {
    "ExecuteTime": {
     "end_time": "2020-08-25T05:25:31.599621Z",
     "start_time": "2020-08-25T05:25:31.182735Z"
    }
   },
   "outputs": [
    {
     "data": {
      "image/png": "[encoded data removed]",
      "text/plain": [
       "<Figure size 864x576 with 1 Axes>"
      ]
     },
     "metadata": {
      "needs_background": "light"
     },
     "output_type": "display_data"
    }
   ],
   "source": [
    "plt.figure(figsize=(12,8))\n",
    "sns.distplot(df[df['online_order']=='Yes']['rate'],hist=False,label=\"Available online order\")\n",
    "sns.distplot(df[df['online_order']=='No']['rate'],hist=False,label=\"Not Available online order\")\n",
    "plt.savefig(\"Melihat pengaruh online order terhadap rating restaurant\");"
   ]
  },
  {
   "cell_type": "code",
   "execution_count": 40,
   "metadata": {
    "ExecuteTime": {
     "end_time": "2020-08-25T05:25:31.618570Z",
     "start_time": "2020-08-25T05:25:31.602613Z"
    }
   },
   "outputs": [
    {
     "data": {
      "text/plain": [
       "Yes    28300\n",
       "No     15631\n",
       "Name: online_order, dtype: int64"
      ]
     },
     "execution_count": 40,
     "metadata": {},
     "output_type": "execute_result"
    }
   ],
   "source": [
    "df['online_order'].value_counts()"
   ]
  },
  {
   "cell_type": "markdown",
   "metadata": {},
   "source": [
    "Bisa disimpulkan bahwa rating restoran belum tentu naik meskipun tersedia layanan online order, karena bisa dilihat pada grafik distribusi rating antara **available online order** dan **not availble online order** "
   ]
  },
  {
   "cell_type": "markdown",
   "metadata": {},
   "source": [
    "### g ) Melihat jumlah restaurant bedasarkan feature ``cost_two_person``"
   ]
  },
  {
   "cell_type": "code",
   "execution_count": 41,
   "metadata": {
    "ExecuteTime": {
     "end_time": "2020-08-25T05:25:32.942339Z",
     "start_time": "2020-08-25T05:25:31.621562Z"
    }
   },
   "outputs": [
    {
     "data": {
      "image/png": "[encoded data removed]",
      "text/plain": [
       "<Figure size 864x720 with 1 Axes>"
      ]
     },
     "metadata": {
      "needs_background": "light"
     },
     "output_type": "display_data"
    }
   ],
   "source": [
    "%matplotlib inline\n",
    "plt.figure(figsize=(12,10))\n",
    "sns.countplot(df['cost_two_person'])\n",
    "plt.xticks(rotation=90)\n",
    "plt.savefig(\"jumlah restaurant bedasarkan feature cost_two_person\");\n"
   ]
  },
  {
   "cell_type": "markdown",
   "metadata": {},
   "source": [
    "### h )  Normal Test pada feature ``cost_two_person``"
   ]
  },
  {
   "cell_type": "code",
   "execution_count": 42,
   "metadata": {
    "ExecuteTime": {
     "end_time": "2020-08-25T05:25:32.955304Z",
     "start_time": "2020-08-25T05:25:32.944296Z"
    },
    "scrolled": true
   },
   "outputs": [
    {
     "name": "stdout",
     "output_type": "stream",
     "text": [
      "p = nan\n",
      "The null hypothesis cannot be rejected\n"
     ]
    }
   ],
   "source": [
    "k2, p = stats.normaltest(df['cost_two_person'])\n",
    "alpha = 1e-3\n",
    "print(\"p = {:g}\".format(p))\n",
    "\n",
    "if p < alpha:  # null hypothesis: x comes from a normal distribution\n",
    "    print(\"The null hypothesis can be rejected\")\n",
    "else:\n",
    "    print(\"The null hypothesis cannot be rejected\")"
   ]
  },
  {
   "cell_type": "markdown",
   "metadata": {},
   "source": [
    "Bedasarkan perhitungan normal test dapat diartikan bahwa feature ``cost_two_person`` tidak terdistribusi secara normal"
   ]
  },
  {
   "cell_type": "markdown",
   "metadata": {},
   "source": [
    "### i )  Hubungan antara  ``cost_two_person`` dengan `` rating``"
   ]
  },
  {
   "cell_type": "code",
   "execution_count": 43,
   "metadata": {
    "ExecuteTime": {
     "end_time": "2020-08-25T05:25:33.419636Z",
     "start_time": "2020-08-25T05:25:32.957262Z"
    }
   },
   "outputs": [
    {
     "data": {
      "image/png": "[encoded data removed]",
      "text/plain": [
       "<Figure size 1080x576 with 1 Axes>"
      ]
     },
     "metadata": {
      "needs_background": "light"
     },
     "output_type": "display_data"
    }
   ],
   "source": [
    "plt.figure(figsize=(15,8))\n",
    "sns.scatterplot(x=\"cost_two_person\",y=\"rate\",data=df)\n",
    "plt.xticks(rotation=90)\n",
    "plt.savefig(\"Hubungan antara cost_two_person dengan rating\");"
   ]
  },
  {
   "cell_type": "markdown",
   "metadata": {},
   "source": [
    "bisa disimpulkan bahwa restaurant yang berharga kisaran 0 - 2000 memiliki rating yang beragagam, sedangkan untuk restaurant yang berharga kisaran dimulai dari 3000 memiliki rating diatas 3"
   ]
  },
  {
   "cell_type": "markdown",
   "metadata": {},
   "source": [
    "### j ) Menampilkan 25 restaurant yang memiliki rating teratas"
   ]
  },
  {
   "cell_type": "code",
   "execution_count": 44,
   "metadata": {
    "ExecuteTime": {
     "end_time": "2020-08-25T05:25:33.462802Z",
     "start_time": "2020-08-25T05:25:33.421631Z"
    }
   },
   "outputs": [],
   "source": [
    "top_25_restaurant_by_rate= df.groupby(by=\"name\").mean().sort_values('rate',ascending=False).reset_index().head(25)\n",
    "top_25_restaurant_by_rate['name'].replace('SantÃ\\x83Â\\x83Ã\\x82Â\\x83Ã\\x83Â\\x82Ã\\x82Â\\x83Ã\\x83Â\\x83Ã\\x82Â\\x82Ã\\x83Â\\x82Ã\\x82Â\\x83Ã\\x83Â\\x83Ã\\x82Â\\x83Ã\\x83Â\\x82Ã\\x82Â\\x82Ã\\x83Â\\x83Ã\\x82Â\\x82Ã\\x83Â\\x82Ã\\x82Â© Spa Cuisine','Spa Cuisine',inplace=True)"
   ]
  },
  {
   "cell_type": "code",
   "execution_count": 45,
   "metadata": {
    "ExecuteTime": {
     "end_time": "2020-08-25T05:25:33.960325Z",
     "start_time": "2020-08-25T05:25:33.466519Z"
    }
   },
   "outputs": [
    {
     "data": {
      "image/png": "[encoded data removed]",
      "text/plain": [
       "<Figure size 720x720 with 1 Axes>"
      ]
     },
     "metadata": {
      "needs_background": "light"
     },
     "output_type": "display_data"
    }
   ],
   "source": [
    "%matplotlib inline\n",
    "plt.figure(figsize=(10, 10))\n",
    "# sns.load_dataset(\"top_25_restaurant_by_rate\")\n",
    "sns.barplot(y=\"name\", x=\"rate\", data=top_25_restaurant_by_rate)\n",
    "plt.title(\"25 Tops Restaurant by Rating\")\n",
    "plt.savefig(\"25 Tops Restaurant by Rating\");"
   ]
  },
  {
   "cell_type": "markdown",
   "metadata": {},
   "source": [
    "### k ) Menampilkan 25 restaurant yang memiliki rating terbawah"
   ]
  },
  {
   "cell_type": "code",
   "execution_count": 46,
   "metadata": {
    "ExecuteTime": {
     "end_time": "2020-08-25T05:25:34.025153Z",
     "start_time": "2020-08-25T05:25:33.962321Z"
    },
    "scrolled": false
   },
   "outputs": [
    {
     "data": {
      "text/html": [
       "<div>\n",
       "<style scoped>\n",
       "    .dataframe tbody tr th:only-of-type {\n",
       "        vertical-align: middle;\n",
       "    }\n",
       "\n",
       "    .dataframe tbody tr th {\n",
       "        vertical-align: top;\n",
       "    }\n",
       "\n",
       "    .dataframe thead th {\n",
       "        text-align: right;\n",
       "    }\n",
       "</style>\n",
       "<table border=\"1\" class=\"dataframe\">\n",
       "  <thead>\n",
       "    <tr style=\"text-align: right;\">\n",
       "      <th></th>\n",
       "      <th>name</th>\n",
       "      <th>rate</th>\n",
       "      <th>votes</th>\n",
       "      <th>cost_two_person</th>\n",
       "    </tr>\n",
       "  </thead>\n",
       "  <tbody>\n",
       "    <tr>\n",
       "      <th>0</th>\n",
       "      <td>Alibi - Maya International Hotel</td>\n",
       "      <td>1.800000</td>\n",
       "      <td>224.600000</td>\n",
       "      <td>1200.0</td>\n",
       "    </tr>\n",
       "    <tr>\n",
       "      <th>1</th>\n",
       "      <td>Fusion Lounge</td>\n",
       "      <td>2.000000</td>\n",
       "      <td>397.000000</td>\n",
       "      <td>1500.0</td>\n",
       "    </tr>\n",
       "    <tr>\n",
       "      <th>2</th>\n",
       "      <td>Decker's Lane</td>\n",
       "      <td>2.100000</td>\n",
       "      <td>242.500000</td>\n",
       "      <td>400.0</td>\n",
       "    </tr>\n",
       "    <tr>\n",
       "      <th>3</th>\n",
       "      <td>Bageecha</td>\n",
       "      <td>2.150000</td>\n",
       "      <td>479.000000</td>\n",
       "      <td>650.0</td>\n",
       "    </tr>\n",
       "    <tr>\n",
       "      <th>4</th>\n",
       "      <td>Mamma Mexicana</td>\n",
       "      <td>2.200000</td>\n",
       "      <td>407.384615</td>\n",
       "      <td>1000.0</td>\n",
       "    </tr>\n",
       "    <tr>\n",
       "      <th>5</th>\n",
       "      <td>Taste Of Kerala</td>\n",
       "      <td>2.240000</td>\n",
       "      <td>48.000000</td>\n",
       "      <td>600.0</td>\n",
       "    </tr>\n",
       "    <tr>\n",
       "      <th>6</th>\n",
       "      <td>Bhagini</td>\n",
       "      <td>2.283333</td>\n",
       "      <td>140.250000</td>\n",
       "      <td>800.0</td>\n",
       "    </tr>\n",
       "    <tr>\n",
       "      <th>7</th>\n",
       "      <td>Meghana Biryani</td>\n",
       "      <td>2.300000</td>\n",
       "      <td>237.000000</td>\n",
       "      <td>800.0</td>\n",
       "    </tr>\n",
       "    <tr>\n",
       "      <th>8</th>\n",
       "      <td>Vande Matharam</td>\n",
       "      <td>2.300000</td>\n",
       "      <td>179.000000</td>\n",
       "      <td>500.0</td>\n",
       "    </tr>\n",
       "    <tr>\n",
       "      <th>9</th>\n",
       "      <td>Biryani Junction</td>\n",
       "      <td>2.300000</td>\n",
       "      <td>298.000000</td>\n",
       "      <td>450.0</td>\n",
       "    </tr>\n",
       "    <tr>\n",
       "      <th>10</th>\n",
       "      <td>Midnight Hunger Solutions 24/7</td>\n",
       "      <td>2.358333</td>\n",
       "      <td>192.333333</td>\n",
       "      <td>500.0</td>\n",
       "    </tr>\n",
       "    <tr>\n",
       "      <th>11</th>\n",
       "      <td>Mast Kalandar</td>\n",
       "      <td>2.376667</td>\n",
       "      <td>300.066667</td>\n",
       "      <td>450.0</td>\n",
       "    </tr>\n",
       "    <tr>\n",
       "      <th>12</th>\n",
       "      <td>Nakkala's Food Hunt</td>\n",
       "      <td>2.400000</td>\n",
       "      <td>135.000000</td>\n",
       "      <td>600.0</td>\n",
       "    </tr>\n",
       "    <tr>\n",
       "      <th>13</th>\n",
       "      <td>Punjabi Daawat</td>\n",
       "      <td>2.400000</td>\n",
       "      <td>221.000000</td>\n",
       "      <td>550.0</td>\n",
       "    </tr>\n",
       "    <tr>\n",
       "      <th>14</th>\n",
       "      <td>Zaika Take Away</td>\n",
       "      <td>2.400000</td>\n",
       "      <td>96.000000</td>\n",
       "      <td>500.0</td>\n",
       "    </tr>\n",
       "    <tr>\n",
       "      <th>15</th>\n",
       "      <td>The Baker's</td>\n",
       "      <td>2.400000</td>\n",
       "      <td>32.000000</td>\n",
       "      <td>500.0</td>\n",
       "    </tr>\n",
       "    <tr>\n",
       "      <th>16</th>\n",
       "      <td>Raenss Cafe</td>\n",
       "      <td>2.400000</td>\n",
       "      <td>128.166667</td>\n",
       "      <td>600.0</td>\n",
       "    </tr>\n",
       "    <tr>\n",
       "      <th>17</th>\n",
       "      <td>Knight Riders</td>\n",
       "      <td>2.400000</td>\n",
       "      <td>25.000000</td>\n",
       "      <td>1000.0</td>\n",
       "    </tr>\n",
       "    <tr>\n",
       "      <th>18</th>\n",
       "      <td>Imperia Restaurant</td>\n",
       "      <td>2.450000</td>\n",
       "      <td>127.000000</td>\n",
       "      <td>500.0</td>\n",
       "    </tr>\n",
       "    <tr>\n",
       "      <th>19</th>\n",
       "      <td>Woody's</td>\n",
       "      <td>2.480000</td>\n",
       "      <td>236.850000</td>\n",
       "      <td>650.0</td>\n",
       "    </tr>\n",
       "    <tr>\n",
       "      <th>20</th>\n",
       "      <td>Gold Bean</td>\n",
       "      <td>2.500000</td>\n",
       "      <td>113.000000</td>\n",
       "      <td>550.0</td>\n",
       "    </tr>\n",
       "    <tr>\n",
       "      <th>21</th>\n",
       "      <td>Hotel Hyperdine</td>\n",
       "      <td>2.500000</td>\n",
       "      <td>66.000000</td>\n",
       "      <td>350.0</td>\n",
       "    </tr>\n",
       "    <tr>\n",
       "      <th>22</th>\n",
       "      <td>Grills &amp; Rolls</td>\n",
       "      <td>2.500000</td>\n",
       "      <td>321.000000</td>\n",
       "      <td>400.0</td>\n",
       "    </tr>\n",
       "    <tr>\n",
       "      <th>23</th>\n",
       "      <td>Halli Kitchen</td>\n",
       "      <td>2.500000</td>\n",
       "      <td>63.000000</td>\n",
       "      <td>300.0</td>\n",
       "    </tr>\n",
       "    <tr>\n",
       "      <th>24</th>\n",
       "      <td>Spotlight - The Golden Tulip</td>\n",
       "      <td>2.500000</td>\n",
       "      <td>118.000000</td>\n",
       "      <td>850.0</td>\n",
       "    </tr>\n",
       "  </tbody>\n",
       "</table>\n",
       "</div>"
      ],
      "text/plain": [
       "                                name      rate       votes  cost_two_person\n",
       "0   Alibi - Maya International Hotel  1.800000  224.600000           1200.0\n",
       "1                      Fusion Lounge  2.000000  397.000000           1500.0\n",
       "2                      Decker's Lane  2.100000  242.500000            400.0\n",
       "3                           Bageecha  2.150000  479.000000            650.0\n",
       "4                     Mamma Mexicana  2.200000  407.384615           1000.0\n",
       "5                    Taste Of Kerala  2.240000   48.000000            600.0\n",
       "6                            Bhagini  2.283333  140.250000            800.0\n",
       "7                    Meghana Biryani  2.300000  237.000000            800.0\n",
       "8                     Vande Matharam  2.300000  179.000000            500.0\n",
       "9                   Biryani Junction  2.300000  298.000000            450.0\n",
       "10    Midnight Hunger Solutions 24/7  2.358333  192.333333            500.0\n",
       "11                     Mast Kalandar  2.376667  300.066667            450.0\n",
       "12               Nakkala's Food Hunt  2.400000  135.000000            600.0\n",
       "13                    Punjabi Daawat  2.400000  221.000000            550.0\n",
       "14                   Zaika Take Away  2.400000   96.000000            500.0\n",
       "15                       The Baker's  2.400000   32.000000            500.0\n",
       "16                       Raenss Cafe  2.400000  128.166667            600.0\n",
       "17                     Knight Riders  2.400000   25.000000           1000.0\n",
       "18                Imperia Restaurant  2.450000  127.000000            500.0\n",
       "19                           Woody's  2.480000  236.850000            650.0\n",
       "20                         Gold Bean  2.500000  113.000000            550.0\n",
       "21                   Hotel Hyperdine  2.500000   66.000000            350.0\n",
       "22                    Grills & Rolls  2.500000  321.000000            400.0\n",
       "23                     Halli Kitchen  2.500000   63.000000            300.0\n",
       "24      Spotlight - The Golden Tulip  2.500000  118.000000            850.0"
      ]
     },
     "execution_count": 46,
     "metadata": {},
     "output_type": "execute_result"
    }
   ],
   "source": [
    "lowest_25_restaurant_by_rate= df[df['rate']>0].groupby(by=\"name\").mean().sort_values('rate',ascending=True).reset_index().head(25)\n",
    "lowest_25_restaurant_by_rate['name'].replace('SantÃ\\x83Â\\x83Ã\\x82Â\\x83Ã\\x83Â\\x82Ã\\x82Â\\x83Ã\\x83Â\\x83Ã\\x82Â\\x82Ã\\x83Â\\x82Ã\\x82Â\\x83Ã\\x83Â\\x83Ã\\x82Â\\x83Ã\\x83Â\\x82Ã\\x82Â\\x82Ã\\x83Â\\x83Ã\\x82Â\\x82Ã\\x83Â\\x82Ã\\x82Â© Spa Cuisine','Spa Cuisine',inplace=True)\n",
    "lowest_25_restaurant_by_rate"
   ]
  },
  {
   "cell_type": "code",
   "execution_count": 47,
   "metadata": {
    "ExecuteTime": {
     "end_time": "2020-08-25T05:25:34.468236Z",
     "start_time": "2020-08-25T05:25:34.027149Z"
    }
   },
   "outputs": [
    {
     "data": {
      "image/png": "[encoded data removed]",
      "text/plain": [
       "<Figure size 864x720 with 1 Axes>"
      ]
     },
     "metadata": {
      "needs_background": "light"
     },
     "output_type": "display_data"
    }
   ],
   "source": [
    "plt.figure(figsize=(12, 10))\n",
    "# sns.load_dataset(\"top_25_restaurant_by_rate\")\n",
    "sns.barplot(y=\"name\", x=\"rate\", data=lowest_25_restaurant_by_rate.sort_values('rate',ascending=False))\n",
    "plt.title(\"25 Lowest Rating Restaurant (Excluding 0 Rating)\",fontsize=18)\n",
    "plt.savefig(\"25 Lowest Rating Restaurant (Excluding 0 Rating)\");"
   ]
  },
  {
   "cell_type": "markdown",
   "metadata": {},
   "source": [
    "### l ) Menampilkan 25 restaurant yang memiliki rating teratas bedasarkan ``location``"
   ]
  },
  {
   "cell_type": "code",
   "execution_count": 48,
   "metadata": {
    "ExecuteTime": {
     "end_time": "2020-08-25T05:25:34.533029Z",
     "start_time": "2020-08-25T05:25:34.470195Z"
    }
   },
   "outputs": [
    {
     "data": {
      "text/html": [
       "<div>\n",
       "<style scoped>\n",
       "    .dataframe tbody tr th:only-of-type {\n",
       "        vertical-align: middle;\n",
       "    }\n",
       "\n",
       "    .dataframe tbody tr th {\n",
       "        vertical-align: top;\n",
       "    }\n",
       "\n",
       "    .dataframe thead th {\n",
       "        text-align: right;\n",
       "    }\n",
       "</style>\n",
       "<table border=\"1\" class=\"dataframe\">\n",
       "  <thead>\n",
       "    <tr style=\"text-align: right;\">\n",
       "      <th></th>\n",
       "      <th>location</th>\n",
       "      <th>rate</th>\n",
       "      <th>votes</th>\n",
       "      <th>cost_two_person</th>\n",
       "    </tr>\n",
       "  </thead>\n",
       "  <tbody>\n",
       "    <tr>\n",
       "      <th>0</th>\n",
       "      <td>Lavelle Road</td>\n",
       "      <td>4.142505</td>\n",
       "      <td>1039.396304</td>\n",
       "      <td>1365.384615</td>\n",
       "    </tr>\n",
       "    <tr>\n",
       "      <th>1</th>\n",
       "      <td>Koramangala 3rd Block</td>\n",
       "      <td>4.020419</td>\n",
       "      <td>655.282723</td>\n",
       "      <td>834.816754</td>\n",
       "    </tr>\n",
       "    <tr>\n",
       "      <th>2</th>\n",
       "      <td>St. Marks Road</td>\n",
       "      <td>4.017201</td>\n",
       "      <td>775.798834</td>\n",
       "      <td>883.673469</td>\n",
       "    </tr>\n",
       "    <tr>\n",
       "      <th>3</th>\n",
       "      <td>Koramangala 5th Block</td>\n",
       "      <td>4.005821</td>\n",
       "      <td>957.096162</td>\n",
       "      <td>680.713975</td>\n",
       "    </tr>\n",
       "    <tr>\n",
       "      <th>4</th>\n",
       "      <td>Church Street</td>\n",
       "      <td>3.992125</td>\n",
       "      <td>1089.705128</td>\n",
       "      <td>839.835165</td>\n",
       "    </tr>\n",
       "    <tr>\n",
       "      <th>5</th>\n",
       "      <td>Sankey Road</td>\n",
       "      <td>3.965385</td>\n",
       "      <td>246.576923</td>\n",
       "      <td>2582.692308</td>\n",
       "    </tr>\n",
       "    <tr>\n",
       "      <th>6</th>\n",
       "      <td>Koramangala 4th Block</td>\n",
       "      <td>3.918668</td>\n",
       "      <td>814.692033</td>\n",
       "      <td>758.323424</td>\n",
       "    </tr>\n",
       "    <tr>\n",
       "      <th>7</th>\n",
       "      <td>Cunningham Road</td>\n",
       "      <td>3.901053</td>\n",
       "      <td>606.048421</td>\n",
       "      <td>867.157895</td>\n",
       "    </tr>\n",
       "    <tr>\n",
       "      <th>8</th>\n",
       "      <td>Residency Road</td>\n",
       "      <td>3.863636</td>\n",
       "      <td>482.568595</td>\n",
       "      <td>1030.049669</td>\n",
       "    </tr>\n",
       "    <tr>\n",
       "      <th>9</th>\n",
       "      <td>MG Road</td>\n",
       "      <td>3.855857</td>\n",
       "      <td>532.812577</td>\n",
       "      <td>1244.514502</td>\n",
       "    </tr>\n",
       "    <tr>\n",
       "      <th>10</th>\n",
       "      <td>Koramangala 7th Block</td>\n",
       "      <td>3.850377</td>\n",
       "      <td>467.286792</td>\n",
       "      <td>604.360190</td>\n",
       "    </tr>\n",
       "    <tr>\n",
       "      <th>11</th>\n",
       "      <td>Rajarajeshwari Nagar</td>\n",
       "      <td>3.850000</td>\n",
       "      <td>366.000000</td>\n",
       "      <td>725.000000</td>\n",
       "    </tr>\n",
       "    <tr>\n",
       "      <th>12</th>\n",
       "      <td>Sadashiv Nagar</td>\n",
       "      <td>3.839655</td>\n",
       "      <td>340.120690</td>\n",
       "      <td>750.862069</td>\n",
       "    </tr>\n",
       "    <tr>\n",
       "      <th>13</th>\n",
       "      <td>Indiranagar</td>\n",
       "      <td>3.828293</td>\n",
       "      <td>647.623848</td>\n",
       "      <td>679.001664</td>\n",
       "    </tr>\n",
       "    <tr>\n",
       "      <th>14</th>\n",
       "      <td>Richmond Road</td>\n",
       "      <td>3.820588</td>\n",
       "      <td>195.120915</td>\n",
       "      <td>903.228477</td>\n",
       "    </tr>\n",
       "    <tr>\n",
       "      <th>15</th>\n",
       "      <td>Langford Town</td>\n",
       "      <td>3.807407</td>\n",
       "      <td>195.592593</td>\n",
       "      <td>883.333333</td>\n",
       "    </tr>\n",
       "    <tr>\n",
       "      <th>16</th>\n",
       "      <td>Infantry Road</td>\n",
       "      <td>3.796429</td>\n",
       "      <td>368.250000</td>\n",
       "      <td>1072.857143</td>\n",
       "    </tr>\n",
       "    <tr>\n",
       "      <th>17</th>\n",
       "      <td>Hosur Road</td>\n",
       "      <td>3.790278</td>\n",
       "      <td>122.180556</td>\n",
       "      <td>661.805556</td>\n",
       "    </tr>\n",
       "    <tr>\n",
       "      <th>18</th>\n",
       "      <td>Kalyan Nagar</td>\n",
       "      <td>3.783333</td>\n",
       "      <td>242.202586</td>\n",
       "      <td>638.455988</td>\n",
       "    </tr>\n",
       "    <tr>\n",
       "      <th>19</th>\n",
       "      <td>Race Course Road</td>\n",
       "      <td>3.782222</td>\n",
       "      <td>203.592593</td>\n",
       "      <td>1321.481481</td>\n",
       "    </tr>\n",
       "    <tr>\n",
       "      <th>20</th>\n",
       "      <td>Jayanagar</td>\n",
       "      <td>3.780280</td>\n",
       "      <td>292.930615</td>\n",
       "      <td>499.969438</td>\n",
       "    </tr>\n",
       "    <tr>\n",
       "      <th>21</th>\n",
       "      <td>Koramangala 6th Block</td>\n",
       "      <td>3.778087</td>\n",
       "      <td>431.857939</td>\n",
       "      <td>633.208606</td>\n",
       "    </tr>\n",
       "    <tr>\n",
       "      <th>22</th>\n",
       "      <td>Malleshwaram</td>\n",
       "      <td>3.759657</td>\n",
       "      <td>372.228972</td>\n",
       "      <td>592.106084</td>\n",
       "    </tr>\n",
       "    <tr>\n",
       "      <th>23</th>\n",
       "      <td>Ulsoor</td>\n",
       "      <td>3.758304</td>\n",
       "      <td>213.082450</td>\n",
       "      <td>812.603062</td>\n",
       "    </tr>\n",
       "    <tr>\n",
       "      <th>24</th>\n",
       "      <td>Koramangala 2nd Block</td>\n",
       "      <td>3.749425</td>\n",
       "      <td>84.620690</td>\n",
       "      <td>685.057471</td>\n",
       "    </tr>\n",
       "  </tbody>\n",
       "</table>\n",
       "</div>"
      ],
      "text/plain": [
       "                 location      rate        votes  cost_two_person\n",
       "0            Lavelle Road  4.142505  1039.396304      1365.384615\n",
       "1   Koramangala 3rd Block  4.020419   655.282723       834.816754\n",
       "2          St. Marks Road  4.017201   775.798834       883.673469\n",
       "3   Koramangala 5th Block  4.005821   957.096162       680.713975\n",
       "4           Church Street  3.992125  1089.705128       839.835165\n",
       "5             Sankey Road  3.965385   246.576923      2582.692308\n",
       "6   Koramangala 4th Block  3.918668   814.692033       758.323424\n",
       "7         Cunningham Road  3.901053   606.048421       867.157895\n",
       "8          Residency Road  3.863636   482.568595      1030.049669\n",
       "9                 MG Road  3.855857   532.812577      1244.514502\n",
       "10  Koramangala 7th Block  3.850377   467.286792       604.360190\n",
       "11   Rajarajeshwari Nagar  3.850000   366.000000       725.000000\n",
       "12         Sadashiv Nagar  3.839655   340.120690       750.862069\n",
       "13            Indiranagar  3.828293   647.623848       679.001664\n",
       "14          Richmond Road  3.820588   195.120915       903.228477\n",
       "15          Langford Town  3.807407   195.592593       883.333333\n",
       "16          Infantry Road  3.796429   368.250000      1072.857143\n",
       "17             Hosur Road  3.790278   122.180556       661.805556\n",
       "18           Kalyan Nagar  3.783333   242.202586       638.455988\n",
       "19       Race Course Road  3.782222   203.592593      1321.481481\n",
       "20              Jayanagar  3.780280   292.930615       499.969438\n",
       "21  Koramangala 6th Block  3.778087   431.857939       633.208606\n",
       "22           Malleshwaram  3.759657   372.228972       592.106084\n",
       "23                 Ulsoor  3.758304   213.082450       812.603062\n",
       "24  Koramangala 2nd Block  3.749425    84.620690       685.057471"
      ]
     },
     "execution_count": 48,
     "metadata": {},
     "output_type": "execute_result"
    }
   ],
   "source": [
    "Top_25_location_restaurant_by_rate= df[df['rate']>0].groupby(by=\"location\").mean().sort_values('rate',ascending=False).reset_index().head(25)\n",
    "Top_25_location_restaurant_by_rate"
   ]
  },
  {
   "cell_type": "code",
   "execution_count": 49,
   "metadata": {
    "ExecuteTime": {
     "end_time": "2020-08-25T05:25:35.032590Z",
     "start_time": "2020-08-25T05:25:34.536019Z"
    }
   },
   "outputs": [
    {
     "data": {
      "image/png": "[encoded data removed]",
      "text/plain": [
       "<Figure size 864x720 with 1 Axes>"
      ]
     },
     "metadata": {
      "needs_background": "light"
     },
     "output_type": "display_data"
    }
   ],
   "source": [
    "plt.figure(figsize=(12, 10))\n",
    "sns.barplot(y=\"location\", x=\"rate\", data=Top_25_location_restaurant_by_rate)\n",
    "plt.title(\"Top 25 Restaurant Location By Rating\",fontsize=18)\n",
    "plt.savefig(\"Top 25 Restaurant Location By Rating\");"
   ]
  },
  {
   "cell_type": "markdown",
   "metadata": {},
   "source": [
    "### m ) Menampilkan 25 restaurant yang memiliki rating terbawah bedasarkan ``location``"
   ]
  },
  {
   "cell_type": "code",
   "execution_count": 50,
   "metadata": {
    "ExecuteTime": {
     "end_time": "2020-08-25T05:25:35.085310Z",
     "start_time": "2020-08-25T05:25:35.034583Z"
    }
   },
   "outputs": [
    {
     "data": {
      "text/html": [
       "<div>\n",
       "<style scoped>\n",
       "    .dataframe tbody tr th:only-of-type {\n",
       "        vertical-align: middle;\n",
       "    }\n",
       "\n",
       "    .dataframe tbody tr th {\n",
       "        vertical-align: top;\n",
       "    }\n",
       "\n",
       "    .dataframe thead th {\n",
       "        text-align: right;\n",
       "    }\n",
       "</style>\n",
       "<table border=\"1\" class=\"dataframe\">\n",
       "  <thead>\n",
       "    <tr style=\"text-align: right;\">\n",
       "      <th></th>\n",
       "      <th>location</th>\n",
       "      <th>rate</th>\n",
       "      <th>votes</th>\n",
       "      <th>cost_two_person</th>\n",
       "    </tr>\n",
       "  </thead>\n",
       "  <tbody>\n",
       "    <tr>\n",
       "      <th>0</th>\n",
       "      <td>Old Madras Road</td>\n",
       "      <td>3.181818</td>\n",
       "      <td>73.090909</td>\n",
       "      <td>488.636364</td>\n",
       "    </tr>\n",
       "    <tr>\n",
       "      <th>1</th>\n",
       "      <td>Bommanahalli</td>\n",
       "      <td>3.190972</td>\n",
       "      <td>53.493056</td>\n",
       "      <td>477.777778</td>\n",
       "    </tr>\n",
       "    <tr>\n",
       "      <th>2</th>\n",
       "      <td>Peenya</td>\n",
       "      <td>3.200000</td>\n",
       "      <td>5.000000</td>\n",
       "      <td>300.000000</td>\n",
       "    </tr>\n",
       "    <tr>\n",
       "      <th>3</th>\n",
       "      <td>North Bangalore</td>\n",
       "      <td>3.340000</td>\n",
       "      <td>166.300000</td>\n",
       "      <td>325.000000</td>\n",
       "    </tr>\n",
       "    <tr>\n",
       "      <th>4</th>\n",
       "      <td>Rammurthy Nagar</td>\n",
       "      <td>3.346154</td>\n",
       "      <td>49.346154</td>\n",
       "      <td>426.923077</td>\n",
       "    </tr>\n",
       "    <tr>\n",
       "      <th>5</th>\n",
       "      <td>West Bangalore</td>\n",
       "      <td>3.366667</td>\n",
       "      <td>370.000000</td>\n",
       "      <td>466.666667</td>\n",
       "    </tr>\n",
       "    <tr>\n",
       "      <th>6</th>\n",
       "      <td>Nagarbhavi</td>\n",
       "      <td>3.400000</td>\n",
       "      <td>10.000000</td>\n",
       "      <td>250.000000</td>\n",
       "    </tr>\n",
       "    <tr>\n",
       "      <th>7</th>\n",
       "      <td>Magadi Road</td>\n",
       "      <td>3.437500</td>\n",
       "      <td>35.291667</td>\n",
       "      <td>362.500000</td>\n",
       "    </tr>\n",
       "    <tr>\n",
       "      <th>8</th>\n",
       "      <td>RT Nagar</td>\n",
       "      <td>3.439344</td>\n",
       "      <td>106.163934</td>\n",
       "      <td>443.333333</td>\n",
       "    </tr>\n",
       "    <tr>\n",
       "      <th>9</th>\n",
       "      <td>Kumaraswamy Layout</td>\n",
       "      <td>3.466667</td>\n",
       "      <td>105.157233</td>\n",
       "      <td>372.327044</td>\n",
       "    </tr>\n",
       "    <tr>\n",
       "      <th>10</th>\n",
       "      <td>East Bangalore</td>\n",
       "      <td>3.475000</td>\n",
       "      <td>93.428571</td>\n",
       "      <td>412.500000</td>\n",
       "    </tr>\n",
       "    <tr>\n",
       "      <th>11</th>\n",
       "      <td>Ejipura</td>\n",
       "      <td>3.477692</td>\n",
       "      <td>66.380769</td>\n",
       "      <td>350.976562</td>\n",
       "    </tr>\n",
       "    <tr>\n",
       "      <th>12</th>\n",
       "      <td>CV Raman Nagar</td>\n",
       "      <td>3.478689</td>\n",
       "      <td>50.557377</td>\n",
       "      <td>345.081967</td>\n",
       "    </tr>\n",
       "    <tr>\n",
       "      <th>13</th>\n",
       "      <td>Kanakapura Road</td>\n",
       "      <td>3.478947</td>\n",
       "      <td>39.315789</td>\n",
       "      <td>523.684211</td>\n",
       "    </tr>\n",
       "    <tr>\n",
       "      <th>14</th>\n",
       "      <td>Jalahalli</td>\n",
       "      <td>3.486957</td>\n",
       "      <td>28.521739</td>\n",
       "      <td>386.956522</td>\n",
       "    </tr>\n",
       "    <tr>\n",
       "      <th>15</th>\n",
       "      <td>Electronic City</td>\n",
       "      <td>3.490952</td>\n",
       "      <td>132.184524</td>\n",
       "      <td>562.857143</td>\n",
       "    </tr>\n",
       "    <tr>\n",
       "      <th>16</th>\n",
       "      <td>Hennur</td>\n",
       "      <td>3.493966</td>\n",
       "      <td>82.939655</td>\n",
       "      <td>414.912281</td>\n",
       "    </tr>\n",
       "    <tr>\n",
       "      <th>17</th>\n",
       "      <td>Banaswadi</td>\n",
       "      <td>3.496042</td>\n",
       "      <td>74.285417</td>\n",
       "      <td>441.419492</td>\n",
       "    </tr>\n",
       "    <tr>\n",
       "      <th>18</th>\n",
       "      <td>South Bangalore</td>\n",
       "      <td>3.496629</td>\n",
       "      <td>40.966292</td>\n",
       "      <td>323.595506</td>\n",
       "    </tr>\n",
       "    <tr>\n",
       "      <th>19</th>\n",
       "      <td>Shivajinagar</td>\n",
       "      <td>3.498917</td>\n",
       "      <td>56.563177</td>\n",
       "      <td>418.231047</td>\n",
       "    </tr>\n",
       "    <tr>\n",
       "      <th>20</th>\n",
       "      <td>Sanjay Nagar</td>\n",
       "      <td>3.500000</td>\n",
       "      <td>63.937500</td>\n",
       "      <td>348.958333</td>\n",
       "    </tr>\n",
       "    <tr>\n",
       "      <th>21</th>\n",
       "      <td>Majestic</td>\n",
       "      <td>3.501802</td>\n",
       "      <td>36.342342</td>\n",
       "      <td>446.396396</td>\n",
       "    </tr>\n",
       "    <tr>\n",
       "      <th>22</th>\n",
       "      <td>Yeshwantpur</td>\n",
       "      <td>3.502679</td>\n",
       "      <td>62.321429</td>\n",
       "      <td>432.589286</td>\n",
       "    </tr>\n",
       "    <tr>\n",
       "      <th>23</th>\n",
       "      <td>Nagawara</td>\n",
       "      <td>3.503185</td>\n",
       "      <td>124.573248</td>\n",
       "      <td>461.783439</td>\n",
       "    </tr>\n",
       "    <tr>\n",
       "      <th>24</th>\n",
       "      <td>Bannerghatta Road</td>\n",
       "      <td>3.507449</td>\n",
       "      <td>175.355466</td>\n",
       "      <td>476.300813</td>\n",
       "    </tr>\n",
       "  </tbody>\n",
       "</table>\n",
       "</div>"
      ],
      "text/plain": [
       "              location      rate       votes  cost_two_person\n",
       "0      Old Madras Road  3.181818   73.090909       488.636364\n",
       "1         Bommanahalli  3.190972   53.493056       477.777778\n",
       "2               Peenya  3.200000    5.000000       300.000000\n",
       "3      North Bangalore  3.340000  166.300000       325.000000\n",
       "4      Rammurthy Nagar  3.346154   49.346154       426.923077\n",
       "5       West Bangalore  3.366667  370.000000       466.666667\n",
       "6           Nagarbhavi  3.400000   10.000000       250.000000\n",
       "7          Magadi Road  3.437500   35.291667       362.500000\n",
       "8             RT Nagar  3.439344  106.163934       443.333333\n",
       "9   Kumaraswamy Layout  3.466667  105.157233       372.327044\n",
       "10      East Bangalore  3.475000   93.428571       412.500000\n",
       "11             Ejipura  3.477692   66.380769       350.976562\n",
       "12      CV Raman Nagar  3.478689   50.557377       345.081967\n",
       "13     Kanakapura Road  3.478947   39.315789       523.684211\n",
       "14           Jalahalli  3.486957   28.521739       386.956522\n",
       "15     Electronic City  3.490952  132.184524       562.857143\n",
       "16              Hennur  3.493966   82.939655       414.912281\n",
       "17           Banaswadi  3.496042   74.285417       441.419492\n",
       "18     South Bangalore  3.496629   40.966292       323.595506\n",
       "19        Shivajinagar  3.498917   56.563177       418.231047\n",
       "20        Sanjay Nagar  3.500000   63.937500       348.958333\n",
       "21            Majestic  3.501802   36.342342       446.396396\n",
       "22         Yeshwantpur  3.502679   62.321429       432.589286\n",
       "23            Nagawara  3.503185  124.573248       461.783439\n",
       "24   Bannerghatta Road  3.507449  175.355466       476.300813"
      ]
     },
     "execution_count": 50,
     "metadata": {},
     "output_type": "execute_result"
    }
   ],
   "source": [
    "Lowest_25_location_restaurant_by_rate= df[df['rate']>0].groupby(by=\"location\").mean().sort_values('rate',ascending=True).reset_index().head(25)\n",
    "Lowest_25_location_restaurant_by_rate"
   ]
  },
  {
   "cell_type": "code",
   "execution_count": 51,
   "metadata": {
    "ExecuteTime": {
     "end_time": "2020-08-25T05:25:35.530097Z",
     "start_time": "2020-08-25T05:25:35.087306Z"
    }
   },
   "outputs": [
    {
     "data": {
      "image/png": "[encoded data removed]",
      "text/plain": [
       "<Figure size 864x720 with 1 Axes>"
      ]
     },
     "metadata": {
      "needs_background": "light"
     },
     "output_type": "display_data"
    }
   ],
   "source": [
    "plt.figure(figsize=(12, 10))\n",
    "sns.barplot(y=\"location\", x=\"rate\", data=Lowest_25_location_restaurant_by_rate.sort_values('rate',ascending=False))\n",
    "plt.title(\"Lowest 25 Restaurant Location By Rating (Excluding 0 Rating)\",fontsize=18)\n",
    "plt.savefig(\"Lowest 25 Restaurant Location By Rating (Excluding 0 Rating)\");"
   ]
  },
  {
   "cell_type": "markdown",
   "metadata": {},
   "source": [
    "### n ) Menampilkan 25 ``location`` restaurant yang memiliki jumlah restaurant terbanyak"
   ]
  },
  {
   "cell_type": "code",
   "execution_count": 52,
   "metadata": {
    "ExecuteTime": {
     "end_time": "2020-08-25T05:25:35.613905Z",
     "start_time": "2020-08-25T05:25:35.532090Z"
    }
   },
   "outputs": [
    {
     "data": {
      "text/html": [
       "<div>\n",
       "<style scoped>\n",
       "    .dataframe tbody tr th:only-of-type {\n",
       "        vertical-align: middle;\n",
       "    }\n",
       "\n",
       "    .dataframe tbody tr th {\n",
       "        vertical-align: top;\n",
       "    }\n",
       "\n",
       "    .dataframe thead th {\n",
       "        text-align: right;\n",
       "    }\n",
       "</style>\n",
       "<table border=\"1\" class=\"dataframe\">\n",
       "  <thead>\n",
       "    <tr style=\"text-align: right;\">\n",
       "      <th></th>\n",
       "      <th>location</th>\n",
       "      <th>url</th>\n",
       "      <th>address</th>\n",
       "      <th>name</th>\n",
       "      <th>online_order</th>\n",
       "      <th>book_table</th>\n",
       "      <th>rate</th>\n",
       "      <th>votes</th>\n",
       "      <th>phone</th>\n",
       "      <th>rest_type</th>\n",
       "      <th>dish_liked</th>\n",
       "      <th>cuisines</th>\n",
       "      <th>cost_two_person</th>\n",
       "      <th>reviews_list</th>\n",
       "      <th>menu_item</th>\n",
       "      <th>service_type</th>\n",
       "      <th>registered_city</th>\n",
       "    </tr>\n",
       "  </thead>\n",
       "  <tbody>\n",
       "    <tr>\n",
       "      <th>0</th>\n",
       "      <td>BTM</td>\n",
       "      <td>3930</td>\n",
       "      <td>3930</td>\n",
       "      <td>3930</td>\n",
       "      <td>3930</td>\n",
       "      <td>3930</td>\n",
       "      <td>3930</td>\n",
       "      <td>3930</td>\n",
       "      <td>3852</td>\n",
       "      <td>3903</td>\n",
       "      <td>1508</td>\n",
       "      <td>3930</td>\n",
       "      <td>3906</td>\n",
       "      <td>3930</td>\n",
       "      <td>3930</td>\n",
       "      <td>3930</td>\n",
       "      <td>3930</td>\n",
       "    </tr>\n",
       "    <tr>\n",
       "      <th>1</th>\n",
       "      <td>Koramangala 5th Block</td>\n",
       "      <td>2319</td>\n",
       "      <td>2319</td>\n",
       "      <td>2319</td>\n",
       "      <td>2319</td>\n",
       "      <td>2319</td>\n",
       "      <td>2319</td>\n",
       "      <td>2319</td>\n",
       "      <td>2262</td>\n",
       "      <td>2319</td>\n",
       "      <td>1787</td>\n",
       "      <td>2319</td>\n",
       "      <td>2297</td>\n",
       "      <td>2319</td>\n",
       "      <td>2319</td>\n",
       "      <td>2319</td>\n",
       "      <td>2319</td>\n",
       "    </tr>\n",
       "    <tr>\n",
       "      <th>2</th>\n",
       "      <td>HSR</td>\n",
       "      <td>2019</td>\n",
       "      <td>2019</td>\n",
       "      <td>2019</td>\n",
       "      <td>2019</td>\n",
       "      <td>2019</td>\n",
       "      <td>2019</td>\n",
       "      <td>2019</td>\n",
       "      <td>1987</td>\n",
       "      <td>2008</td>\n",
       "      <td>1180</td>\n",
       "      <td>2019</td>\n",
       "      <td>2004</td>\n",
       "      <td>2019</td>\n",
       "      <td>2019</td>\n",
       "      <td>2019</td>\n",
       "      <td>2019</td>\n",
       "    </tr>\n",
       "    <tr>\n",
       "      <th>3</th>\n",
       "      <td>Indiranagar</td>\n",
       "      <td>1845</td>\n",
       "      <td>1845</td>\n",
       "      <td>1845</td>\n",
       "      <td>1845</td>\n",
       "      <td>1845</td>\n",
       "      <td>1845</td>\n",
       "      <td>1845</td>\n",
       "      <td>1783</td>\n",
       "      <td>1842</td>\n",
       "      <td>1387</td>\n",
       "      <td>1845</td>\n",
       "      <td>1803</td>\n",
       "      <td>1845</td>\n",
       "      <td>1845</td>\n",
       "      <td>1845</td>\n",
       "      <td>1845</td>\n",
       "    </tr>\n",
       "    <tr>\n",
       "      <th>4</th>\n",
       "      <td>JP Nagar</td>\n",
       "      <td>1717</td>\n",
       "      <td>1717</td>\n",
       "      <td>1717</td>\n",
       "      <td>1717</td>\n",
       "      <td>1717</td>\n",
       "      <td>1717</td>\n",
       "      <td>1717</td>\n",
       "      <td>1698</td>\n",
       "      <td>1710</td>\n",
       "      <td>993</td>\n",
       "      <td>1717</td>\n",
       "      <td>1717</td>\n",
       "      <td>1717</td>\n",
       "      <td>1717</td>\n",
       "      <td>1717</td>\n",
       "      <td>1717</td>\n",
       "    </tr>\n",
       "    <tr>\n",
       "      <th>5</th>\n",
       "      <td>Jayanagar</td>\n",
       "      <td>1643</td>\n",
       "      <td>1643</td>\n",
       "      <td>1643</td>\n",
       "      <td>1643</td>\n",
       "      <td>1643</td>\n",
       "      <td>1643</td>\n",
       "      <td>1643</td>\n",
       "      <td>1590</td>\n",
       "      <td>1641</td>\n",
       "      <td>1067</td>\n",
       "      <td>1643</td>\n",
       "      <td>1636</td>\n",
       "      <td>1643</td>\n",
       "      <td>1643</td>\n",
       "      <td>1643</td>\n",
       "      <td>1643</td>\n",
       "    </tr>\n",
       "    <tr>\n",
       "      <th>6</th>\n",
       "      <td>Whitefield</td>\n",
       "      <td>1578</td>\n",
       "      <td>1578</td>\n",
       "      <td>1578</td>\n",
       "      <td>1578</td>\n",
       "      <td>1578</td>\n",
       "      <td>1578</td>\n",
       "      <td>1578</td>\n",
       "      <td>1550</td>\n",
       "      <td>1573</td>\n",
       "      <td>835</td>\n",
       "      <td>1578</td>\n",
       "      <td>1573</td>\n",
       "      <td>1578</td>\n",
       "      <td>1578</td>\n",
       "      <td>1578</td>\n",
       "      <td>1578</td>\n",
       "    </tr>\n",
       "    <tr>\n",
       "      <th>7</th>\n",
       "      <td>Marathahalli</td>\n",
       "      <td>1443</td>\n",
       "      <td>1443</td>\n",
       "      <td>1443</td>\n",
       "      <td>1443</td>\n",
       "      <td>1443</td>\n",
       "      <td>1443</td>\n",
       "      <td>1443</td>\n",
       "      <td>1410</td>\n",
       "      <td>1425</td>\n",
       "      <td>702</td>\n",
       "      <td>1443</td>\n",
       "      <td>1428</td>\n",
       "      <td>1443</td>\n",
       "      <td>1443</td>\n",
       "      <td>1443</td>\n",
       "      <td>1443</td>\n",
       "    </tr>\n",
       "    <tr>\n",
       "      <th>8</th>\n",
       "      <td>Bannerghatta Road</td>\n",
       "      <td>1235</td>\n",
       "      <td>1235</td>\n",
       "      <td>1235</td>\n",
       "      <td>1235</td>\n",
       "      <td>1235</td>\n",
       "      <td>1235</td>\n",
       "      <td>1235</td>\n",
       "      <td>1215</td>\n",
       "      <td>1231</td>\n",
       "      <td>507</td>\n",
       "      <td>1235</td>\n",
       "      <td>1230</td>\n",
       "      <td>1235</td>\n",
       "      <td>1235</td>\n",
       "      <td>1235</td>\n",
       "      <td>1235</td>\n",
       "    </tr>\n",
       "    <tr>\n",
       "      <th>9</th>\n",
       "      <td>Koramangala 6th Block</td>\n",
       "      <td>1077</td>\n",
       "      <td>1077</td>\n",
       "      <td>1077</td>\n",
       "      <td>1077</td>\n",
       "      <td>1077</td>\n",
       "      <td>1077</td>\n",
       "      <td>1077</td>\n",
       "      <td>1056</td>\n",
       "      <td>1062</td>\n",
       "      <td>736</td>\n",
       "      <td>1077</td>\n",
       "      <td>1069</td>\n",
       "      <td>1077</td>\n",
       "      <td>1077</td>\n",
       "      <td>1077</td>\n",
       "      <td>1077</td>\n",
       "    </tr>\n",
       "    <tr>\n",
       "      <th>10</th>\n",
       "      <td>Koramangala 7th Block</td>\n",
       "      <td>1060</td>\n",
       "      <td>1060</td>\n",
       "      <td>1060</td>\n",
       "      <td>1060</td>\n",
       "      <td>1060</td>\n",
       "      <td>1060</td>\n",
       "      <td>1060</td>\n",
       "      <td>1018</td>\n",
       "      <td>1060</td>\n",
       "      <td>736</td>\n",
       "      <td>1060</td>\n",
       "      <td>1055</td>\n",
       "      <td>1060</td>\n",
       "      <td>1060</td>\n",
       "      <td>1060</td>\n",
       "      <td>1060</td>\n",
       "    </tr>\n",
       "    <tr>\n",
       "      <th>11</th>\n",
       "      <td>Brigade Road</td>\n",
       "      <td>1052</td>\n",
       "      <td>1052</td>\n",
       "      <td>1052</td>\n",
       "      <td>1052</td>\n",
       "      <td>1052</td>\n",
       "      <td>1052</td>\n",
       "      <td>1052</td>\n",
       "      <td>1035</td>\n",
       "      <td>1052</td>\n",
       "      <td>568</td>\n",
       "      <td>1052</td>\n",
       "      <td>1052</td>\n",
       "      <td>1052</td>\n",
       "      <td>1052</td>\n",
       "      <td>1052</td>\n",
       "      <td>1052</td>\n",
       "    </tr>\n",
       "    <tr>\n",
       "      <th>12</th>\n",
       "      <td>Bellandur</td>\n",
       "      <td>1012</td>\n",
       "      <td>1012</td>\n",
       "      <td>1012</td>\n",
       "      <td>1012</td>\n",
       "      <td>1012</td>\n",
       "      <td>1012</td>\n",
       "      <td>1012</td>\n",
       "      <td>986</td>\n",
       "      <td>997</td>\n",
       "      <td>481</td>\n",
       "      <td>1012</td>\n",
       "      <td>1012</td>\n",
       "      <td>1012</td>\n",
       "      <td>1012</td>\n",
       "      <td>1012</td>\n",
       "      <td>1012</td>\n",
       "    </tr>\n",
       "    <tr>\n",
       "      <th>13</th>\n",
       "      <td>Sarjapur Road</td>\n",
       "      <td>866</td>\n",
       "      <td>866</td>\n",
       "      <td>866</td>\n",
       "      <td>866</td>\n",
       "      <td>866</td>\n",
       "      <td>866</td>\n",
       "      <td>866</td>\n",
       "      <td>855</td>\n",
       "      <td>858</td>\n",
       "      <td>459</td>\n",
       "      <td>866</td>\n",
       "      <td>860</td>\n",
       "      <td>866</td>\n",
       "      <td>866</td>\n",
       "      <td>866</td>\n",
       "      <td>866</td>\n",
       "    </tr>\n",
       "    <tr>\n",
       "      <th>14</th>\n",
       "      <td>Koramangala 1st Block</td>\n",
       "      <td>852</td>\n",
       "      <td>852</td>\n",
       "      <td>852</td>\n",
       "      <td>852</td>\n",
       "      <td>852</td>\n",
       "      <td>852</td>\n",
       "      <td>852</td>\n",
       "      <td>852</td>\n",
       "      <td>852</td>\n",
       "      <td>466</td>\n",
       "      <td>852</td>\n",
       "      <td>852</td>\n",
       "      <td>852</td>\n",
       "      <td>852</td>\n",
       "      <td>852</td>\n",
       "      <td>852</td>\n",
       "    </tr>\n",
       "    <tr>\n",
       "      <th>15</th>\n",
       "      <td>Ulsoor</td>\n",
       "      <td>849</td>\n",
       "      <td>849</td>\n",
       "      <td>849</td>\n",
       "      <td>849</td>\n",
       "      <td>849</td>\n",
       "      <td>849</td>\n",
       "      <td>849</td>\n",
       "      <td>844</td>\n",
       "      <td>849</td>\n",
       "      <td>473</td>\n",
       "      <td>849</td>\n",
       "      <td>849</td>\n",
       "      <td>849</td>\n",
       "      <td>849</td>\n",
       "      <td>849</td>\n",
       "      <td>849</td>\n",
       "    </tr>\n",
       "    <tr>\n",
       "      <th>16</th>\n",
       "      <td>Koramangala 4th Block</td>\n",
       "      <td>841</td>\n",
       "      <td>841</td>\n",
       "      <td>841</td>\n",
       "      <td>841</td>\n",
       "      <td>841</td>\n",
       "      <td>841</td>\n",
       "      <td>841</td>\n",
       "      <td>821</td>\n",
       "      <td>841</td>\n",
       "      <td>652</td>\n",
       "      <td>841</td>\n",
       "      <td>841</td>\n",
       "      <td>841</td>\n",
       "      <td>841</td>\n",
       "      <td>841</td>\n",
       "      <td>841</td>\n",
       "    </tr>\n",
       "    <tr>\n",
       "      <th>17</th>\n",
       "      <td>Electronic City</td>\n",
       "      <td>840</td>\n",
       "      <td>840</td>\n",
       "      <td>840</td>\n",
       "      <td>840</td>\n",
       "      <td>840</td>\n",
       "      <td>840</td>\n",
       "      <td>840</td>\n",
       "      <td>838</td>\n",
       "      <td>834</td>\n",
       "      <td>321</td>\n",
       "      <td>840</td>\n",
       "      <td>840</td>\n",
       "      <td>840</td>\n",
       "      <td>840</td>\n",
       "      <td>840</td>\n",
       "      <td>840</td>\n",
       "    </tr>\n",
       "    <tr>\n",
       "      <th>18</th>\n",
       "      <td>MG Road</td>\n",
       "      <td>811</td>\n",
       "      <td>811</td>\n",
       "      <td>811</td>\n",
       "      <td>811</td>\n",
       "      <td>811</td>\n",
       "      <td>811</td>\n",
       "      <td>811</td>\n",
       "      <td>783</td>\n",
       "      <td>811</td>\n",
       "      <td>614</td>\n",
       "      <td>811</td>\n",
       "      <td>793</td>\n",
       "      <td>811</td>\n",
       "      <td>811</td>\n",
       "      <td>811</td>\n",
       "      <td>811</td>\n",
       "    </tr>\n",
       "    <tr>\n",
       "      <th>19</th>\n",
       "      <td>Banashankari</td>\n",
       "      <td>744</td>\n",
       "      <td>744</td>\n",
       "      <td>744</td>\n",
       "      <td>744</td>\n",
       "      <td>744</td>\n",
       "      <td>744</td>\n",
       "      <td>744</td>\n",
       "      <td>738</td>\n",
       "      <td>744</td>\n",
       "      <td>387</td>\n",
       "      <td>744</td>\n",
       "      <td>744</td>\n",
       "      <td>744</td>\n",
       "      <td>744</td>\n",
       "      <td>744</td>\n",
       "      <td>744</td>\n",
       "    </tr>\n",
       "    <tr>\n",
       "      <th>20</th>\n",
       "      <td>Kalyan Nagar</td>\n",
       "      <td>696</td>\n",
       "      <td>696</td>\n",
       "      <td>696</td>\n",
       "      <td>696</td>\n",
       "      <td>696</td>\n",
       "      <td>696</td>\n",
       "      <td>696</td>\n",
       "      <td>690</td>\n",
       "      <td>695</td>\n",
       "      <td>469</td>\n",
       "      <td>696</td>\n",
       "      <td>693</td>\n",
       "      <td>696</td>\n",
       "      <td>696</td>\n",
       "      <td>696</td>\n",
       "      <td>696</td>\n",
       "    </tr>\n",
       "    <tr>\n",
       "      <th>21</th>\n",
       "      <td>Malleshwaram</td>\n",
       "      <td>642</td>\n",
       "      <td>642</td>\n",
       "      <td>642</td>\n",
       "      <td>642</td>\n",
       "      <td>642</td>\n",
       "      <td>642</td>\n",
       "      <td>642</td>\n",
       "      <td>630</td>\n",
       "      <td>642</td>\n",
       "      <td>372</td>\n",
       "      <td>642</td>\n",
       "      <td>641</td>\n",
       "      <td>642</td>\n",
       "      <td>642</td>\n",
       "      <td>642</td>\n",
       "      <td>642</td>\n",
       "    </tr>\n",
       "    <tr>\n",
       "      <th>22</th>\n",
       "      <td>Richmond Road</td>\n",
       "      <td>612</td>\n",
       "      <td>612</td>\n",
       "      <td>612</td>\n",
       "      <td>612</td>\n",
       "      <td>612</td>\n",
       "      <td>612</td>\n",
       "      <td>612</td>\n",
       "      <td>587</td>\n",
       "      <td>612</td>\n",
       "      <td>351</td>\n",
       "      <td>612</td>\n",
       "      <td>604</td>\n",
       "      <td>612</td>\n",
       "      <td>612</td>\n",
       "      <td>612</td>\n",
       "      <td>612</td>\n",
       "    </tr>\n",
       "    <tr>\n",
       "      <th>23</th>\n",
       "      <td>Residency Road</td>\n",
       "      <td>605</td>\n",
       "      <td>605</td>\n",
       "      <td>605</td>\n",
       "      <td>605</td>\n",
       "      <td>605</td>\n",
       "      <td>605</td>\n",
       "      <td>605</td>\n",
       "      <td>604</td>\n",
       "      <td>605</td>\n",
       "      <td>442</td>\n",
       "      <td>605</td>\n",
       "      <td>604</td>\n",
       "      <td>605</td>\n",
       "      <td>605</td>\n",
       "      <td>605</td>\n",
       "      <td>605</td>\n",
       "    </tr>\n",
       "    <tr>\n",
       "      <th>24</th>\n",
       "      <td>Basavanagudi</td>\n",
       "      <td>595</td>\n",
       "      <td>595</td>\n",
       "      <td>595</td>\n",
       "      <td>595</td>\n",
       "      <td>595</td>\n",
       "      <td>595</td>\n",
       "      <td>595</td>\n",
       "      <td>580</td>\n",
       "      <td>595</td>\n",
       "      <td>286</td>\n",
       "      <td>595</td>\n",
       "      <td>595</td>\n",
       "      <td>595</td>\n",
       "      <td>595</td>\n",
       "      <td>595</td>\n",
       "      <td>595</td>\n",
       "    </tr>\n",
       "  </tbody>\n",
       "</table>\n",
       "</div>"
      ],
      "text/plain": [
       "                 location   url  address  name  online_order  book_table  \\\n",
       "0                     BTM  3930     3930  3930          3930        3930   \n",
       "1   Koramangala 5th Block  2319     2319  2319          2319        2319   \n",
       "2                     HSR  2019     2019  2019          2019        2019   \n",
       "3             Indiranagar  1845     1845  1845          1845        1845   \n",
       "4                JP Nagar  1717     1717  1717          1717        1717   \n",
       "5               Jayanagar  1643     1643  1643          1643        1643   \n",
       "6              Whitefield  1578     1578  1578          1578        1578   \n",
       "7            Marathahalli  1443     1443  1443          1443        1443   \n",
       "8       Bannerghatta Road  1235     1235  1235          1235        1235   \n",
       "9   Koramangala 6th Block  1077     1077  1077          1077        1077   \n",
       "10  Koramangala 7th Block  1060     1060  1060          1060        1060   \n",
       "11           Brigade Road  1052     1052  1052          1052        1052   \n",
       "12              Bellandur  1012     1012  1012          1012        1012   \n",
       "13          Sarjapur Road   866      866   866           866         866   \n",
       "14  Koramangala 1st Block   852      852   852           852         852   \n",
       "15                 Ulsoor   849      849   849           849         849   \n",
       "16  Koramangala 4th Block   841      841   841           841         841   \n",
       "17        Electronic City   840      840   840           840         840   \n",
       "18                MG Road   811      811   811           811         811   \n",
       "19           Banashankari   744      744   744           744         744   \n",
       "20           Kalyan Nagar   696      696   696           696         696   \n",
       "21           Malleshwaram   642      642   642           642         642   \n",
       "22          Richmond Road   612      612   612           612         612   \n",
       "23         Residency Road   605      605   605           605         605   \n",
       "24           Basavanagudi   595      595   595           595         595   \n",
       "\n",
       "    rate  votes  phone  rest_type  dish_liked  cuisines  cost_two_person  \\\n",
       "0   3930   3930   3852       3903        1508      3930             3906   \n",
       "1   2319   2319   2262       2319        1787      2319             2297   \n",
       "2   2019   2019   1987       2008        1180      2019             2004   \n",
       "3   1845   1845   1783       1842        1387      1845             1803   \n",
       "4   1717   1717   1698       1710         993      1717             1717   \n",
       "5   1643   1643   1590       1641        1067      1643             1636   \n",
       "6   1578   1578   1550       1573         835      1578             1573   \n",
       "7   1443   1443   1410       1425         702      1443             1428   \n",
       "8   1235   1235   1215       1231         507      1235             1230   \n",
       "9   1077   1077   1056       1062         736      1077             1069   \n",
       "10  1060   1060   1018       1060         736      1060             1055   \n",
       "11  1052   1052   1035       1052         568      1052             1052   \n",
       "12  1012   1012    986        997         481      1012             1012   \n",
       "13   866    866    855        858         459       866              860   \n",
       "14   852    852    852        852         466       852              852   \n",
       "15   849    849    844        849         473       849              849   \n",
       "16   841    841    821        841         652       841              841   \n",
       "17   840    840    838        834         321       840              840   \n",
       "18   811    811    783        811         614       811              793   \n",
       "19   744    744    738        744         387       744              744   \n",
       "20   696    696    690        695         469       696              693   \n",
       "21   642    642    630        642         372       642              641   \n",
       "22   612    612    587        612         351       612              604   \n",
       "23   605    605    604        605         442       605              604   \n",
       "24   595    595    580        595         286       595              595   \n",
       "\n",
       "    reviews_list  menu_item  service_type  registered_city  \n",
       "0           3930       3930          3930             3930  \n",
       "1           2319       2319          2319             2319  \n",
       "2           2019       2019          2019             2019  \n",
       "3           1845       1845          1845             1845  \n",
       "4           1717       1717          1717             1717  \n",
       "5           1643       1643          1643             1643  \n",
       "6           1578       1578          1578             1578  \n",
       "7           1443       1443          1443             1443  \n",
       "8           1235       1235          1235             1235  \n",
       "9           1077       1077          1077             1077  \n",
       "10          1060       1060          1060             1060  \n",
       "11          1052       1052          1052             1052  \n",
       "12          1012       1012          1012             1012  \n",
       "13           866        866           866              866  \n",
       "14           852        852           852              852  \n",
       "15           849        849           849              849  \n",
       "16           841        841           841              841  \n",
       "17           840        840           840              840  \n",
       "18           811        811           811              811  \n",
       "19           744        744           744              744  \n",
       "20           696        696           696              696  \n",
       "21           642        642           642              642  \n",
       "22           612        612           612              612  \n",
       "23           605        605           605              605  \n",
       "24           595        595           595              595  "
      ]
     },
     "execution_count": 52,
     "metadata": {},
     "output_type": "execute_result"
    }
   ],
   "source": [
    "Top_25_location_by_number_of_restaurant= df[df['rate']>0].groupby(by=\"location\").count().sort_values('rate',ascending=False).reset_index().head(25)\n",
    "Top_25_location_by_number_of_restaurant"
   ]
  },
  {
   "cell_type": "code",
   "execution_count": 53,
   "metadata": {
    "ExecuteTime": {
     "end_time": "2020-08-25T05:25:36.087605Z",
     "start_time": "2020-08-25T05:25:35.615866Z"
    }
   },
   "outputs": [
    {
     "data": {
      "image/png": "[encoded data removed]",
      "text/plain": [
       "<Figure size 864x720 with 1 Axes>"
      ]
     },
     "metadata": {
      "needs_background": "light"
     },
     "output_type": "display_data"
    }
   ],
   "source": [
    "plt.figure(figsize=(12, 10))\n",
    "sns.barplot(y=\"location\", x=\"name\", data=Top_25_location_by_number_of_restaurant)\n",
    "plt.title(\"Top 25 Restaurant Location By Numbers of Restaurant\",fontsize=18)\n",
    "plt.savefig(\"Top 25 Restaurant Location By Numbers of Restaurant\");"
   ]
  },
  {
   "cell_type": "markdown",
   "metadata": {},
   "source": [
    "### o ) Menampilkan 25 ``location`` yang memiliki sedikit jumlah restaurant"
   ]
  },
  {
   "cell_type": "code",
   "execution_count": 54,
   "metadata": {
    "ExecuteTime": {
     "end_time": "2020-08-25T05:25:36.171434Z",
     "start_time": "2020-08-25T05:25:36.089602Z"
    }
   },
   "outputs": [
    {
     "data": {
      "text/html": [
       "<div>\n",
       "<style scoped>\n",
       "    .dataframe tbody tr th:only-of-type {\n",
       "        vertical-align: middle;\n",
       "    }\n",
       "\n",
       "    .dataframe tbody tr th {\n",
       "        vertical-align: top;\n",
       "    }\n",
       "\n",
       "    .dataframe thead th {\n",
       "        text-align: right;\n",
       "    }\n",
       "</style>\n",
       "<table border=\"1\" class=\"dataframe\">\n",
       "  <thead>\n",
       "    <tr style=\"text-align: right;\">\n",
       "      <th></th>\n",
       "      <th>location</th>\n",
       "      <th>url</th>\n",
       "      <th>address</th>\n",
       "      <th>name</th>\n",
       "      <th>online_order</th>\n",
       "      <th>book_table</th>\n",
       "      <th>rate</th>\n",
       "      <th>votes</th>\n",
       "      <th>phone</th>\n",
       "      <th>rest_type</th>\n",
       "      <th>dish_liked</th>\n",
       "      <th>cuisines</th>\n",
       "      <th>cost_two_person</th>\n",
       "      <th>reviews_list</th>\n",
       "      <th>menu_item</th>\n",
       "      <th>service_type</th>\n",
       "      <th>registered_city</th>\n",
       "    </tr>\n",
       "  </thead>\n",
       "  <tbody>\n",
       "    <tr>\n",
       "      <th>0</th>\n",
       "      <td>Peenya</td>\n",
       "      <td>1</td>\n",
       "      <td>1</td>\n",
       "      <td>1</td>\n",
       "      <td>1</td>\n",
       "      <td>1</td>\n",
       "      <td>1</td>\n",
       "      <td>1</td>\n",
       "      <td>1</td>\n",
       "      <td>1</td>\n",
       "      <td>0</td>\n",
       "      <td>1</td>\n",
       "      <td>1</td>\n",
       "      <td>1</td>\n",
       "      <td>1</td>\n",
       "      <td>1</td>\n",
       "      <td>1</td>\n",
       "    </tr>\n",
       "    <tr>\n",
       "      <th>1</th>\n",
       "      <td>Nagarbhavi</td>\n",
       "      <td>1</td>\n",
       "      <td>1</td>\n",
       "      <td>1</td>\n",
       "      <td>1</td>\n",
       "      <td>1</td>\n",
       "      <td>1</td>\n",
       "      <td>1</td>\n",
       "      <td>1</td>\n",
       "      <td>1</td>\n",
       "      <td>0</td>\n",
       "      <td>1</td>\n",
       "      <td>1</td>\n",
       "      <td>1</td>\n",
       "      <td>1</td>\n",
       "      <td>1</td>\n",
       "      <td>1</td>\n",
       "    </tr>\n",
       "    <tr>\n",
       "      <th>2</th>\n",
       "      <td>Rajarajeshwari Nagar</td>\n",
       "      <td>2</td>\n",
       "      <td>2</td>\n",
       "      <td>2</td>\n",
       "      <td>2</td>\n",
       "      <td>2</td>\n",
       "      <td>2</td>\n",
       "      <td>2</td>\n",
       "      <td>2</td>\n",
       "      <td>2</td>\n",
       "      <td>2</td>\n",
       "      <td>2</td>\n",
       "      <td>2</td>\n",
       "      <td>2</td>\n",
       "      <td>2</td>\n",
       "      <td>2</td>\n",
       "      <td>2</td>\n",
       "    </tr>\n",
       "    <tr>\n",
       "      <th>3</th>\n",
       "      <td>West Bangalore</td>\n",
       "      <td>3</td>\n",
       "      <td>3</td>\n",
       "      <td>3</td>\n",
       "      <td>3</td>\n",
       "      <td>3</td>\n",
       "      <td>3</td>\n",
       "      <td>3</td>\n",
       "      <td>3</td>\n",
       "      <td>3</td>\n",
       "      <td>2</td>\n",
       "      <td>3</td>\n",
       "      <td>3</td>\n",
       "      <td>3</td>\n",
       "      <td>3</td>\n",
       "      <td>3</td>\n",
       "      <td>3</td>\n",
       "    </tr>\n",
       "    <tr>\n",
       "      <th>4</th>\n",
       "      <td>Yelahanka</td>\n",
       "      <td>5</td>\n",
       "      <td>5</td>\n",
       "      <td>5</td>\n",
       "      <td>5</td>\n",
       "      <td>5</td>\n",
       "      <td>5</td>\n",
       "      <td>5</td>\n",
       "      <td>4</td>\n",
       "      <td>5</td>\n",
       "      <td>2</td>\n",
       "      <td>5</td>\n",
       "      <td>4</td>\n",
       "      <td>5</td>\n",
       "      <td>5</td>\n",
       "      <td>5</td>\n",
       "      <td>5</td>\n",
       "    </tr>\n",
       "    <tr>\n",
       "      <th>5</th>\n",
       "      <td>Central Bangalore</td>\n",
       "      <td>8</td>\n",
       "      <td>8</td>\n",
       "      <td>8</td>\n",
       "      <td>8</td>\n",
       "      <td>8</td>\n",
       "      <td>8</td>\n",
       "      <td>8</td>\n",
       "      <td>8</td>\n",
       "      <td>8</td>\n",
       "      <td>3</td>\n",
       "      <td>8</td>\n",
       "      <td>8</td>\n",
       "      <td>8</td>\n",
       "      <td>8</td>\n",
       "      <td>8</td>\n",
       "      <td>8</td>\n",
       "    </tr>\n",
       "    <tr>\n",
       "      <th>6</th>\n",
       "      <td>Hebbal</td>\n",
       "      <td>8</td>\n",
       "      <td>8</td>\n",
       "      <td>8</td>\n",
       "      <td>8</td>\n",
       "      <td>8</td>\n",
       "      <td>8</td>\n",
       "      <td>8</td>\n",
       "      <td>8</td>\n",
       "      <td>8</td>\n",
       "      <td>0</td>\n",
       "      <td>8</td>\n",
       "      <td>8</td>\n",
       "      <td>8</td>\n",
       "      <td>8</td>\n",
       "      <td>8</td>\n",
       "      <td>8</td>\n",
       "    </tr>\n",
       "    <tr>\n",
       "      <th>7</th>\n",
       "      <td>Kengeri</td>\n",
       "      <td>9</td>\n",
       "      <td>9</td>\n",
       "      <td>9</td>\n",
       "      <td>9</td>\n",
       "      <td>9</td>\n",
       "      <td>9</td>\n",
       "      <td>9</td>\n",
       "      <td>9</td>\n",
       "      <td>9</td>\n",
       "      <td>0</td>\n",
       "      <td>9</td>\n",
       "      <td>9</td>\n",
       "      <td>9</td>\n",
       "      <td>9</td>\n",
       "      <td>9</td>\n",
       "      <td>9</td>\n",
       "    </tr>\n",
       "    <tr>\n",
       "      <th>8</th>\n",
       "      <td>Uttarahalli</td>\n",
       "      <td>9</td>\n",
       "      <td>9</td>\n",
       "      <td>9</td>\n",
       "      <td>9</td>\n",
       "      <td>9</td>\n",
       "      <td>9</td>\n",
       "      <td>9</td>\n",
       "      <td>8</td>\n",
       "      <td>9</td>\n",
       "      <td>4</td>\n",
       "      <td>9</td>\n",
       "      <td>9</td>\n",
       "      <td>9</td>\n",
       "      <td>9</td>\n",
       "      <td>9</td>\n",
       "      <td>9</td>\n",
       "    </tr>\n",
       "    <tr>\n",
       "      <th>9</th>\n",
       "      <td>KR Puram</td>\n",
       "      <td>10</td>\n",
       "      <td>10</td>\n",
       "      <td>10</td>\n",
       "      <td>10</td>\n",
       "      <td>10</td>\n",
       "      <td>10</td>\n",
       "      <td>10</td>\n",
       "      <td>10</td>\n",
       "      <td>10</td>\n",
       "      <td>1</td>\n",
       "      <td>10</td>\n",
       "      <td>10</td>\n",
       "      <td>10</td>\n",
       "      <td>10</td>\n",
       "      <td>10</td>\n",
       "      <td>10</td>\n",
       "    </tr>\n",
       "    <tr>\n",
       "      <th>10</th>\n",
       "      <td>North Bangalore</td>\n",
       "      <td>10</td>\n",
       "      <td>10</td>\n",
       "      <td>10</td>\n",
       "      <td>10</td>\n",
       "      <td>10</td>\n",
       "      <td>10</td>\n",
       "      <td>10</td>\n",
       "      <td>10</td>\n",
       "      <td>10</td>\n",
       "      <td>3</td>\n",
       "      <td>10</td>\n",
       "      <td>10</td>\n",
       "      <td>10</td>\n",
       "      <td>10</td>\n",
       "      <td>10</td>\n",
       "      <td>10</td>\n",
       "    </tr>\n",
       "    <tr>\n",
       "      <th>11</th>\n",
       "      <td>Mysore Road</td>\n",
       "      <td>17</td>\n",
       "      <td>17</td>\n",
       "      <td>17</td>\n",
       "      <td>17</td>\n",
       "      <td>17</td>\n",
       "      <td>17</td>\n",
       "      <td>17</td>\n",
       "      <td>15</td>\n",
       "      <td>17</td>\n",
       "      <td>4</td>\n",
       "      <td>17</td>\n",
       "      <td>17</td>\n",
       "      <td>17</td>\n",
       "      <td>17</td>\n",
       "      <td>17</td>\n",
       "      <td>17</td>\n",
       "    </tr>\n",
       "    <tr>\n",
       "      <th>12</th>\n",
       "      <td>Kanakapura Road</td>\n",
       "      <td>19</td>\n",
       "      <td>19</td>\n",
       "      <td>19</td>\n",
       "      <td>19</td>\n",
       "      <td>19</td>\n",
       "      <td>19</td>\n",
       "      <td>19</td>\n",
       "      <td>19</td>\n",
       "      <td>19</td>\n",
       "      <td>2</td>\n",
       "      <td>19</td>\n",
       "      <td>19</td>\n",
       "      <td>19</td>\n",
       "      <td>19</td>\n",
       "      <td>19</td>\n",
       "      <td>19</td>\n",
       "    </tr>\n",
       "    <tr>\n",
       "      <th>13</th>\n",
       "      <td>Old Madras Road</td>\n",
       "      <td>22</td>\n",
       "      <td>22</td>\n",
       "      <td>22</td>\n",
       "      <td>22</td>\n",
       "      <td>22</td>\n",
       "      <td>22</td>\n",
       "      <td>22</td>\n",
       "      <td>22</td>\n",
       "      <td>22</td>\n",
       "      <td>16</td>\n",
       "      <td>22</td>\n",
       "      <td>22</td>\n",
       "      <td>22</td>\n",
       "      <td>22</td>\n",
       "      <td>22</td>\n",
       "      <td>22</td>\n",
       "    </tr>\n",
       "    <tr>\n",
       "      <th>14</th>\n",
       "      <td>Jalahalli</td>\n",
       "      <td>23</td>\n",
       "      <td>23</td>\n",
       "      <td>23</td>\n",
       "      <td>23</td>\n",
       "      <td>23</td>\n",
       "      <td>23</td>\n",
       "      <td>23</td>\n",
       "      <td>23</td>\n",
       "      <td>23</td>\n",
       "      <td>3</td>\n",
       "      <td>23</td>\n",
       "      <td>23</td>\n",
       "      <td>23</td>\n",
       "      <td>23</td>\n",
       "      <td>23</td>\n",
       "      <td>23</td>\n",
       "    </tr>\n",
       "    <tr>\n",
       "      <th>15</th>\n",
       "      <td>Magadi Road</td>\n",
       "      <td>24</td>\n",
       "      <td>24</td>\n",
       "      <td>24</td>\n",
       "      <td>24</td>\n",
       "      <td>24</td>\n",
       "      <td>24</td>\n",
       "      <td>24</td>\n",
       "      <td>24</td>\n",
       "      <td>24</td>\n",
       "      <td>2</td>\n",
       "      <td>24</td>\n",
       "      <td>24</td>\n",
       "      <td>24</td>\n",
       "      <td>24</td>\n",
       "      <td>24</td>\n",
       "      <td>24</td>\n",
       "    </tr>\n",
       "    <tr>\n",
       "      <th>16</th>\n",
       "      <td>Sankey Road</td>\n",
       "      <td>26</td>\n",
       "      <td>26</td>\n",
       "      <td>26</td>\n",
       "      <td>26</td>\n",
       "      <td>26</td>\n",
       "      <td>26</td>\n",
       "      <td>26</td>\n",
       "      <td>26</td>\n",
       "      <td>26</td>\n",
       "      <td>17</td>\n",
       "      <td>26</td>\n",
       "      <td>26</td>\n",
       "      <td>26</td>\n",
       "      <td>26</td>\n",
       "      <td>26</td>\n",
       "      <td>26</td>\n",
       "    </tr>\n",
       "    <tr>\n",
       "      <th>17</th>\n",
       "      <td>Rammurthy Nagar</td>\n",
       "      <td>26</td>\n",
       "      <td>26</td>\n",
       "      <td>26</td>\n",
       "      <td>26</td>\n",
       "      <td>26</td>\n",
       "      <td>26</td>\n",
       "      <td>26</td>\n",
       "      <td>26</td>\n",
       "      <td>26</td>\n",
       "      <td>6</td>\n",
       "      <td>26</td>\n",
       "      <td>26</td>\n",
       "      <td>26</td>\n",
       "      <td>26</td>\n",
       "      <td>26</td>\n",
       "      <td>26</td>\n",
       "    </tr>\n",
       "    <tr>\n",
       "      <th>18</th>\n",
       "      <td>Langford Town</td>\n",
       "      <td>27</td>\n",
       "      <td>27</td>\n",
       "      <td>27</td>\n",
       "      <td>27</td>\n",
       "      <td>27</td>\n",
       "      <td>27</td>\n",
       "      <td>27</td>\n",
       "      <td>27</td>\n",
       "      <td>27</td>\n",
       "      <td>22</td>\n",
       "      <td>27</td>\n",
       "      <td>27</td>\n",
       "      <td>27</td>\n",
       "      <td>27</td>\n",
       "      <td>27</td>\n",
       "      <td>27</td>\n",
       "    </tr>\n",
       "    <tr>\n",
       "      <th>19</th>\n",
       "      <td>East Bangalore</td>\n",
       "      <td>28</td>\n",
       "      <td>28</td>\n",
       "      <td>28</td>\n",
       "      <td>28</td>\n",
       "      <td>28</td>\n",
       "      <td>28</td>\n",
       "      <td>28</td>\n",
       "      <td>28</td>\n",
       "      <td>28</td>\n",
       "      <td>8</td>\n",
       "      <td>28</td>\n",
       "      <td>28</td>\n",
       "      <td>28</td>\n",
       "      <td>28</td>\n",
       "      <td>28</td>\n",
       "      <td>28</td>\n",
       "    </tr>\n",
       "    <tr>\n",
       "      <th>20</th>\n",
       "      <td>Koramangala</td>\n",
       "      <td>30</td>\n",
       "      <td>30</td>\n",
       "      <td>30</td>\n",
       "      <td>30</td>\n",
       "      <td>30</td>\n",
       "      <td>30</td>\n",
       "      <td>30</td>\n",
       "      <td>30</td>\n",
       "      <td>30</td>\n",
       "      <td>17</td>\n",
       "      <td>30</td>\n",
       "      <td>30</td>\n",
       "      <td>30</td>\n",
       "      <td>30</td>\n",
       "      <td>30</td>\n",
       "      <td>30</td>\n",
       "    </tr>\n",
       "    <tr>\n",
       "      <th>21</th>\n",
       "      <td>Sahakara Nagar</td>\n",
       "      <td>45</td>\n",
       "      <td>45</td>\n",
       "      <td>45</td>\n",
       "      <td>45</td>\n",
       "      <td>45</td>\n",
       "      <td>45</td>\n",
       "      <td>45</td>\n",
       "      <td>44</td>\n",
       "      <td>45</td>\n",
       "      <td>20</td>\n",
       "      <td>45</td>\n",
       "      <td>45</td>\n",
       "      <td>45</td>\n",
       "      <td>45</td>\n",
       "      <td>45</td>\n",
       "      <td>45</td>\n",
       "    </tr>\n",
       "    <tr>\n",
       "      <th>22</th>\n",
       "      <td>Sanjay Nagar</td>\n",
       "      <td>48</td>\n",
       "      <td>48</td>\n",
       "      <td>48</td>\n",
       "      <td>48</td>\n",
       "      <td>48</td>\n",
       "      <td>48</td>\n",
       "      <td>48</td>\n",
       "      <td>46</td>\n",
       "      <td>48</td>\n",
       "      <td>17</td>\n",
       "      <td>48</td>\n",
       "      <td>48</td>\n",
       "      <td>48</td>\n",
       "      <td>48</td>\n",
       "      <td>48</td>\n",
       "      <td>48</td>\n",
       "    </tr>\n",
       "    <tr>\n",
       "      <th>23</th>\n",
       "      <td>Sadashiv Nagar</td>\n",
       "      <td>58</td>\n",
       "      <td>58</td>\n",
       "      <td>58</td>\n",
       "      <td>58</td>\n",
       "      <td>58</td>\n",
       "      <td>58</td>\n",
       "      <td>58</td>\n",
       "      <td>57</td>\n",
       "      <td>58</td>\n",
       "      <td>39</td>\n",
       "      <td>58</td>\n",
       "      <td>58</td>\n",
       "      <td>58</td>\n",
       "      <td>58</td>\n",
       "      <td>58</td>\n",
       "      <td>58</td>\n",
       "    </tr>\n",
       "    <tr>\n",
       "      <th>24</th>\n",
       "      <td>CV Raman Nagar</td>\n",
       "      <td>61</td>\n",
       "      <td>61</td>\n",
       "      <td>61</td>\n",
       "      <td>61</td>\n",
       "      <td>61</td>\n",
       "      <td>61</td>\n",
       "      <td>61</td>\n",
       "      <td>60</td>\n",
       "      <td>61</td>\n",
       "      <td>14</td>\n",
       "      <td>61</td>\n",
       "      <td>61</td>\n",
       "      <td>61</td>\n",
       "      <td>61</td>\n",
       "      <td>61</td>\n",
       "      <td>61</td>\n",
       "    </tr>\n",
       "  </tbody>\n",
       "</table>\n",
       "</div>"
      ],
      "text/plain": [
       "                location  url  address  name  online_order  book_table  rate  \\\n",
       "0                 Peenya    1        1     1             1           1     1   \n",
       "1             Nagarbhavi    1        1     1             1           1     1   \n",
       "2   Rajarajeshwari Nagar    2        2     2             2           2     2   \n",
       "3         West Bangalore    3        3     3             3           3     3   \n",
       "4              Yelahanka    5        5     5             5           5     5   \n",
       "5      Central Bangalore    8        8     8             8           8     8   \n",
       "6                 Hebbal    8        8     8             8           8     8   \n",
       "7                Kengeri    9        9     9             9           9     9   \n",
       "8            Uttarahalli    9        9     9             9           9     9   \n",
       "9               KR Puram   10       10    10            10          10    10   \n",
       "10       North Bangalore   10       10    10            10          10    10   \n",
       "11           Mysore Road   17       17    17            17          17    17   \n",
       "12       Kanakapura Road   19       19    19            19          19    19   \n",
       "13       Old Madras Road   22       22    22            22          22    22   \n",
       "14             Jalahalli   23       23    23            23          23    23   \n",
       "15           Magadi Road   24       24    24            24          24    24   \n",
       "16           Sankey Road   26       26    26            26          26    26   \n",
       "17       Rammurthy Nagar   26       26    26            26          26    26   \n",
       "18         Langford Town   27       27    27            27          27    27   \n",
       "19        East Bangalore   28       28    28            28          28    28   \n",
       "20           Koramangala   30       30    30            30          30    30   \n",
       "21        Sahakara Nagar   45       45    45            45          45    45   \n",
       "22          Sanjay Nagar   48       48    48            48          48    48   \n",
       "23        Sadashiv Nagar   58       58    58            58          58    58   \n",
       "24        CV Raman Nagar   61       61    61            61          61    61   \n",
       "\n",
       "    votes  phone  rest_type  dish_liked  cuisines  cost_two_person  \\\n",
       "0       1      1          1           0         1                1   \n",
       "1       1      1          1           0         1                1   \n",
       "2       2      2          2           2         2                2   \n",
       "3       3      3          3           2         3                3   \n",
       "4       5      4          5           2         5                4   \n",
       "5       8      8          8           3         8                8   \n",
       "6       8      8          8           0         8                8   \n",
       "7       9      9          9           0         9                9   \n",
       "8       9      8          9           4         9                9   \n",
       "9      10     10         10           1        10               10   \n",
       "10     10     10         10           3        10               10   \n",
       "11     17     15         17           4        17               17   \n",
       "12     19     19         19           2        19               19   \n",
       "13     22     22         22          16        22               22   \n",
       "14     23     23         23           3        23               23   \n",
       "15     24     24         24           2        24               24   \n",
       "16     26     26         26          17        26               26   \n",
       "17     26     26         26           6        26               26   \n",
       "18     27     27         27          22        27               27   \n",
       "19     28     28         28           8        28               28   \n",
       "20     30     30         30          17        30               30   \n",
       "21     45     44         45          20        45               45   \n",
       "22     48     46         48          17        48               48   \n",
       "23     58     57         58          39        58               58   \n",
       "24     61     60         61          14        61               61   \n",
       "\n",
       "    reviews_list  menu_item  service_type  registered_city  \n",
       "0              1          1             1                1  \n",
       "1              1          1             1                1  \n",
       "2              2          2             2                2  \n",
       "3              3          3             3                3  \n",
       "4              5          5             5                5  \n",
       "5              8          8             8                8  \n",
       "6              8          8             8                8  \n",
       "7              9          9             9                9  \n",
       "8              9          9             9                9  \n",
       "9             10         10            10               10  \n",
       "10            10         10            10               10  \n",
       "11            17         17            17               17  \n",
       "12            19         19            19               19  \n",
       "13            22         22            22               22  \n",
       "14            23         23            23               23  \n",
       "15            24         24            24               24  \n",
       "16            26         26            26               26  \n",
       "17            26         26            26               26  \n",
       "18            27         27            27               27  \n",
       "19            28         28            28               28  \n",
       "20            30         30            30               30  \n",
       "21            45         45            45               45  \n",
       "22            48         48            48               48  \n",
       "23            58         58            58               58  \n",
       "24            61         61            61               61  "
      ]
     },
     "execution_count": 54,
     "metadata": {},
     "output_type": "execute_result"
    }
   ],
   "source": [
    "Lowest_25_location_by_number_of_restaurant= df[df['rate']>0].groupby(by=\"location\").count().sort_values('rate',ascending=True).reset_index().head(25)\n",
    "Lowest_25_location_by_number_of_restaurant"
   ]
  },
  {
   "cell_type": "code",
   "execution_count": 55,
   "metadata": {
    "ExecuteTime": {
     "end_time": "2020-08-25T05:25:36.656975Z",
     "start_time": "2020-08-25T05:25:36.173376Z"
    }
   },
   "outputs": [
    {
     "data": {
      "image/png": "[encoded data removed]",
      "text/plain": [
       "<Figure size 864x720 with 1 Axes>"
      ]
     },
     "metadata": {
      "needs_background": "light"
     },
     "output_type": "display_data"
    }
   ],
   "source": [
    "plt.figure(figsize=(12, 10))\n",
    "sns.barplot(y=\"location\", x=\"name\", data=Lowest_25_location_by_number_of_restaurant.sort_values('rate',ascending=False))\n",
    "plt.title(\"Lowest 25 Restaurant Location By Numbers of Restaurant\",fontsize=18)\n",
    "plt.savefig(\"Lowest 10 Restaurant Location By Number of Restaurant\");"
   ]
  },
  {
   "cell_type": "markdown",
   "metadata": {},
   "source": [
    "### p ) Menampilkan 10 ``cuisines`` teratas bedasarkan rating "
   ]
  },
  {
   "cell_type": "code",
   "execution_count": 56,
   "metadata": {
    "ExecuteTime": {
     "end_time": "2020-08-25T05:25:36.703817Z",
     "start_time": "2020-08-25T05:25:36.658935Z"
    }
   },
   "outputs": [
    {
     "data": {
      "text/html": [
       "<div>\n",
       "<style scoped>\n",
       "    .dataframe tbody tr th:only-of-type {\n",
       "        vertical-align: middle;\n",
       "    }\n",
       "\n",
       "    .dataframe tbody tr th {\n",
       "        vertical-align: top;\n",
       "    }\n",
       "\n",
       "    .dataframe thead th {\n",
       "        text-align: right;\n",
       "    }\n",
       "</style>\n",
       "<table border=\"1\" class=\"dataframe\">\n",
       "  <thead>\n",
       "    <tr style=\"text-align: right;\">\n",
       "      <th></th>\n",
       "      <th>cuisines</th>\n",
       "      <th>rate</th>\n",
       "      <th>votes</th>\n",
       "      <th>cost_two_person</th>\n",
       "    </tr>\n",
       "  </thead>\n",
       "  <tbody>\n",
       "    <tr>\n",
       "      <th>0</th>\n",
       "      <td>Asian, Chinese, Thai, Momos</td>\n",
       "      <td>4.900000</td>\n",
       "      <td>2224.894737</td>\n",
       "      <td>1500.000000</td>\n",
       "    </tr>\n",
       "    <tr>\n",
       "      <th>1</th>\n",
       "      <td>Healthy Food, Salad, Mediterranean</td>\n",
       "      <td>4.900000</td>\n",
       "      <td>246.000000</td>\n",
       "      <td>1000.000000</td>\n",
       "    </tr>\n",
       "    <tr>\n",
       "      <th>2</th>\n",
       "      <td>Continental, North Indian, Italian, South Indi...</td>\n",
       "      <td>4.900000</td>\n",
       "      <td>16588.500000</td>\n",
       "      <td>1600.000000</td>\n",
       "    </tr>\n",
       "    <tr>\n",
       "      <th>3</th>\n",
       "      <td>North Indian, European, Mediterranean, BBQ</td>\n",
       "      <td>4.800000</td>\n",
       "      <td>7127.400000</td>\n",
       "      <td>1500.000000</td>\n",
       "    </tr>\n",
       "    <tr>\n",
       "      <th>4</th>\n",
       "      <td>Asian, Mediterranean, North Indian, BBQ</td>\n",
       "      <td>4.800000</td>\n",
       "      <td>4992.666667</td>\n",
       "      <td>1400.000000</td>\n",
       "    </tr>\n",
       "    <tr>\n",
       "      <th>5</th>\n",
       "      <td>European, Mediterranean, North Indian, BBQ</td>\n",
       "      <td>4.789474</td>\n",
       "      <td>4548.315789</td>\n",
       "      <td>1568.421053</td>\n",
       "    </tr>\n",
       "    <tr>\n",
       "      <th>6</th>\n",
       "      <td>American, Tex-Mex, Burger, BBQ, Mexican</td>\n",
       "      <td>4.750000</td>\n",
       "      <td>6077.375000</td>\n",
       "      <td>1400.000000</td>\n",
       "    </tr>\n",
       "    <tr>\n",
       "      <th>7</th>\n",
       "      <td>North Indian, European, Mediterranean</td>\n",
       "      <td>4.700000</td>\n",
       "      <td>10498.846154</td>\n",
       "      <td>1400.000000</td>\n",
       "    </tr>\n",
       "    <tr>\n",
       "      <th>8</th>\n",
       "      <td>Italian, American, Pizza</td>\n",
       "      <td>4.700000</td>\n",
       "      <td>14956.000000</td>\n",
       "      <td>1500.000000</td>\n",
       "    </tr>\n",
       "    <tr>\n",
       "      <th>9</th>\n",
       "      <td>Continental, European, BBQ, Chinese, Asian</td>\n",
       "      <td>4.700000</td>\n",
       "      <td>6986.600000</td>\n",
       "      <td>2400.000000</td>\n",
       "    </tr>\n",
       "  </tbody>\n",
       "</table>\n",
       "</div>"
      ],
      "text/plain": [
       "                                            cuisines      rate         votes  \\\n",
       "0                        Asian, Chinese, Thai, Momos  4.900000   2224.894737   \n",
       "1                 Healthy Food, Salad, Mediterranean  4.900000    246.000000   \n",
       "2  Continental, North Indian, Italian, South Indi...  4.900000  16588.500000   \n",
       "3         North Indian, European, Mediterranean, BBQ  4.800000   7127.400000   \n",
       "4            Asian, Mediterranean, North Indian, BBQ  4.800000   4992.666667   \n",
       "5         European, Mediterranean, North Indian, BBQ  4.789474   4548.315789   \n",
       "6            American, Tex-Mex, Burger, BBQ, Mexican  4.750000   6077.375000   \n",
       "7              North Indian, European, Mediterranean  4.700000  10498.846154   \n",
       "8                           Italian, American, Pizza  4.700000  14956.000000   \n",
       "9         Continental, European, BBQ, Chinese, Asian  4.700000   6986.600000   \n",
       "\n",
       "   cost_two_person  \n",
       "0      1500.000000  \n",
       "1      1000.000000  \n",
       "2      1600.000000  \n",
       "3      1500.000000  \n",
       "4      1400.000000  \n",
       "5      1568.421053  \n",
       "6      1400.000000  \n",
       "7      1400.000000  \n",
       "8      1500.000000  \n",
       "9      2400.000000  "
      ]
     },
     "execution_count": 56,
     "metadata": {},
     "output_type": "execute_result"
    }
   ],
   "source": [
    "df_group_cuisines = df.groupby(by=\"cuisines\").mean().sort_values('rate',ascending=False).reset_index().head(10)\n",
    "df_group_cuisines"
   ]
  },
  {
   "cell_type": "code",
   "execution_count": 57,
   "metadata": {
    "ExecuteTime": {
     "end_time": "2020-08-25T05:25:37.049892Z",
     "start_time": "2020-08-25T05:25:36.705811Z"
    }
   },
   "outputs": [
    {
     "data": {
      "image/png": "[encoded data removed]",
      "text/plain": [
       "<Figure size 864x720 with 1 Axes>"
      ]
     },
     "metadata": {
      "needs_background": "light"
     },
     "output_type": "display_data"
    }
   ],
   "source": [
    "plt.figure(figsize=(12, 10))\n",
    "sns.barplot(y=\"cuisines\", x=\"rate\", data=df_group_cuisines)\n",
    "plt.title(\"Top 10 Restaurant Cuisines by number of rating\",fontsize=18)\n",
    "plt.savefig(\"Top 10 Restaurant Cuisines by number of rating\");"
   ]
  },
  {
   "cell_type": "markdown",
   "metadata": {},
   "source": [
    "Bisa dilihat pada diagram diatas bahwa hidangan Asia  memiliki dominasi penilaian yang baik, karena mungkin faktor geografis bangalore berada di kawasan Asia bisa disimpulkan dominasi makanan lokal masih sangat berpengaruh"
   ]
  },
  {
   "cell_type": "markdown",
   "metadata": {},
   "source": [
    "### q ) Menampilkan 10 ``cuisines`` terbawah bedasarkan rating "
   ]
  },
  {
   "cell_type": "code",
   "execution_count": 58,
   "metadata": {
    "ExecuteTime": {
     "end_time": "2020-08-25T05:25:37.102750Z",
     "start_time": "2020-08-25T05:25:37.051885Z"
    }
   },
   "outputs": [
    {
     "data": {
      "text/html": [
       "<div>\n",
       "<style scoped>\n",
       "    .dataframe tbody tr th:only-of-type {\n",
       "        vertical-align: middle;\n",
       "    }\n",
       "\n",
       "    .dataframe tbody tr th {\n",
       "        vertical-align: top;\n",
       "    }\n",
       "\n",
       "    .dataframe thead th {\n",
       "        text-align: right;\n",
       "    }\n",
       "</style>\n",
       "<table border=\"1\" class=\"dataframe\">\n",
       "  <thead>\n",
       "    <tr style=\"text-align: right;\">\n",
       "      <th></th>\n",
       "      <th>cuisines</th>\n",
       "      <th>rate</th>\n",
       "      <th>votes</th>\n",
       "      <th>cost_two_person</th>\n",
       "    </tr>\n",
       "  </thead>\n",
       "  <tbody>\n",
       "    <tr>\n",
       "      <th>0</th>\n",
       "      <td>Fast Food, Street Food, North Indian, Biryani</td>\n",
       "      <td>2.40</td>\n",
       "      <td>45.000000</td>\n",
       "      <td>400.0</td>\n",
       "    </tr>\n",
       "    <tr>\n",
       "      <th>1</th>\n",
       "      <td>Chinese, European</td>\n",
       "      <td>2.40</td>\n",
       "      <td>25.000000</td>\n",
       "      <td>1000.0</td>\n",
       "    </tr>\n",
       "    <tr>\n",
       "      <th>2</th>\n",
       "      <td>Healthy Food, Salad, Fast Food</td>\n",
       "      <td>2.40</td>\n",
       "      <td>71.000000</td>\n",
       "      <td>500.0</td>\n",
       "    </tr>\n",
       "    <tr>\n",
       "      <th>3</th>\n",
       "      <td>North Indian, Chinese, Arabian, Biryani, Fast ...</td>\n",
       "      <td>2.45</td>\n",
       "      <td>127.000000</td>\n",
       "      <td>500.0</td>\n",
       "    </tr>\n",
       "    <tr>\n",
       "      <th>4</th>\n",
       "      <td>Andhra, North Indian, Chinese, Mangalorean</td>\n",
       "      <td>2.50</td>\n",
       "      <td>60.000000</td>\n",
       "      <td>750.0</td>\n",
       "    </tr>\n",
       "    <tr>\n",
       "      <th>5</th>\n",
       "      <td>North Indian, Chinese, Fast Food, Rolls, Juices</td>\n",
       "      <td>2.50</td>\n",
       "      <td>321.000000</td>\n",
       "      <td>400.0</td>\n",
       "    </tr>\n",
       "    <tr>\n",
       "      <th>6</th>\n",
       "      <td>Cafe, American, Pizza</td>\n",
       "      <td>2.55</td>\n",
       "      <td>157.000000</td>\n",
       "      <td>450.0</td>\n",
       "    </tr>\n",
       "    <tr>\n",
       "      <th>7</th>\n",
       "      <td>North Indian, Chinese, Rolls, Biryani, Kebab</td>\n",
       "      <td>2.60</td>\n",
       "      <td>231.000000</td>\n",
       "      <td>400.0</td>\n",
       "    </tr>\n",
       "    <tr>\n",
       "      <th>8</th>\n",
       "      <td>Kerala, North Indian, Chinese, Rolls, Juices</td>\n",
       "      <td>2.60</td>\n",
       "      <td>166.000000</td>\n",
       "      <td>350.0</td>\n",
       "    </tr>\n",
       "    <tr>\n",
       "      <th>9</th>\n",
       "      <td>Arabian, North Indian, Chinese</td>\n",
       "      <td>2.60</td>\n",
       "      <td>51.285714</td>\n",
       "      <td>300.0</td>\n",
       "    </tr>\n",
       "  </tbody>\n",
       "</table>\n",
       "</div>"
      ],
      "text/plain": [
       "                                            cuisines  rate       votes  \\\n",
       "0      Fast Food, Street Food, North Indian, Biryani  2.40   45.000000   \n",
       "1                                  Chinese, European  2.40   25.000000   \n",
       "2                     Healthy Food, Salad, Fast Food  2.40   71.000000   \n",
       "3  North Indian, Chinese, Arabian, Biryani, Fast ...  2.45  127.000000   \n",
       "4         Andhra, North Indian, Chinese, Mangalorean  2.50   60.000000   \n",
       "5    North Indian, Chinese, Fast Food, Rolls, Juices  2.50  321.000000   \n",
       "6                              Cafe, American, Pizza  2.55  157.000000   \n",
       "7       North Indian, Chinese, Rolls, Biryani, Kebab  2.60  231.000000   \n",
       "8       Kerala, North Indian, Chinese, Rolls, Juices  2.60  166.000000   \n",
       "9                     Arabian, North Indian, Chinese  2.60   51.285714   \n",
       "\n",
       "   cost_two_person  \n",
       "0            400.0  \n",
       "1           1000.0  \n",
       "2            500.0  \n",
       "3            500.0  \n",
       "4            750.0  \n",
       "5            400.0  \n",
       "6            450.0  \n",
       "7            400.0  \n",
       "8            350.0  \n",
       "9            300.0  "
      ]
     },
     "execution_count": 58,
     "metadata": {},
     "output_type": "execute_result"
    }
   ],
   "source": [
    "df_group_cuisines_lowest = df[df['rate']>0].groupby(by=\"cuisines\").mean().sort_values('rate',ascending=True).reset_index().head(10)\n",
    "df_group_cuisines_lowest"
   ]
  },
  {
   "cell_type": "code",
   "execution_count": 59,
   "metadata": {
    "ExecuteTime": {
     "end_time": "2020-08-25T05:25:37.434507Z",
     "start_time": "2020-08-25T05:25:37.104745Z"
    }
   },
   "outputs": [
    {
     "data": {
      "image/png": "[encoded data removed]",
      "text/plain": [
       "<Figure size 864x720 with 1 Axes>"
      ]
     },
     "metadata": {
      "needs_background": "light"
     },
     "output_type": "display_data"
    }
   ],
   "source": [
    "plt.figure(figsize=(12, 10))\n",
    "sns.barplot(y=\"cuisines\", x=\"rate\", data=df_group_cuisines_lowest.sort_values('rate',ascending=False))\n",
    "plt.title(\"Lowest 10 Restaurant Cuisines by rate\",fontsize=18)\n",
    "plt.savefig(\"Lowest 10 Restaurant Cuisines by rate\");\n"
   ]
  },
  {
   "cell_type": "markdown",
   "metadata": {
    "ExecuteTime": {
     "end_time": "2020-08-25T05:24:27.842767Z",
     "start_time": "2020-08-25T05:24:27.838777Z"
    }
   },
   "source": [
    "#### Menghitung panjang menu"
   ]
  },
  {
   "cell_type": "code",
   "execution_count": 60,
   "metadata": {
    "ExecuteTime": {
     "end_time": "2020-08-25T05:25:37.595238Z",
     "start_time": "2020-08-25T05:25:37.436502Z"
    }
   },
   "outputs": [],
   "source": [
    "def remove_list(x):\n",
    "    a = x.lstrip('[').rstrip(']').split(',')\n",
    "    if len(a) == 1:\n",
    "        return 0\n",
    "    else:\n",
    "        return len(a)\n",
    "\n",
    "df['len_menu_item'] = df['menu_item'].apply(lambda x : remove_list(x))\n"
   ]
  },
  {
   "cell_type": "code",
   "execution_count": 61,
   "metadata": {
    "ExecuteTime": {
     "end_time": "2020-08-25T05:25:37.642689Z",
     "start_time": "2020-08-25T05:25:37.597131Z"
    }
   },
   "outputs": [
    {
     "data": {
      "text/html": [
       "<div>\n",
       "<style scoped>\n",
       "    .dataframe tbody tr th:only-of-type {\n",
       "        vertical-align: middle;\n",
       "    }\n",
       "\n",
       "    .dataframe tbody tr th {\n",
       "        vertical-align: top;\n",
       "    }\n",
       "\n",
       "    .dataframe thead th {\n",
       "        text-align: right;\n",
       "    }\n",
       "</style>\n",
       "<table border=\"1\" class=\"dataframe\">\n",
       "  <thead>\n",
       "    <tr style=\"text-align: right;\">\n",
       "      <th></th>\n",
       "      <th>url</th>\n",
       "      <th>address</th>\n",
       "      <th>name</th>\n",
       "      <th>online_order</th>\n",
       "      <th>book_table</th>\n",
       "      <th>rate</th>\n",
       "      <th>votes</th>\n",
       "      <th>phone</th>\n",
       "      <th>location</th>\n",
       "      <th>rest_type</th>\n",
       "      <th>dish_liked</th>\n",
       "      <th>cuisines</th>\n",
       "      <th>cost_two_person</th>\n",
       "      <th>reviews_list</th>\n",
       "      <th>menu_item</th>\n",
       "      <th>service_type</th>\n",
       "      <th>registered_city</th>\n",
       "      <th>len_menu_item</th>\n",
       "    </tr>\n",
       "  </thead>\n",
       "  <tbody>\n",
       "    <tr>\n",
       "      <th>32</th>\n",
       "      <td>https://www.zomato.com/bangalore/sweet-truth-b...</td>\n",
       "      <td>101 Ground Floor, Manjunatha Complex, 22nd Mai...</td>\n",
       "      <td>Sweet Truth</td>\n",
       "      <td>Yes</td>\n",
       "      <td>No</td>\n",
       "      <td>3.9</td>\n",
       "      <td>35</td>\n",
       "      <td>+91 7710055553</td>\n",
       "      <td>Banashankari</td>\n",
       "      <td>Delivery</td>\n",
       "      <td>NaN</td>\n",
       "      <td>Bakery, Desserts</td>\n",
       "      <td>500.0</td>\n",
       "      <td>[('Rated 4.0', 'RATED\\n  I had the opportunity...</td>\n",
       "      <td>['Chocolate Fantasy (Pack Of 5)', 'Pan Cake (P...</td>\n",
       "      <td>Delivery</td>\n",
       "      <td>Banashankari</td>\n",
       "      <td>33</td>\n",
       "    </tr>\n",
       "    <tr>\n",
       "      <th>34</th>\n",
       "      <td>https://www.zomato.com/bangalore/faasos-banash...</td>\n",
       "      <td>80, BDA Complex, 2nd Stage, Banashankari, Bang...</td>\n",
       "      <td>Faasos</td>\n",
       "      <td>Yes</td>\n",
       "      <td>No</td>\n",
       "      <td>4.2</td>\n",
       "      <td>415</td>\n",
       "      <td>+91 7700020020</td>\n",
       "      <td>Banashankari</td>\n",
       "      <td>Quick Bites</td>\n",
       "      <td>Rolls, Veggie Wrap, Chocolate Fantasy, Rice Bo...</td>\n",
       "      <td>North Indian, Biryani, Fast Food</td>\n",
       "      <td>500.0</td>\n",
       "      <td>[('Rated 3.0', 'RATED\\n  Not worth for the mon...</td>\n",
       "      <td>['Chole Kulcha Meal', 'Upvas Aloo Paratha With...</td>\n",
       "      <td>Delivery</td>\n",
       "      <td>Banashankari</td>\n",
       "      <td>86</td>\n",
       "    </tr>\n",
       "    <tr>\n",
       "      <th>39</th>\n",
       "      <td>https://www.zomato.com/bangalore/maruthi-davan...</td>\n",
       "      <td>556/A, Water Tank Road, 3rd Stage, Banashankar...</td>\n",
       "      <td>Maruthi Davangere Benne Dosa</td>\n",
       "      <td>Yes</td>\n",
       "      <td>No</td>\n",
       "      <td>4.0</td>\n",
       "      <td>17</td>\n",
       "      <td>+91 9019563485</td>\n",
       "      <td>Banashankari</td>\n",
       "      <td>Quick Bites</td>\n",
       "      <td>NaN</td>\n",
       "      <td>South Indian</td>\n",
       "      <td>150.0</td>\n",
       "      <td>[('Rated 5.0', \"RATED\\n  This restaurant serve...</td>\n",
       "      <td>['Benne Dosa', 'Benne Masala Dosa', 'Benne Kal...</td>\n",
       "      <td>Delivery</td>\n",
       "      <td>Banashankari</td>\n",
       "      <td>12</td>\n",
       "    </tr>\n",
       "    <tr>\n",
       "      <th>46</th>\n",
       "      <td>https://www.zomato.com/bangalore/kitchen-garde...</td>\n",
       "      <td>1750, 14th Main, Police Station Road, Kumarasw...</td>\n",
       "      <td>Kitchen Garden</td>\n",
       "      <td>Yes</td>\n",
       "      <td>No</td>\n",
       "      <td>3.6</td>\n",
       "      <td>244</td>\n",
       "      <td>080 49652867</td>\n",
       "      <td>Kumaraswamy Layout</td>\n",
       "      <td>Quick Bites</td>\n",
       "      <td>Biryani</td>\n",
       "      <td>North Indian, Chinese</td>\n",
       "      <td>300.0</td>\n",
       "      <td>[('Rated 3.0', 'RATED\\n  We ordered two Indian...</td>\n",
       "      <td>['3 Poori with Subji', 'Chole Bhature [2 Piece...</td>\n",
       "      <td>Delivery</td>\n",
       "      <td>Banashankari</td>\n",
       "      <td>32</td>\n",
       "    </tr>\n",
       "    <tr>\n",
       "      <th>47</th>\n",
       "      <td>https://www.zomato.com/bangalore/recipe-kumara...</td>\n",
       "      <td>1621, 1st Floor, 50 Feet Main Road, Kumaraswam...</td>\n",
       "      <td>Recipe</td>\n",
       "      <td>Yes</td>\n",
       "      <td>No</td>\n",
       "      <td>4.0</td>\n",
       "      <td>804</td>\n",
       "      <td>+91 8043755256\\r\\n+91 9886073774</td>\n",
       "      <td>Kumaraswamy Layout</td>\n",
       "      <td>Casual Dining</td>\n",
       "      <td>Butter Chicken, Noodles, Thali, Biryani</td>\n",
       "      <td>North Indian, Chinese, Biryani, Rolls</td>\n",
       "      <td>450.0</td>\n",
       "      <td>[('Rated 3.0', \"RATED\\n  Ordered Paneer meal v...</td>\n",
       "      <td>['Veg Fried Rice', 'Egg Fried Rice', 'Chicken ...</td>\n",
       "      <td>Delivery</td>\n",
       "      <td>Banashankari</td>\n",
       "      <td>150</td>\n",
       "    </tr>\n",
       "    <tr>\n",
       "      <th>...</th>\n",
       "      <td>...</td>\n",
       "      <td>...</td>\n",
       "      <td>...</td>\n",
       "      <td>...</td>\n",
       "      <td>...</td>\n",
       "      <td>...</td>\n",
       "      <td>...</td>\n",
       "      <td>...</td>\n",
       "      <td>...</td>\n",
       "      <td>...</td>\n",
       "      <td>...</td>\n",
       "      <td>...</td>\n",
       "      <td>...</td>\n",
       "      <td>...</td>\n",
       "      <td>...</td>\n",
       "      <td>...</td>\n",
       "      <td>...</td>\n",
       "      <td>...</td>\n",
       "    </tr>\n",
       "    <tr>\n",
       "      <th>51664</th>\n",
       "      <td>https://www.zomato.com/bangalore/olivers-pub-d...</td>\n",
       "      <td>ITPL Ascendas Park Square Mall, ITPL, First Fl...</td>\n",
       "      <td>Oliver's Pub &amp; Diner</td>\n",
       "      <td>Yes</td>\n",
       "      <td>Yes</td>\n",
       "      <td>3.9</td>\n",
       "      <td>548</td>\n",
       "      <td>+91 8043691111\\n+91 8028026519</td>\n",
       "      <td>Whitefield</td>\n",
       "      <td>Pub, Casual Dining</td>\n",
       "      <td>Pizza, Beer, Cocktails, Nachos, Pasta, Moo Bur...</td>\n",
       "      <td>Finger Food, American, Continental, Burger, Pizza</td>\n",
       "      <td>1500.0</td>\n",
       "      <td>[('Rated 4.0', \"RATED\\n  I had :-\\n\\n1. Italia...</td>\n",
       "      <td>['Chicken Wings', 'Pepper Chicken', \"Beef Gril...</td>\n",
       "      <td>Drinks &amp; nightlife</td>\n",
       "      <td>Whitefield</td>\n",
       "      <td>232</td>\n",
       "    </tr>\n",
       "    <tr>\n",
       "      <th>51687</th>\n",
       "      <td>https://www.zomato.com/bangalore/red-rhino-whi...</td>\n",
       "      <td>4th Floor, Uptown Square, Seegehalli, Near All...</td>\n",
       "      <td>Red Rhino</td>\n",
       "      <td>Yes</td>\n",
       "      <td>Yes</td>\n",
       "      <td>4.4</td>\n",
       "      <td>1980</td>\n",
       "      <td>080 49652108</td>\n",
       "      <td>Whitefield</td>\n",
       "      <td>Microbrewery, Pub</td>\n",
       "      <td>Beer, Margarita, Long Island Iced Tea, Cocktai...</td>\n",
       "      <td>Continental, Mediterranean, South Indian, Nort...</td>\n",
       "      <td>1700.0</td>\n",
       "      <td>[('Rated 4.0', 'RATED\\n  Red Rhino is a Brewer...</td>\n",
       "      <td>['Hangover', 'Smoking Hot Red Rhino Chilli Chi...</td>\n",
       "      <td>Pubs and bars</td>\n",
       "      <td>Whitefield</td>\n",
       "      <td>166</td>\n",
       "    </tr>\n",
       "    <tr>\n",
       "      <th>51688</th>\n",
       "      <td>https://www.zomato.com/bangalore/ji-hazoor-whi...</td>\n",
       "      <td>TR 9, 4th Floor, Plot 95, EPIP Zone, Near Vaid...</td>\n",
       "      <td>Ji Hazoor</td>\n",
       "      <td>Yes</td>\n",
       "      <td>Yes</td>\n",
       "      <td>4.0</td>\n",
       "      <td>2856</td>\n",
       "      <td>080 49652519</td>\n",
       "      <td>Whitefield</td>\n",
       "      <td>Casual Dining, Bar</td>\n",
       "      <td>Chicken Salad, Mocktails, Mutton Curry, Chicke...</td>\n",
       "      <td>Mughlai, North Indian, Biryani, Afghan</td>\n",
       "      <td>1100.0</td>\n",
       "      <td>[('Rated 4.0', 'RATED\\n  Was there on last Wed...</td>\n",
       "      <td>['Dal Tadka', 'Dal Makhani', 'Paneer Tikka Mas...</td>\n",
       "      <td>Pubs and bars</td>\n",
       "      <td>Whitefield</td>\n",
       "      <td>151</td>\n",
       "    </tr>\n",
       "    <tr>\n",
       "      <th>51693</th>\n",
       "      <td>https://www.zomato.com/bangalore/one-for-the-r...</td>\n",
       "      <td>87/2A &amp; 87/3, SH 35, Seegehalli, Whitefield, B...</td>\n",
       "      <td>One For The Road</td>\n",
       "      <td>Yes</td>\n",
       "      <td>Yes</td>\n",
       "      <td>4.1</td>\n",
       "      <td>137</td>\n",
       "      <td>080 49652780</td>\n",
       "      <td>Whitefield</td>\n",
       "      <td>Bar</td>\n",
       "      <td>Cocktails, Pasta, Fish</td>\n",
       "      <td>Continental, North Indian, Finger Food</td>\n",
       "      <td>1200.0</td>\n",
       "      <td>[('Rated 4.0', 'RATED\\n  Had been there on a S...</td>\n",
       "      <td>['Chicken Manchow Soup', 'Chicken Lollipop', '...</td>\n",
       "      <td>Pubs and bars</td>\n",
       "      <td>Whitefield</td>\n",
       "      <td>178</td>\n",
       "    </tr>\n",
       "    <tr>\n",
       "      <th>51694</th>\n",
       "      <td>https://www.zomato.com/WhitefieldSocial?contex...</td>\n",
       "      <td>29, Ground Floor, Phoenix Market City, Whitefi...</td>\n",
       "      <td>Whitefield Social</td>\n",
       "      <td>Yes</td>\n",
       "      <td>No</td>\n",
       "      <td>4.1</td>\n",
       "      <td>2773</td>\n",
       "      <td>+91 8049626661\\n+91 9886252234</td>\n",
       "      <td>Whitefield</td>\n",
       "      <td>Pub</td>\n",
       "      <td>Cocktails, Chicken Kebab, Murgh Ghee Roast, Vi...</td>\n",
       "      <td>American, North Indian, Chinese, Finger Food, ...</td>\n",
       "      <td>1500.0</td>\n",
       "      <td>[('Rated 2.0', 'RATED\\n  Honestly speaking it ...</td>\n",
       "      <td>['Chilli Paneer Black Pepper China Box', 'Chil...</td>\n",
       "      <td>Pubs and bars</td>\n",
       "      <td>Whitefield</td>\n",
       "      <td>89</td>\n",
       "    </tr>\n",
       "  </tbody>\n",
       "</table>\n",
       "<p>11377 rows × 18 columns</p>\n",
       "</div>"
      ],
      "text/plain": [
       "                                                     url  \\\n",
       "32     https://www.zomato.com/bangalore/sweet-truth-b...   \n",
       "34     https://www.zomato.com/bangalore/faasos-banash...   \n",
       "39     https://www.zomato.com/bangalore/maruthi-davan...   \n",
       "46     https://www.zomato.com/bangalore/kitchen-garde...   \n",
       "47     https://www.zomato.com/bangalore/recipe-kumara...   \n",
       "...                                                  ...   \n",
       "51664  https://www.zomato.com/bangalore/olivers-pub-d...   \n",
       "51687  https://www.zomato.com/bangalore/red-rhino-whi...   \n",
       "51688  https://www.zomato.com/bangalore/ji-hazoor-whi...   \n",
       "51693  https://www.zomato.com/bangalore/one-for-the-r...   \n",
       "51694  https://www.zomato.com/WhitefieldSocial?contex...   \n",
       "\n",
       "                                                 address  \\\n",
       "32     101 Ground Floor, Manjunatha Complex, 22nd Mai...   \n",
       "34     80, BDA Complex, 2nd Stage, Banashankari, Bang...   \n",
       "39     556/A, Water Tank Road, 3rd Stage, Banashankar...   \n",
       "46     1750, 14th Main, Police Station Road, Kumarasw...   \n",
       "47     1621, 1st Floor, 50 Feet Main Road, Kumaraswam...   \n",
       "...                                                  ...   \n",
       "51664  ITPL Ascendas Park Square Mall, ITPL, First Fl...   \n",
       "51687  4th Floor, Uptown Square, Seegehalli, Near All...   \n",
       "51688  TR 9, 4th Floor, Plot 95, EPIP Zone, Near Vaid...   \n",
       "51693  87/2A & 87/3, SH 35, Seegehalli, Whitefield, B...   \n",
       "51694  29, Ground Floor, Phoenix Market City, Whitefi...   \n",
       "\n",
       "                               name online_order book_table  rate  votes  \\\n",
       "32                      Sweet Truth          Yes         No   3.9     35   \n",
       "34                           Faasos          Yes         No   4.2    415   \n",
       "39     Maruthi Davangere Benne Dosa          Yes         No   4.0     17   \n",
       "46                   Kitchen Garden          Yes         No   3.6    244   \n",
       "47                           Recipe          Yes         No   4.0    804   \n",
       "...                             ...          ...        ...   ...    ...   \n",
       "51664          Oliver's Pub & Diner          Yes        Yes   3.9    548   \n",
       "51687                     Red Rhino          Yes        Yes   4.4   1980   \n",
       "51688                     Ji Hazoor          Yes        Yes   4.0   2856   \n",
       "51693              One For The Road          Yes        Yes   4.1    137   \n",
       "51694             Whitefield Social          Yes         No   4.1   2773   \n",
       "\n",
       "                                  phone            location  \\\n",
       "32                       +91 7710055553        Banashankari   \n",
       "34                       +91 7700020020        Banashankari   \n",
       "39                       +91 9019563485        Banashankari   \n",
       "46                         080 49652867  Kumaraswamy Layout   \n",
       "47     +91 8043755256\\r\\n+91 9886073774  Kumaraswamy Layout   \n",
       "...                                 ...                 ...   \n",
       "51664    +91 8043691111\\n+91 8028026519          Whitefield   \n",
       "51687                      080 49652108          Whitefield   \n",
       "51688                      080 49652519          Whitefield   \n",
       "51693                      080 49652780          Whitefield   \n",
       "51694    +91 8049626661\\n+91 9886252234          Whitefield   \n",
       "\n",
       "                rest_type                                         dish_liked  \\\n",
       "32               Delivery                                                NaN   \n",
       "34            Quick Bites  Rolls, Veggie Wrap, Chocolate Fantasy, Rice Bo...   \n",
       "39            Quick Bites                                                NaN   \n",
       "46            Quick Bites                                            Biryani   \n",
       "47          Casual Dining            Butter Chicken, Noodles, Thali, Biryani   \n",
       "...                   ...                                                ...   \n",
       "51664  Pub, Casual Dining  Pizza, Beer, Cocktails, Nachos, Pasta, Moo Bur...   \n",
       "51687   Microbrewery, Pub  Beer, Margarita, Long Island Iced Tea, Cocktai...   \n",
       "51688  Casual Dining, Bar  Chicken Salad, Mocktails, Mutton Curry, Chicke...   \n",
       "51693                 Bar                             Cocktails, Pasta, Fish   \n",
       "51694                 Pub  Cocktails, Chicken Kebab, Murgh Ghee Roast, Vi...   \n",
       "\n",
       "                                                cuisines  cost_two_person  \\\n",
       "32                                      Bakery, Desserts            500.0   \n",
       "34                      North Indian, Biryani, Fast Food            500.0   \n",
       "39                                          South Indian            150.0   \n",
       "46                                 North Indian, Chinese            300.0   \n",
       "47                 North Indian, Chinese, Biryani, Rolls            450.0   \n",
       "...                                                  ...              ...   \n",
       "51664  Finger Food, American, Continental, Burger, Pizza           1500.0   \n",
       "51687  Continental, Mediterranean, South Indian, Nort...           1700.0   \n",
       "51688             Mughlai, North Indian, Biryani, Afghan           1100.0   \n",
       "51693             Continental, North Indian, Finger Food           1200.0   \n",
       "51694  American, North Indian, Chinese, Finger Food, ...           1500.0   \n",
       "\n",
       "                                            reviews_list  \\\n",
       "32     [('Rated 4.0', 'RATED\\n  I had the opportunity...   \n",
       "34     [('Rated 3.0', 'RATED\\n  Not worth for the mon...   \n",
       "39     [('Rated 5.0', \"RATED\\n  This restaurant serve...   \n",
       "46     [('Rated 3.0', 'RATED\\n  We ordered two Indian...   \n",
       "47     [('Rated 3.0', \"RATED\\n  Ordered Paneer meal v...   \n",
       "...                                                  ...   \n",
       "51664  [('Rated 4.0', \"RATED\\n  I had :-\\n\\n1. Italia...   \n",
       "51687  [('Rated 4.0', 'RATED\\n  Red Rhino is a Brewer...   \n",
       "51688  [('Rated 4.0', 'RATED\\n  Was there on last Wed...   \n",
       "51693  [('Rated 4.0', 'RATED\\n  Had been there on a S...   \n",
       "51694  [('Rated 2.0', 'RATED\\n  Honestly speaking it ...   \n",
       "\n",
       "                                               menu_item        service_type  \\\n",
       "32     ['Chocolate Fantasy (Pack Of 5)', 'Pan Cake (P...            Delivery   \n",
       "34     ['Chole Kulcha Meal', 'Upvas Aloo Paratha With...            Delivery   \n",
       "39     ['Benne Dosa', 'Benne Masala Dosa', 'Benne Kal...            Delivery   \n",
       "46     ['3 Poori with Subji', 'Chole Bhature [2 Piece...            Delivery   \n",
       "47     ['Veg Fried Rice', 'Egg Fried Rice', 'Chicken ...            Delivery   \n",
       "...                                                  ...                 ...   \n",
       "51664  ['Chicken Wings', 'Pepper Chicken', \"Beef Gril...  Drinks & nightlife   \n",
       "51687  ['Hangover', 'Smoking Hot Red Rhino Chilli Chi...       Pubs and bars   \n",
       "51688  ['Dal Tadka', 'Dal Makhani', 'Paneer Tikka Mas...       Pubs and bars   \n",
       "51693  ['Chicken Manchow Soup', 'Chicken Lollipop', '...       Pubs and bars   \n",
       "51694  ['Chilli Paneer Black Pepper China Box', 'Chil...       Pubs and bars   \n",
       "\n",
       "      registered_city  len_menu_item  \n",
       "32       Banashankari             33  \n",
       "34       Banashankari             86  \n",
       "39       Banashankari             12  \n",
       "46       Banashankari             32  \n",
       "47       Banashankari            150  \n",
       "...               ...            ...  \n",
       "51664      Whitefield            232  \n",
       "51687      Whitefield            166  \n",
       "51688      Whitefield            151  \n",
       "51693      Whitefield            178  \n",
       "51694      Whitefield             89  \n",
       "\n",
       "[11377 rows x 18 columns]"
      ]
     },
     "execution_count": 61,
     "metadata": {},
     "output_type": "execute_result"
    }
   ],
   "source": [
    "df_len_menu_item = df[df['len_menu_item'] > 0]\n",
    "df_len_menu_item"
   ]
  },
  {
   "cell_type": "markdown",
   "metadata": {},
   "source": [
    "### r ) Menampilkan 10 restaurant dengan menu terbanyak"
   ]
  },
  {
   "cell_type": "code",
   "execution_count": 62,
   "metadata": {
    "ExecuteTime": {
     "end_time": "2020-08-25T05:25:37.991718Z",
     "start_time": "2020-08-25T05:25:37.644646Z"
    }
   },
   "outputs": [
    {
     "data": {
      "text/plain": [
       "Text(0.5, 1.0, 'Highest 10 Restaurant With Most Menu Item')"
      ]
     },
     "execution_count": 62,
     "metadata": {},
     "output_type": "execute_result"
    },
    {
     "data": {
      "image/png": "[encoded data removed]",
      "text/plain": [
       "<Figure size 864x720 with 1 Axes>"
      ]
     },
     "metadata": {
      "needs_background": "light"
     },
     "output_type": "display_data"
    }
   ],
   "source": [
    "plt.figure(figsize=(12, 10))\n",
    "sns.barplot(y=\"name\", x=\"len_menu_item\", data=df_len_menu_item.sort_values('len_menu_item',ascending=False).head(10))\n",
    "plt.title(\"Highest 10 Restaurant With Most Menu Item\",fontsize=18)\n",
    "#plt.savefig(\"Highest_10_Restaurant_with_most_menu_item.png\");"
   ]
  },
  {
   "cell_type": "markdown",
   "metadata": {},
   "source": [
    "### s ) Menampilkan 10 restaurant dengan paling sedikit menyediakan menu"
   ]
  },
  {
   "cell_type": "code",
   "execution_count": 71,
   "metadata": {
    "ExecuteTime": {
     "end_time": "2020-08-25T05:32:59.055444Z",
     "start_time": "2020-08-25T05:32:58.844009Z"
    }
   },
   "outputs": [
    {
     "data": {
      "image/png": "[encoded data removed]",
      "text/plain": [
       "<Figure size 864x720 with 1 Axes>"
      ]
     },
     "metadata": {
      "needs_background": "light"
     },
     "output_type": "display_data"
    }
   ],
   "source": [
    "plt.figure(figsize=(12, 10))\n",
    "sns.barplot(y=\"name\", x=\"len_menu_item\", data=df_len_menu_item.sort_values('len_menu_item',ascending=True).head(5))\n",
    "plt.title(\"Highest 10 Restaurant With Most Menu Item\",fontsize=18);"
   ]
  },
  {
   "cell_type": "markdown",
   "metadata": {},
   "source": [
    "### t ) Hubungan antara banyaknya menu terhadap rating"
   ]
  },
  {
   "cell_type": "code",
   "execution_count": 72,
   "metadata": {
    "ExecuteTime": {
     "end_time": "2020-08-25T05:39:04.656308Z",
     "start_time": "2020-08-25T05:39:04.323201Z"
    }
   },
   "outputs": [
    {
     "data": {
      "image/png": "[encoded data removed]",
      "text/plain": [
       "<Figure size 1080x576 with 1 Axes>"
      ]
     },
     "metadata": {
      "needs_background": "light"
     },
     "output_type": "display_data"
    }
   ],
   "source": [
    "plt.figure(figsize=(15,8))\n",
    "sns.scatterplot(x=\"len_menu_item\",y=\"rate\",data=df_len_menu_item)\n",
    "plt.xticks(rotation=90)\n",
    "plt.savefig(\"Hubungan antara len_menu_item dengan rating\");"
   ]
  },
  {
   "cell_type": "code",
   "execution_count": null,
   "metadata": {},
   "outputs": [],
   "source": []
  }
 ],
 "metadata": {
  "kernelspec": {
   "display_name": "Python 3",
   "language": "python",
   "name": "python3"
  },
  "language_info": {
   "codemirror_mode": {
    "name": "ipython",
    "version": 3
   },
   "file_extension": ".py",
   "mimetype": "text/x-python",
   "name": "python",
   "nbconvert_exporter": "python",
   "pygments_lexer": "ipython3",
   "version": "3.7.9"
  }
 },
 "nbformat": 4,
 "nbformat_minor": 4
}
