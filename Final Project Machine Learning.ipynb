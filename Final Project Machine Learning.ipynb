{
 "cells": [
  {
   "cell_type": "code",
   "execution_count": 1,
   "metadata": {
    "ExecuteTime": {
     "end_time": "2020-08-18T21:08:24.096594Z",
     "start_time": "2020-08-18T21:08:21.332283Z"
    }
   },
   "outputs": [],
   "source": [
    "import pandas as pd\n",
    "import numpy as np\n",
    "\n",
    "#visualization\n",
    "import seaborn as sns\n",
    "import matplotlib.pyplot as plt\n",
    "\n",
    "\n",
    "#Data Visualization\n",
    "import matplotlib.pyplot as plt\n",
    "import seaborn as sns\n",
    "\n",
    "#Data Scalling\n",
    "from sklearn.preprocessing import RobustScaler,StandardScaler,MinMaxScaler,MaxAbsScaler\n",
    "\n",
    "\n",
    "##\n",
    "from sklearn.preprocessing import Normalizer,Binarizer\n",
    "\n",
    "\n",
    "\n",
    "\n",
    "#Data encoder\n",
    "from sklearn.preprocessing import LabelEncoder\n",
    "from sklearn.preprocessing import OneHotEncoder\n",
    "\n",
    "#Data Splitting\n",
    "from sklearn.model_selection import train_test_split,cross_val_score, GridSearchCV, KFold, StratifiedKFold, RandomizedSearchCV\n",
    "from sklearn.metrics import mean_squared_error, mean_absolute_error, r2_score\n",
    "\n",
    "#Regressor\n",
    "from sklearn.linear_model import LinearRegression,Lasso,Ridge, BayesianRidge, ElasticNet, HuberRegressor,LogisticRegression\n",
    "from sklearn.tree import DecisionTreeRegressor\n",
    "from sklearn.ensemble import RandomForestRegressor\n",
    "from sklearn.neighbors import KNeighborsRegressor\n",
    "from sklearn.svm import SVR\n",
    "##Polynomial\n",
    "from sklearn.preprocessing import PolynomialFeatures as PF\n",
    "\n",
    "\n",
    "##Pipeline\n",
    "from sklearn.pipeline import make_pipeline\n",
    "\n",
    "#statistic\n",
    "from scipy import stats\n",
    "\n",
    "\n",
    "import warnings \n",
    "warnings.filterwarnings(\"ignore\")"
   ]
  },
  {
   "cell_type": "markdown",
   "metadata": {},
   "source": [
    "## Deskripsi mengenai kolom  \n",
    "\n",
    "- url         : Alamat website restoran             \n",
    "- address     : Detail alamat dimana restoran berada\n",
    "- name        : Nama restoran                 \n",
    "- online_order :   Mengetahui apakah restoran menyediakan layanan booking pemesanan makanan secara online atau tidak        - book_table  :  Ketersediaan restoran dalam menyediakan reservasi makan ditempat                \n",
    "- rate   :  Angka penilaian restoran yang diberikan oleh konsumen dengan nilai maks 5            \n",
    "- votes  :  Total dari rating yang diberikan oleh konsumen                   \n",
    "- phone  : Nomor telfon restoran                      \n",
    "- location : Area dimana restoran berada                   \n",
    "- rest_type : Tipe restoran\n",
    "- dish_liked : Makanan yang paling disukai konsumen pada tiap restoran                 \n",
    "- cuisines : Jenis masakan, biasanya dihubungkan dengan masakan khas suatu daerah               \n",
    "- approx_cost(for two people) : Perkiraan harga makanan untuk dua orang \n",
    "- reviews_list : Testimoni pengunjung                \n",
    "- menu_item : List yang berisi menu makanan                   \n",
    "- listed_in(type) : Jenis pelayanan restoran, seperti Buffet, caffe             \n",
    "- listed_in(city)  : Menjelaskan dimana restoran yang ingin didaftarkan, misalnya Resto A Cabang Banashankari ingin didaftarkan oleh Resto A Cabang Jayanager maka listed in city adalah Jayanager\n",
    "\n"
   ]
  },
  {
   "cell_type": "markdown",
   "metadata": {},
   "source": [
    "## 1. Cleaning Data"
   ]
  },
  {
   "cell_type": "code",
   "execution_count": 2,
   "metadata": {
    "ExecuteTime": {
     "end_time": "2020-08-18T21:08:29.591366Z",
     "start_time": "2020-08-18T21:08:24.098593Z"
    }
   },
   "outputs": [],
   "source": [
    "data = pd.read_csv(\"zomato.csv\")"
   ]
  },
  {
   "cell_type": "code",
   "execution_count": 3,
   "metadata": {
    "ExecuteTime": {
     "end_time": "2020-08-18T21:08:29.606294Z",
     "start_time": "2020-08-18T21:08:29.591366Z"
    }
   },
   "outputs": [],
   "source": [
    "df= data.copy()"
   ]
  },
  {
   "cell_type": "markdown",
   "metadata": {},
   "source": [
    "#### Mengecek null value seluruh feature"
   ]
  },
  {
   "cell_type": "code",
   "execution_count": 4,
   "metadata": {
    "ExecuteTime": {
     "end_time": "2020-08-18T21:08:29.675601Z",
     "start_time": "2020-08-18T21:08:29.609232Z"
    },
    "scrolled": true
   },
   "outputs": [
    {
     "name": "stdout",
     "output_type": "stream",
     "text": [
      "<class 'pandas.core.frame.DataFrame'>\n",
      "RangeIndex: 51717 entries, 0 to 51716\n",
      "Data columns (total 17 columns):\n",
      " #   Column                       Non-Null Count  Dtype \n",
      "---  ------                       --------------  ----- \n",
      " 0   url                          51717 non-null  object\n",
      " 1   address                      51717 non-null  object\n",
      " 2   name                         51717 non-null  object\n",
      " 3   online_order                 51717 non-null  object\n",
      " 4   book_table                   51717 non-null  object\n",
      " 5   rate                         43942 non-null  object\n",
      " 6   votes                        51717 non-null  int64 \n",
      " 7   phone                        50509 non-null  object\n",
      " 8   location                     51696 non-null  object\n",
      " 9   rest_type                    51490 non-null  object\n",
      " 10  dish_liked                   23639 non-null  object\n",
      " 11  cuisines                     51672 non-null  object\n",
      " 12  approx_cost(for two people)  51371 non-null  object\n",
      " 13  reviews_list                 51717 non-null  object\n",
      " 14  menu_item                    51717 non-null  object\n",
      " 15  listed_in(type)              51717 non-null  object\n",
      " 16  listed_in(city)              51717 non-null  object\n",
      "dtypes: int64(1), object(16)\n",
      "memory usage: 6.7+ MB\n"
     ]
    }
   ],
   "source": [
    "\n",
    "df.info()"
   ]
  },
  {
   "cell_type": "markdown",
   "metadata": {},
   "source": [
    "#### Mengecek presentase null value pada semua feature"
   ]
  },
  {
   "cell_type": "code",
   "execution_count": 5,
   "metadata": {
    "ExecuteTime": {
     "end_time": "2020-08-18T21:08:29.751373Z",
     "start_time": "2020-08-18T21:08:29.677559Z"
    }
   },
   "outputs": [
    {
     "data": {
      "text/html": [
       "<div>\n",
       "<style scoped>\n",
       "    .dataframe tbody tr th:only-of-type {\n",
       "        vertical-align: middle;\n",
       "    }\n",
       "\n",
       "    .dataframe tbody tr th {\n",
       "        vertical-align: top;\n",
       "    }\n",
       "\n",
       "    .dataframe thead th {\n",
       "        text-align: right;\n",
       "    }\n",
       "</style>\n",
       "<table border=\"1\" class=\"dataframe\">\n",
       "  <thead>\n",
       "    <tr style=\"text-align: right;\">\n",
       "      <th></th>\n",
       "      <th>Missing Value Percentage</th>\n",
       "    </tr>\n",
       "  </thead>\n",
       "  <tbody>\n",
       "    <tr>\n",
       "      <th>url</th>\n",
       "      <td>0.000</td>\n",
       "    </tr>\n",
       "    <tr>\n",
       "      <th>address</th>\n",
       "      <td>0.000</td>\n",
       "    </tr>\n",
       "    <tr>\n",
       "      <th>name</th>\n",
       "      <td>0.000</td>\n",
       "    </tr>\n",
       "    <tr>\n",
       "      <th>online_order</th>\n",
       "      <td>0.000</td>\n",
       "    </tr>\n",
       "    <tr>\n",
       "      <th>book_table</th>\n",
       "      <td>0.000</td>\n",
       "    </tr>\n",
       "    <tr>\n",
       "      <th>rate</th>\n",
       "      <td>15.034</td>\n",
       "    </tr>\n",
       "    <tr>\n",
       "      <th>votes</th>\n",
       "      <td>0.000</td>\n",
       "    </tr>\n",
       "    <tr>\n",
       "      <th>phone</th>\n",
       "      <td>2.336</td>\n",
       "    </tr>\n",
       "    <tr>\n",
       "      <th>location</th>\n",
       "      <td>0.041</td>\n",
       "    </tr>\n",
       "    <tr>\n",
       "      <th>rest_type</th>\n",
       "      <td>0.439</td>\n",
       "    </tr>\n",
       "    <tr>\n",
       "      <th>dish_liked</th>\n",
       "      <td>54.292</td>\n",
       "    </tr>\n",
       "    <tr>\n",
       "      <th>cuisines</th>\n",
       "      <td>0.087</td>\n",
       "    </tr>\n",
       "    <tr>\n",
       "      <th>approx_cost(for two people)</th>\n",
       "      <td>0.669</td>\n",
       "    </tr>\n",
       "    <tr>\n",
       "      <th>reviews_list</th>\n",
       "      <td>0.000</td>\n",
       "    </tr>\n",
       "    <tr>\n",
       "      <th>menu_item</th>\n",
       "      <td>0.000</td>\n",
       "    </tr>\n",
       "    <tr>\n",
       "      <th>listed_in(type)</th>\n",
       "      <td>0.000</td>\n",
       "    </tr>\n",
       "    <tr>\n",
       "      <th>listed_in(city)</th>\n",
       "      <td>0.000</td>\n",
       "    </tr>\n",
       "  </tbody>\n",
       "</table>\n",
       "</div>"
      ],
      "text/plain": [
       "                             Missing Value Percentage\n",
       "url                                             0.000\n",
       "address                                         0.000\n",
       "name                                            0.000\n",
       "online_order                                    0.000\n",
       "book_table                                      0.000\n",
       "rate                                           15.034\n",
       "votes                                           0.000\n",
       "phone                                           2.336\n",
       "location                                        0.041\n",
       "rest_type                                       0.439\n",
       "dish_liked                                     54.292\n",
       "cuisines                                        0.087\n",
       "approx_cost(for two people)                     0.669\n",
       "reviews_list                                    0.000\n",
       "menu_item                                       0.000\n",
       "listed_in(type)                                 0.000\n",
       "listed_in(city)                                 0.000"
      ]
     },
     "execution_count": 5,
     "metadata": {},
     "output_type": "execute_result"
    }
   ],
   "source": [
    "pd.DataFrame(round(df.isnull().sum()/df.shape[0] *100,3), columns= ['Missing Value Percentage'])"
   ]
  },
  {
   "cell_type": "markdown",
   "metadata": {},
   "source": [
    "#### Mengecek jumlah null value pada tiap feature"
   ]
  },
  {
   "cell_type": "code",
   "execution_count": 6,
   "metadata": {
    "ExecuteTime": {
     "end_time": "2020-08-18T21:08:29.808211Z",
     "start_time": "2020-08-18T21:08:29.753356Z"
    }
   },
   "outputs": [
    {
     "data": {
      "text/plain": [
       "url                                0\n",
       "menu_item                          0\n",
       "reviews_list                       0\n",
       "listed_in(type)                    0\n",
       "votes                              0\n",
       "listed_in(city)                    0\n",
       "book_table                         0\n",
       "online_order                       0\n",
       "name                               0\n",
       "address                            0\n",
       "location                          21\n",
       "cuisines                          45\n",
       "rest_type                        227\n",
       "approx_cost(for two people)      346\n",
       "phone                           1208\n",
       "rate                            7775\n",
       "dish_liked                     28078\n",
       "dtype: int64"
      ]
     },
     "execution_count": 6,
     "metadata": {},
     "output_type": "execute_result"
    }
   ],
   "source": [
    "df.isna().sum().sort_values()"
   ]
  },
  {
   "cell_type": "code",
   "execution_count": 7,
   "metadata": {
    "ExecuteTime": {
     "end_time": "2020-08-18T21:08:32.312253Z",
     "start_time": "2020-08-18T21:08:29.811203Z"
    }
   },
   "outputs": [
    {
     "data": {
      "text/html": [
       "<div>\n",
       "<style scoped>\n",
       "    .dataframe tbody tr th:only-of-type {\n",
       "        vertical-align: middle;\n",
       "    }\n",
       "\n",
       "    .dataframe tbody tr th {\n",
       "        vertical-align: top;\n",
       "    }\n",
       "\n",
       "    .dataframe thead th {\n",
       "        text-align: right;\n",
       "    }\n",
       "</style>\n",
       "<table border=\"1\" class=\"dataframe\">\n",
       "  <thead>\n",
       "    <tr style=\"text-align: right;\">\n",
       "      <th></th>\n",
       "      <th>Column Name</th>\n",
       "      <th>DataType</th>\n",
       "      <th>Total Null Value</th>\n",
       "      <th>unique</th>\n",
       "      <th>sample unique values</th>\n",
       "    </tr>\n",
       "  </thead>\n",
       "  <tbody>\n",
       "    <tr>\n",
       "      <th>0</th>\n",
       "      <td>url</td>\n",
       "      <td>object</td>\n",
       "      <td>0</td>\n",
       "      <td>51717</td>\n",
       "      <td>[https://www.zomato.com/bangalore/night-spoon-...</td>\n",
       "    </tr>\n",
       "    <tr>\n",
       "      <th>1</th>\n",
       "      <td>address</td>\n",
       "      <td>object</td>\n",
       "      <td>0</td>\n",
       "      <td>11495</td>\n",
       "      <td>[19th Cross, Kaggadaspura Main Road, Near Rail...</td>\n",
       "    </tr>\n",
       "    <tr>\n",
       "      <th>2</th>\n",
       "      <td>name</td>\n",
       "      <td>object</td>\n",
       "      <td>0</td>\n",
       "      <td>8792</td>\n",
       "      <td>[Malabar Kitchen]</td>\n",
       "    </tr>\n",
       "    <tr>\n",
       "      <th>3</th>\n",
       "      <td>online_order</td>\n",
       "      <td>object</td>\n",
       "      <td>0</td>\n",
       "      <td>2</td>\n",
       "      <td>[No]</td>\n",
       "    </tr>\n",
       "    <tr>\n",
       "      <th>4</th>\n",
       "      <td>book_table</td>\n",
       "      <td>object</td>\n",
       "      <td>0</td>\n",
       "      <td>2</td>\n",
       "      <td>[No]</td>\n",
       "    </tr>\n",
       "    <tr>\n",
       "      <th>5</th>\n",
       "      <td>rate</td>\n",
       "      <td>object</td>\n",
       "      <td>7775</td>\n",
       "      <td>64</td>\n",
       "      <td>[4.2 /5]</td>\n",
       "    </tr>\n",
       "    <tr>\n",
       "      <th>6</th>\n",
       "      <td>votes</td>\n",
       "      <td>int64</td>\n",
       "      <td>0</td>\n",
       "      <td>2328</td>\n",
       "      <td>[1922]</td>\n",
       "    </tr>\n",
       "    <tr>\n",
       "      <th>7</th>\n",
       "      <td>phone</td>\n",
       "      <td>object</td>\n",
       "      <td>1208</td>\n",
       "      <td>14926</td>\n",
       "      <td>[080 48146796]</td>\n",
       "    </tr>\n",
       "    <tr>\n",
       "      <th>8</th>\n",
       "      <td>location</td>\n",
       "      <td>object</td>\n",
       "      <td>21</td>\n",
       "      <td>93</td>\n",
       "      <td>[Brookefield]</td>\n",
       "    </tr>\n",
       "    <tr>\n",
       "      <th>9</th>\n",
       "      <td>rest_type</td>\n",
       "      <td>object</td>\n",
       "      <td>227</td>\n",
       "      <td>93</td>\n",
       "      <td>[Cafe, Food Court]</td>\n",
       "    </tr>\n",
       "    <tr>\n",
       "      <th>10</th>\n",
       "      <td>dish_liked</td>\n",
       "      <td>object</td>\n",
       "      <td>28078</td>\n",
       "      <td>5271</td>\n",
       "      <td>[Biryani, Tandoori Chicken]</td>\n",
       "    </tr>\n",
       "    <tr>\n",
       "      <th>11</th>\n",
       "      <td>cuisines</td>\n",
       "      <td>object</td>\n",
       "      <td>45</td>\n",
       "      <td>2723</td>\n",
       "      <td>[Chinese, Seafood, Momos]</td>\n",
       "    </tr>\n",
       "    <tr>\n",
       "      <th>12</th>\n",
       "      <td>approx_cost(for two people)</td>\n",
       "      <td>object</td>\n",
       "      <td>346</td>\n",
       "      <td>70</td>\n",
       "      <td>[1,400]</td>\n",
       "    </tr>\n",
       "    <tr>\n",
       "      <th>13</th>\n",
       "      <td>reviews_list</td>\n",
       "      <td>object</td>\n",
       "      <td>0</td>\n",
       "      <td>22513</td>\n",
       "      <td>[[('Rated 4.0', \"RATED\\n  Excellent Pani Puri ...</td>\n",
       "    </tr>\n",
       "    <tr>\n",
       "      <th>14</th>\n",
       "      <td>menu_item</td>\n",
       "      <td>object</td>\n",
       "      <td>0</td>\n",
       "      <td>9098</td>\n",
       "      <td>[['Chocolate Hazelnuts Ice Cream [Per Scoop]',...</td>\n",
       "    </tr>\n",
       "    <tr>\n",
       "      <th>15</th>\n",
       "      <td>listed_in(type)</td>\n",
       "      <td>object</td>\n",
       "      <td>0</td>\n",
       "      <td>7</td>\n",
       "      <td>[Cafes]</td>\n",
       "    </tr>\n",
       "    <tr>\n",
       "      <th>16</th>\n",
       "      <td>listed_in(city)</td>\n",
       "      <td>object</td>\n",
       "      <td>0</td>\n",
       "      <td>30</td>\n",
       "      <td>[Whitefield]</td>\n",
       "    </tr>\n",
       "  </tbody>\n",
       "</table>\n",
       "</div>"
      ],
      "text/plain": [
       "                    Column Name DataType  Total Null Value  unique  \\\n",
       "0                           url   object                 0   51717   \n",
       "1                       address   object                 0   11495   \n",
       "2                          name   object                 0    8792   \n",
       "3                  online_order   object                 0       2   \n",
       "4                    book_table   object                 0       2   \n",
       "5                          rate   object              7775      64   \n",
       "6                         votes    int64                 0    2328   \n",
       "7                         phone   object              1208   14926   \n",
       "8                      location   object                21      93   \n",
       "9                     rest_type   object               227      93   \n",
       "10                   dish_liked   object             28078    5271   \n",
       "11                     cuisines   object                45    2723   \n",
       "12  approx_cost(for two people)   object               346      70   \n",
       "13                 reviews_list   object                 0   22513   \n",
       "14                    menu_item   object                 0    9098   \n",
       "15              listed_in(type)   object                 0       7   \n",
       "16              listed_in(city)   object                 0      30   \n",
       "\n",
       "                                 sample unique values  \n",
       "0   [https://www.zomato.com/bangalore/night-spoon-...  \n",
       "1   [19th Cross, Kaggadaspura Main Road, Near Rail...  \n",
       "2                                   [Malabar Kitchen]  \n",
       "3                                                [No]  \n",
       "4                                                [No]  \n",
       "5                                            [4.2 /5]  \n",
       "6                                              [1922]  \n",
       "7                                      [080 48146796]  \n",
       "8                                       [Brookefield]  \n",
       "9                                  [Cafe, Food Court]  \n",
       "10                        [Biryani, Tandoori Chicken]  \n",
       "11                          [Chinese, Seafood, Momos]  \n",
       "12                                            [1,400]  \n",
       "13  [[('Rated 4.0', \"RATED\\n  Excellent Pani Puri ...  \n",
       "14  [['Chocolate Hazelnuts Ice Cream [Per Scoop]',...  \n",
       "15                                            [Cafes]  \n",
       "16                                       [Whitefield]  "
      ]
     },
     "execution_count": 7,
     "metadata": {},
     "output_type": "execute_result"
    }
   ],
   "source": [
    "\n",
    "pd.DataFrame({'Column Name': df.columns, 'DataType': df.dtypes,\n",
    "             'Total Null Value': df.isna().sum(),'unique': df.nunique(),\n",
    "              'sample unique values': [list(df[i].drop_duplicates().sample(1))for i in df.columns]}).reset_index(drop=True)"
   ]
  },
  {
   "cell_type": "markdown",
   "metadata": {},
   "source": [
    "#### Drop null value pada feature ``rate``  sebesar 15% dari keseluruhan data\n"
   ]
  },
  {
   "cell_type": "code",
   "execution_count": 8,
   "metadata": {
    "ExecuteTime": {
     "end_time": "2020-08-18T21:08:32.349151Z",
     "start_time": "2020-08-18T21:08:32.317274Z"
    }
   },
   "outputs": [],
   "source": [
    "df = df.dropna(axis=0,subset=['rate'])"
   ]
  },
  {
   "cell_type": "markdown",
   "metadata": {},
   "source": [
    "#### Drop null value pada feature ``cuisines``  sebanyak 45 row dari keseluruhan data\n"
   ]
  },
  {
   "cell_type": "code",
   "execution_count": 9,
   "metadata": {
    "ExecuteTime": {
     "end_time": "2020-08-18T21:08:32.391104Z",
     "start_time": "2020-08-18T21:08:32.351145Z"
    }
   },
   "outputs": [],
   "source": [
    "df = df.dropna(axis=0,subset=['cuisines'])"
   ]
  },
  {
   "cell_type": "markdown",
   "metadata": {},
   "source": [
    "#### Mengganti nama kolom"
   ]
  },
  {
   "cell_type": "code",
   "execution_count": 10,
   "metadata": {
    "ExecuteTime": {
     "end_time": "2020-08-18T21:08:32.398020Z",
     "start_time": "2020-08-18T21:08:32.392037Z"
    }
   },
   "outputs": [],
   "source": [
    "df.columns = ['url', 'address', 'name', 'online_order', 'book_table', 'rate', 'votes',\n",
    "       'phone', 'location', 'rest_type', 'dish_liked', 'cuisines',\n",
    "       'cost_two_person', 'reviews_list', 'menu_item',\n",
    "       'service_type', 'registered_city']"
   ]
  },
  {
   "cell_type": "markdown",
   "metadata": {},
   "source": [
    "##### Merubah nilai rating yang 'NEW' menjadi nol dan \"-\" menjadi np.nan (data kosong)"
   ]
  },
  {
   "cell_type": "code",
   "execution_count": 11,
   "metadata": {
    "ExecuteTime": {
     "end_time": "2020-08-18T21:08:32.407994Z",
     "start_time": "2020-08-18T21:08:32.401012Z"
    }
   },
   "outputs": [],
   "source": [
    "df['rate'].replace('NEW','0', inplace=True)"
   ]
  },
  {
   "cell_type": "code",
   "execution_count": 12,
   "metadata": {
    "ExecuteTime": {
     "end_time": "2020-08-18T21:08:32.419961Z",
     "start_time": "2020-08-18T21:08:32.410986Z"
    }
   },
   "outputs": [],
   "source": [
    "df['rate'].replace(\"-\",np.nan,inplace=True)"
   ]
  },
  {
   "cell_type": "markdown",
   "metadata": {},
   "source": [
    "##### Menghapus /5 pada rating"
   ]
  },
  {
   "cell_type": "code",
   "execution_count": 13,
   "metadata": {
    "ExecuteTime": {
     "end_time": "2020-08-18T21:08:32.433925Z",
     "start_time": "2020-08-18T21:08:32.421956Z"
    }
   },
   "outputs": [],
   "source": [
    "df['rate'] = df['rate'].astype('str')"
   ]
  },
  {
   "cell_type": "code",
   "execution_count": 14,
   "metadata": {
    "ExecuteTime": {
     "end_time": "2020-08-18T21:08:32.460854Z",
     "start_time": "2020-08-18T21:08:32.435919Z"
    }
   },
   "outputs": [],
   "source": [
    "df['rate'] = df['rate'].apply(lambda x: x.split(\"/\")[0])"
   ]
  },
  {
   "cell_type": "code",
   "execution_count": 15,
   "metadata": {
    "ExecuteTime": {
     "end_time": "2020-08-18T21:08:32.487785Z",
     "start_time": "2020-08-18T21:08:32.462853Z"
    }
   },
   "outputs": [],
   "source": [
    "#sebelah paling kanan terdapat spasi dihapus\n",
    "df['rate'] = df['rate'].str.rstrip()"
   ]
  },
  {
   "cell_type": "markdown",
   "metadata": {},
   "source": [
    "##### Mengubah tipe data rating dari string to float"
   ]
  },
  {
   "cell_type": "code",
   "execution_count": 16,
   "metadata": {
    "ExecuteTime": {
     "end_time": "2020-08-18T21:08:32.511729Z",
     "start_time": "2020-08-18T21:08:32.488783Z"
    }
   },
   "outputs": [],
   "source": [
    "df['rate'] = df['rate'].astype('float')"
   ]
  },
  {
   "cell_type": "markdown",
   "metadata": {},
   "source": [
    "#### Merubah feature `cost_two_person` datatype menjadi float"
   ]
  },
  {
   "cell_type": "code",
   "execution_count": 17,
   "metadata": {
    "ExecuteTime": {
     "end_time": "2020-08-18T21:08:32.560506Z",
     "start_time": "2020-08-18T21:08:32.512719Z"
    }
   },
   "outputs": [],
   "source": [
    "df['cost_two_person'] = df[~(df['cost_two_person'].isna())]['cost_two_person'].apply(lambda x: x.split(\",\"))"
   ]
  },
  {
   "cell_type": "code",
   "execution_count": 18,
   "metadata": {
    "ExecuteTime": {
     "end_time": "2020-08-18T21:08:32.603407Z",
     "start_time": "2020-08-18T21:08:32.561514Z"
    }
   },
   "outputs": [],
   "source": [
    "df['cost_two_person'] = df[~(df['cost_two_person'].isna())]['cost_two_person'].apply(lambda x: \"\".join(x))"
   ]
  },
  {
   "cell_type": "code",
   "execution_count": 19,
   "metadata": {
    "ExecuteTime": {
     "end_time": "2020-08-18T21:08:32.613376Z",
     "start_time": "2020-08-18T21:08:32.605398Z"
    }
   },
   "outputs": [
    {
     "data": {
      "text/plain": [
       "array(['800', '300', '600', '700', '550', '500', '450', '650', '400',\n",
       "       '900', '200', '750', '150', '850', '100', '1200', '350', '250',\n",
       "       '950', '1000', '1500', '1300', '199', '80', '1100', '160', '1600',\n",
       "       '230', '130', '1700', '1400', '1350', nan, '2200', '2000', '1800',\n",
       "       '1900', '180', '330', '2500', '2100', '3000', '2800', '3400', '50',\n",
       "       '40', '1250', '3500', '4000', '2400', '2600', '1450', '70', '3200',\n",
       "       '560', '240', '360', '6000', '1050', '2300', '4100', '120', '5000',\n",
       "       '3700', '1650', '2700', '4500'], dtype=object)"
      ]
     },
     "execution_count": 19,
     "metadata": {},
     "output_type": "execute_result"
    }
   ],
   "source": [
    "df['cost_two_person'].unique()"
   ]
  },
  {
   "cell_type": "code",
   "execution_count": 20,
   "metadata": {
    "ExecuteTime": {
     "end_time": "2020-08-18T21:08:32.646287Z",
     "start_time": "2020-08-18T21:08:32.616371Z"
    }
   },
   "outputs": [],
   "source": [
    "df['cost_two_person'] = df['cost_two_person'].astype(\"float\")"
   ]
  },
  {
   "cell_type": "code",
   "execution_count": 21,
   "metadata": {
    "ExecuteTime": {
     "end_time": "2020-08-18T21:08:32.675210Z",
     "start_time": "2020-08-18T21:08:32.649280Z"
    },
    "scrolled": false
   },
   "outputs": [],
   "source": [
    "df.dropna(subset=['cost_two_person'],inplace=True)"
   ]
  },
  {
   "cell_type": "code",
   "execution_count": 22,
   "metadata": {
    "ExecuteTime": {
     "end_time": "2020-08-18T21:08:32.691168Z",
     "start_time": "2020-08-18T21:08:32.677206Z"
    }
   },
   "outputs": [],
   "source": [
    "cols = ['url','address','phone','name','reviews_list','menu_item','registered_city','dish_liked']\n",
    "df = df.drop(cols,axis=1)"
   ]
  },
  {
   "cell_type": "markdown",
   "metadata": {},
   "source": [
    "#### Handling Duplicate Value"
   ]
  },
  {
   "cell_type": "markdown",
   "metadata": {},
   "source": [
    "##### Ketika dilakukan check duplicates terdapat indikasi duplicates rows tetapi ada kemungkinan bahwa restoran name sampai dengan rating memiliki informasi yang sama namun memiliki url yang berbeda dan dapat diasumsikan bahwa restaurant tersebut merupakan restaurant yang sama namun pada saat meng-update url restaurant, sistem zomato tidak mereplace url, melainkan sistem hanya mengintegrasikan data lainnya."
   ]
  },
  {
   "cell_type": "code",
   "execution_count": 23,
   "metadata": {
    "ExecuteTime": {
     "end_time": "2020-08-18T21:08:32.772949Z",
     "start_time": "2020-08-18T21:08:32.694161Z"
    }
   },
   "outputs": [
    {
     "data": {
      "text/html": [
       "<div>\n",
       "<style scoped>\n",
       "    .dataframe tbody tr th:only-of-type {\n",
       "        vertical-align: middle;\n",
       "    }\n",
       "\n",
       "    .dataframe tbody tr th {\n",
       "        vertical-align: top;\n",
       "    }\n",
       "\n",
       "    .dataframe thead th {\n",
       "        text-align: right;\n",
       "    }\n",
       "</style>\n",
       "<table border=\"1\" class=\"dataframe\">\n",
       "  <thead>\n",
       "    <tr style=\"text-align: right;\">\n",
       "      <th></th>\n",
       "      <th>Column Name</th>\n",
       "      <th>DataType</th>\n",
       "      <th>Total Null Value</th>\n",
       "      <th>unique</th>\n",
       "      <th>sample unique values</th>\n",
       "    </tr>\n",
       "  </thead>\n",
       "  <tbody>\n",
       "    <tr>\n",
       "      <th>0</th>\n",
       "      <td>online_order</td>\n",
       "      <td>object</td>\n",
       "      <td>0</td>\n",
       "      <td>2</td>\n",
       "      <td>[Yes]</td>\n",
       "    </tr>\n",
       "    <tr>\n",
       "      <th>1</th>\n",
       "      <td>book_table</td>\n",
       "      <td>object</td>\n",
       "      <td>0</td>\n",
       "      <td>2</td>\n",
       "      <td>[No]</td>\n",
       "    </tr>\n",
       "    <tr>\n",
       "      <th>2</th>\n",
       "      <td>rate</td>\n",
       "      <td>float64</td>\n",
       "      <td>65</td>\n",
       "      <td>32</td>\n",
       "      <td>[nan]</td>\n",
       "    </tr>\n",
       "    <tr>\n",
       "      <th>3</th>\n",
       "      <td>votes</td>\n",
       "      <td>int64</td>\n",
       "      <td>0</td>\n",
       "      <td>2323</td>\n",
       "      <td>[3823]</td>\n",
       "    </tr>\n",
       "    <tr>\n",
       "      <th>4</th>\n",
       "      <td>location</td>\n",
       "      <td>object</td>\n",
       "      <td>0</td>\n",
       "      <td>92</td>\n",
       "      <td>[Peenya]</td>\n",
       "    </tr>\n",
       "    <tr>\n",
       "      <th>5</th>\n",
       "      <td>rest_type</td>\n",
       "      <td>object</td>\n",
       "      <td>149</td>\n",
       "      <td>87</td>\n",
       "      <td>[Cafe, Bakery]</td>\n",
       "    </tr>\n",
       "    <tr>\n",
       "      <th>6</th>\n",
       "      <td>cuisines</td>\n",
       "      <td>object</td>\n",
       "      <td>0</td>\n",
       "      <td>2495</td>\n",
       "      <td>[Fast Food, Italian, Beverages]</td>\n",
       "    </tr>\n",
       "    <tr>\n",
       "      <th>7</th>\n",
       "      <td>cost_two_person</td>\n",
       "      <td>float64</td>\n",
       "      <td>0</td>\n",
       "      <td>66</td>\n",
       "      <td>[1350.0]</td>\n",
       "    </tr>\n",
       "    <tr>\n",
       "      <th>8</th>\n",
       "      <td>service_type</td>\n",
       "      <td>object</td>\n",
       "      <td>0</td>\n",
       "      <td>7</td>\n",
       "      <td>[Delivery]</td>\n",
       "    </tr>\n",
       "  </tbody>\n",
       "</table>\n",
       "</div>"
      ],
      "text/plain": [
       "       Column Name DataType  Total Null Value  unique  \\\n",
       "0     online_order   object                 0       2   \n",
       "1       book_table   object                 0       2   \n",
       "2             rate  float64                65      32   \n",
       "3            votes    int64                 0    2323   \n",
       "4         location   object                 0      92   \n",
       "5        rest_type   object               149      87   \n",
       "6         cuisines   object                 0    2495   \n",
       "7  cost_two_person  float64                 0      66   \n",
       "8     service_type   object                 0       7   \n",
       "\n",
       "              sample unique values  \n",
       "0                            [Yes]  \n",
       "1                             [No]  \n",
       "2                            [nan]  \n",
       "3                           [3823]  \n",
       "4                         [Peenya]  \n",
       "5                   [Cafe, Bakery]  \n",
       "6  [Fast Food, Italian, Beverages]  \n",
       "7                         [1350.0]  \n",
       "8                       [Delivery]  "
      ]
     },
     "execution_count": 23,
     "metadata": {},
     "output_type": "execute_result"
    }
   ],
   "source": [
    "\n",
    "pd.DataFrame({'Column Name': df.columns, 'DataType': df.dtypes,\n",
    "             'Total Null Value': df.isna().sum(),'unique': df.nunique(),\n",
    "              'sample unique values': [list(df[i].drop_duplicates().sample(1))for i in df.columns]}).reset_index(drop=True)"
   ]
  },
  {
   "cell_type": "markdown",
   "metadata": {},
   "source": [
    "## 3. Machine Learning"
   ]
  },
  {
   "cell_type": "markdown",
   "metadata": {},
   "source": [
    "#### Pertimbangan Drop Column untuk Manchine Learning\n",
    "\n",
    "- URL : Drop, karena tidak memiliki korelasi yang kuat, contohnya pengaruh domain website sebuah restaurant terhadap ratinng\n",
    "- Phone : Drop, karena tidak memiliki korelasi yang kuat, contohnya pengaruh Nomor handphone dengan kombinasi nomor yang mudah dihafal terhadap ratinng\n",
    "- Address : Drop, karena adanya kolom location pada dataframe \n",
    "- Name : Semantic Anylisis, berisi tentang analasis kata yang tidak berhubungan dengan Manchine Learning\n",
    "\n",
    "- Review_list : Banyaknya null value dengan lebih presentase 50%, berisi Rating dan Testimoni restoran yang tidak sesuai dengan machine learning yang diterapkan\n",
    "- Menu_Item : Banyaknya null value dengan presentase lebih dari 50% \n",
    "- Listed_in_City : Nama restaurant yang mendaftarkan restaurant yang sama namum memiliki cabang yang berbeda\n",
    "- dish_liked : Banyaknya null value dengan presentase lebih dari 50%\n"
   ]
  },
  {
   "cell_type": "code",
   "execution_count": 24,
   "metadata": {
    "ExecuteTime": {
     "end_time": "2020-08-18T21:08:32.782923Z",
     "start_time": "2020-08-18T21:08:32.774945Z"
    }
   },
   "outputs": [
    {
     "data": {
      "text/plain": [
       "65"
      ]
     },
     "execution_count": 24,
     "metadata": {},
     "output_type": "execute_result"
    }
   ],
   "source": [
    "df['rate'].isna().sum()"
   ]
  },
  {
   "cell_type": "code",
   "execution_count": 25,
   "metadata": {
    "ExecuteTime": {
     "end_time": "2020-08-18T21:08:32.805863Z",
     "start_time": "2020-08-18T21:08:32.784918Z"
    }
   },
   "outputs": [
    {
     "name": "stdout",
     "output_type": "stream",
     "text": [
      "<class 'pandas.core.frame.DataFrame'>\n",
      "Int64Index: 43682 entries, 0 to 51716\n",
      "Data columns (total 9 columns):\n",
      " #   Column           Non-Null Count  Dtype  \n",
      "---  ------           --------------  -----  \n",
      " 0   online_order     43682 non-null  object \n",
      " 1   book_table       43682 non-null  object \n",
      " 2   rate             43617 non-null  float64\n",
      " 3   votes            43682 non-null  int64  \n",
      " 4   location         43682 non-null  object \n",
      " 5   rest_type        43533 non-null  object \n",
      " 6   cuisines         43682 non-null  object \n",
      " 7   cost_two_person  43682 non-null  float64\n",
      " 8   service_type     43682 non-null  object \n",
      "dtypes: float64(2), int64(1), object(6)\n",
      "memory usage: 3.3+ MB\n"
     ]
    }
   ],
   "source": [
    "df.info()"
   ]
  },
  {
   "cell_type": "code",
   "execution_count": null,
   "metadata": {
    "ExecuteTime": {
     "end_time": "2020-08-15T06:42:27.990351Z",
     "start_time": "2020-08-15T06:42:27.976705Z"
    }
   },
   "outputs": [],
   "source": []
  },
  {
   "cell_type": "code",
   "execution_count": null,
   "metadata": {
    "ExecuteTime": {
     "end_time": "2020-08-14T09:10:46.394727Z",
     "start_time": "2020-08-14T09:10:46.378489Z"
    },
    "scrolled": true
   },
   "outputs": [],
   "source": []
  },
  {
   "cell_type": "markdown",
   "metadata": {
    "ExecuteTime": {
     "end_time": "2020-08-14T09:13:35.374370Z",
     "start_time": "2020-08-14T09:13:35.332180Z"
    }
   },
   "source": [
    "### Labeling feauture ``Cuisines``"
   ]
  },
  {
   "cell_type": "code",
   "execution_count": 26,
   "metadata": {
    "ExecuteTime": {
     "end_time": "2020-08-18T21:09:21.690618Z",
     "start_time": "2020-08-18T21:08:32.807858Z"
    }
   },
   "outputs": [
    {
     "name": "stdout",
     "output_type": "stream",
     "text": [
      "['Afghan', 'Afghani', 'African', 'American', 'Andhra', 'Arabian', 'Asian', 'Assamese', 'Australian', 'Awadhi', 'BBQ', 'Bakery', 'Bar Food', 'Belgian', 'Bengali', 'Beverages', 'Bihari', 'Biryani', 'Bohri', 'British', 'Bubble Tea', 'Burger', 'Burmese', 'Cafe', 'Cantonese', 'Charcoal Chicken', 'Chettinad', 'Chinese', 'Coffee', 'Continental', 'Desserts', 'Drinks Only', 'European', 'Fast Food', 'Finger Food', 'French', 'German', 'Goan', 'Greek', 'Grill', 'Gujarati', 'Healthy Food', 'Hot dogs', 'Hyderabadi', 'Ice Cream', 'Indian', 'Indonesian', 'Iranian', 'Italian', 'Japanese', 'Jewish', 'Juices', 'Kashmiri', 'Kebab', 'Kerala', 'Konkan', 'Korean', 'Lebanese', 'Lucknowi', 'Maharashtrian', 'Malaysian', 'Mangalorean', 'Mediterranean', 'Mexican', 'Middle Eastern', 'Mithai', 'Modern Indian', 'Momos', 'Mongolian', 'Mughlai', 'Naga', 'Nepalese', 'North Eastern', 'North Indian', 'Oriya', 'Paan', 'Pan Asian', 'Parsi', 'Pizza', 'Portuguese', 'Rajasthani', 'Raw Meats', 'Roast Chicken', 'Rolls', 'Russian', 'Salad', 'Sandwich', 'Seafood', 'Sindhi', 'Singaporean', 'South American', 'South Indian', 'Spanish', 'Sri Lankan', 'Steak', 'Street Food', 'Sushi', 'Tamil', 'Tea', 'Tex-Mex', 'Thai', 'Tibetan', 'Turkish', 'Vegan', 'Vietnamese', 'Wraps']\n"
     ]
    }
   ],
   "source": [
    "df['cuisines'] = df['cuisines'].apply(lambda x : [i.strip() for i in str(x).split(',')])\n",
    "x = []\n",
    "for i in df['cuisines'].values:\n",
    "    for n in i:\n",
    "        x.append(n)\n",
    "    x = list(np.unique(x))\n",
    "print(x)\n",
    "for i in x:\n",
    "    df[i] = 0\n",
    "for i,v in df['cuisines'].items():\n",
    "    for n in v:\n",
    "        df.loc[i,n] = 1"
   ]
  },
  {
   "cell_type": "code",
   "execution_count": 27,
   "metadata": {
    "ExecuteTime": {
     "end_time": "2020-08-18T21:09:21.739996Z",
     "start_time": "2020-08-18T21:09:21.690618Z"
    },
    "scrolled": true
   },
   "outputs": [
    {
     "data": {
      "text/html": [
       "<div>\n",
       "<style scoped>\n",
       "    .dataframe tbody tr th:only-of-type {\n",
       "        vertical-align: middle;\n",
       "    }\n",
       "\n",
       "    .dataframe tbody tr th {\n",
       "        vertical-align: top;\n",
       "    }\n",
       "\n",
       "    .dataframe thead th {\n",
       "        text-align: right;\n",
       "    }\n",
       "</style>\n",
       "<table border=\"1\" class=\"dataframe\">\n",
       "  <thead>\n",
       "    <tr style=\"text-align: right;\">\n",
       "      <th></th>\n",
       "      <th>online_order</th>\n",
       "      <th>book_table</th>\n",
       "      <th>rate</th>\n",
       "      <th>votes</th>\n",
       "      <th>location</th>\n",
       "      <th>rest_type</th>\n",
       "      <th>cuisines</th>\n",
       "      <th>cost_two_person</th>\n",
       "      <th>service_type</th>\n",
       "      <th>Afghan</th>\n",
       "      <th>...</th>\n",
       "      <th>Sushi</th>\n",
       "      <th>Tamil</th>\n",
       "      <th>Tea</th>\n",
       "      <th>Tex-Mex</th>\n",
       "      <th>Thai</th>\n",
       "      <th>Tibetan</th>\n",
       "      <th>Turkish</th>\n",
       "      <th>Vegan</th>\n",
       "      <th>Vietnamese</th>\n",
       "      <th>Wraps</th>\n",
       "    </tr>\n",
       "  </thead>\n",
       "  <tbody>\n",
       "    <tr>\n",
       "      <th>0</th>\n",
       "      <td>Yes</td>\n",
       "      <td>Yes</td>\n",
       "      <td>4.1</td>\n",
       "      <td>775</td>\n",
       "      <td>Banashankari</td>\n",
       "      <td>Casual Dining</td>\n",
       "      <td>[North Indian, Mughlai, Chinese]</td>\n",
       "      <td>800.0</td>\n",
       "      <td>Buffet</td>\n",
       "      <td>0</td>\n",
       "      <td>...</td>\n",
       "      <td>0</td>\n",
       "      <td>0</td>\n",
       "      <td>0</td>\n",
       "      <td>0</td>\n",
       "      <td>0</td>\n",
       "      <td>0</td>\n",
       "      <td>0</td>\n",
       "      <td>0</td>\n",
       "      <td>0</td>\n",
       "      <td>0</td>\n",
       "    </tr>\n",
       "    <tr>\n",
       "      <th>1</th>\n",
       "      <td>Yes</td>\n",
       "      <td>No</td>\n",
       "      <td>4.1</td>\n",
       "      <td>787</td>\n",
       "      <td>Banashankari</td>\n",
       "      <td>Casual Dining</td>\n",
       "      <td>[Chinese, North Indian, Thai]</td>\n",
       "      <td>800.0</td>\n",
       "      <td>Buffet</td>\n",
       "      <td>0</td>\n",
       "      <td>...</td>\n",
       "      <td>0</td>\n",
       "      <td>0</td>\n",
       "      <td>0</td>\n",
       "      <td>0</td>\n",
       "      <td>1</td>\n",
       "      <td>0</td>\n",
       "      <td>0</td>\n",
       "      <td>0</td>\n",
       "      <td>0</td>\n",
       "      <td>0</td>\n",
       "    </tr>\n",
       "    <tr>\n",
       "      <th>2</th>\n",
       "      <td>Yes</td>\n",
       "      <td>No</td>\n",
       "      <td>3.8</td>\n",
       "      <td>918</td>\n",
       "      <td>Banashankari</td>\n",
       "      <td>Cafe, Casual Dining</td>\n",
       "      <td>[Cafe, Mexican, Italian]</td>\n",
       "      <td>800.0</td>\n",
       "      <td>Buffet</td>\n",
       "      <td>0</td>\n",
       "      <td>...</td>\n",
       "      <td>0</td>\n",
       "      <td>0</td>\n",
       "      <td>0</td>\n",
       "      <td>0</td>\n",
       "      <td>0</td>\n",
       "      <td>0</td>\n",
       "      <td>0</td>\n",
       "      <td>0</td>\n",
       "      <td>0</td>\n",
       "      <td>0</td>\n",
       "    </tr>\n",
       "  </tbody>\n",
       "</table>\n",
       "<p>3 rows × 115 columns</p>\n",
       "</div>"
      ],
      "text/plain": [
       "  online_order book_table  rate  votes      location            rest_type  \\\n",
       "0          Yes        Yes   4.1    775  Banashankari        Casual Dining   \n",
       "1          Yes         No   4.1    787  Banashankari        Casual Dining   \n",
       "2          Yes         No   3.8    918  Banashankari  Cafe, Casual Dining   \n",
       "\n",
       "                           cuisines  cost_two_person service_type  Afghan  \\\n",
       "0  [North Indian, Mughlai, Chinese]            800.0       Buffet       0   \n",
       "1     [Chinese, North Indian, Thai]            800.0       Buffet       0   \n",
       "2          [Cafe, Mexican, Italian]            800.0       Buffet       0   \n",
       "\n",
       "   ...  Sushi  Tamil  Tea  Tex-Mex  Thai  Tibetan  Turkish  Vegan  Vietnamese  \\\n",
       "0  ...      0      0    0        0     0        0        0      0           0   \n",
       "1  ...      0      0    0        0     1        0        0      0           0   \n",
       "2  ...      0      0    0        0     0        0        0      0           0   \n",
       "\n",
       "   Wraps  \n",
       "0      0  \n",
       "1      0  \n",
       "2      0  \n",
       "\n",
       "[3 rows x 115 columns]"
      ]
     },
     "execution_count": 27,
     "metadata": {},
     "output_type": "execute_result"
    }
   ],
   "source": [
    "df.head(3)"
   ]
  },
  {
   "cell_type": "markdown",
   "metadata": {
    "ExecuteTime": {
     "end_time": "2020-08-14T09:13:35.374370Z",
     "start_time": "2020-08-14T09:13:35.332180Z"
    }
   },
   "source": [
    "### Labeling feauture ``rest_type``"
   ]
  },
  {
   "cell_type": "code",
   "execution_count": 28,
   "metadata": {
    "ExecuteTime": {
     "end_time": "2020-08-18T21:09:42.838804Z",
     "start_time": "2020-08-18T21:09:21.742990Z"
    },
    "scrolled": true
   },
   "outputs": [
    {
     "name": "stdout",
     "output_type": "stream",
     "text": [
      "['Bakery', 'Bar', 'Beverage Shop', 'Bhojanalya', 'Cafe', 'Casual Dining', 'Club', 'Confectionery', 'Delivery', 'Dessert Parlor', 'Dhaba', 'Fine Dining', 'Food Court', 'Food Truck', 'Irani Cafee', 'Kiosk', 'Lounge', 'Meat Shop', 'Mess', 'Microbrewery', 'Pub', 'Quick Bites', 'Sweet Shop', 'Takeaway', 'nan']\n"
     ]
    }
   ],
   "source": [
    "df['rest_type'] = df['rest_type'].apply(lambda x : [i.strip() for i in str(x).split(',')])\n",
    "ax = []\n",
    "for i in df['rest_type'].values:\n",
    "    for n in i:\n",
    "        ax.append(n)\n",
    "    ax = list(np.unique(ax))\n",
    "print(ax)\n",
    "for i in ax:\n",
    "    df[i] = 0\n",
    "for i,v in df['rest_type'].items():\n",
    "    for n in v:\n",
    "        df.loc[i,n] = 1"
   ]
  },
  {
   "cell_type": "code",
   "execution_count": 29,
   "metadata": {
    "ExecuteTime": {
     "end_time": "2020-08-18T21:09:42.850104Z",
     "start_time": "2020-08-18T21:09:42.838804Z"
    }
   },
   "outputs": [
    {
     "name": "stdout",
     "output_type": "stream",
     "text": [
      "['Bakery', 'Bar', 'Beverage Shop', 'Bhojanalya', 'Cafe', 'Casual Dining', 'Club', 'Confectionery', 'Delivery', 'Dessert Parlor', 'Dhaba', 'Fine Dining', 'Food Court', 'Food Truck', 'Irani Cafee', 'Kiosk', 'Lounge', 'Meat Shop', 'Mess', 'Microbrewery', 'Pub', 'Quick Bites', 'Sweet Shop', 'Takeaway', 'nan']\n"
     ]
    }
   ],
   "source": [
    "print(ax)"
   ]
  },
  {
   "cell_type": "code",
   "execution_count": 30,
   "metadata": {
    "ExecuteTime": {
     "end_time": "2020-08-18T21:09:42.894985Z",
     "start_time": "2020-08-18T21:09:42.852099Z"
    }
   },
   "outputs": [
    {
     "data": {
      "text/html": [
       "<div>\n",
       "<style scoped>\n",
       "    .dataframe tbody tr th:only-of-type {\n",
       "        vertical-align: middle;\n",
       "    }\n",
       "\n",
       "    .dataframe tbody tr th {\n",
       "        vertical-align: top;\n",
       "    }\n",
       "\n",
       "    .dataframe thead th {\n",
       "        text-align: right;\n",
       "    }\n",
       "</style>\n",
       "<table border=\"1\" class=\"dataframe\">\n",
       "  <thead>\n",
       "    <tr style=\"text-align: right;\">\n",
       "      <th></th>\n",
       "      <th>online_order</th>\n",
       "      <th>book_table</th>\n",
       "      <th>rate</th>\n",
       "      <th>votes</th>\n",
       "      <th>location</th>\n",
       "      <th>rest_type</th>\n",
       "      <th>cuisines</th>\n",
       "      <th>cost_two_person</th>\n",
       "      <th>service_type</th>\n",
       "      <th>Afghan</th>\n",
       "      <th>...</th>\n",
       "      <th>Kiosk</th>\n",
       "      <th>Lounge</th>\n",
       "      <th>Meat Shop</th>\n",
       "      <th>Mess</th>\n",
       "      <th>Microbrewery</th>\n",
       "      <th>Pub</th>\n",
       "      <th>Quick Bites</th>\n",
       "      <th>Sweet Shop</th>\n",
       "      <th>Takeaway</th>\n",
       "      <th>nan</th>\n",
       "    </tr>\n",
       "  </thead>\n",
       "  <tbody>\n",
       "    <tr>\n",
       "      <th>0</th>\n",
       "      <td>Yes</td>\n",
       "      <td>Yes</td>\n",
       "      <td>4.1</td>\n",
       "      <td>775</td>\n",
       "      <td>Banashankari</td>\n",
       "      <td>[Casual Dining]</td>\n",
       "      <td>[North Indian, Mughlai, Chinese]</td>\n",
       "      <td>800.0</td>\n",
       "      <td>Buffet</td>\n",
       "      <td>0</td>\n",
       "      <td>...</td>\n",
       "      <td>0</td>\n",
       "      <td>0</td>\n",
       "      <td>0</td>\n",
       "      <td>0</td>\n",
       "      <td>0</td>\n",
       "      <td>0</td>\n",
       "      <td>0</td>\n",
       "      <td>0</td>\n",
       "      <td>0</td>\n",
       "      <td>0</td>\n",
       "    </tr>\n",
       "    <tr>\n",
       "      <th>1</th>\n",
       "      <td>Yes</td>\n",
       "      <td>No</td>\n",
       "      <td>4.1</td>\n",
       "      <td>787</td>\n",
       "      <td>Banashankari</td>\n",
       "      <td>[Casual Dining]</td>\n",
       "      <td>[Chinese, North Indian, Thai]</td>\n",
       "      <td>800.0</td>\n",
       "      <td>Buffet</td>\n",
       "      <td>0</td>\n",
       "      <td>...</td>\n",
       "      <td>0</td>\n",
       "      <td>0</td>\n",
       "      <td>0</td>\n",
       "      <td>0</td>\n",
       "      <td>0</td>\n",
       "      <td>0</td>\n",
       "      <td>0</td>\n",
       "      <td>0</td>\n",
       "      <td>0</td>\n",
       "      <td>0</td>\n",
       "    </tr>\n",
       "    <tr>\n",
       "      <th>2</th>\n",
       "      <td>Yes</td>\n",
       "      <td>No</td>\n",
       "      <td>3.8</td>\n",
       "      <td>918</td>\n",
       "      <td>Banashankari</td>\n",
       "      <td>[Cafe, Casual Dining]</td>\n",
       "      <td>[Cafe, Mexican, Italian]</td>\n",
       "      <td>800.0</td>\n",
       "      <td>Buffet</td>\n",
       "      <td>0</td>\n",
       "      <td>...</td>\n",
       "      <td>0</td>\n",
       "      <td>0</td>\n",
       "      <td>0</td>\n",
       "      <td>0</td>\n",
       "      <td>0</td>\n",
       "      <td>0</td>\n",
       "      <td>0</td>\n",
       "      <td>0</td>\n",
       "      <td>0</td>\n",
       "      <td>0</td>\n",
       "    </tr>\n",
       "    <tr>\n",
       "      <th>3</th>\n",
       "      <td>No</td>\n",
       "      <td>No</td>\n",
       "      <td>3.7</td>\n",
       "      <td>88</td>\n",
       "      <td>Banashankari</td>\n",
       "      <td>[Quick Bites]</td>\n",
       "      <td>[South Indian, North Indian]</td>\n",
       "      <td>300.0</td>\n",
       "      <td>Buffet</td>\n",
       "      <td>0</td>\n",
       "      <td>...</td>\n",
       "      <td>0</td>\n",
       "      <td>0</td>\n",
       "      <td>0</td>\n",
       "      <td>0</td>\n",
       "      <td>0</td>\n",
       "      <td>0</td>\n",
       "      <td>1</td>\n",
       "      <td>0</td>\n",
       "      <td>0</td>\n",
       "      <td>0</td>\n",
       "    </tr>\n",
       "    <tr>\n",
       "      <th>4</th>\n",
       "      <td>No</td>\n",
       "      <td>No</td>\n",
       "      <td>3.8</td>\n",
       "      <td>166</td>\n",
       "      <td>Basavanagudi</td>\n",
       "      <td>[Casual Dining]</td>\n",
       "      <td>[North Indian, Rajasthani]</td>\n",
       "      <td>600.0</td>\n",
       "      <td>Buffet</td>\n",
       "      <td>0</td>\n",
       "      <td>...</td>\n",
       "      <td>0</td>\n",
       "      <td>0</td>\n",
       "      <td>0</td>\n",
       "      <td>0</td>\n",
       "      <td>0</td>\n",
       "      <td>0</td>\n",
       "      <td>0</td>\n",
       "      <td>0</td>\n",
       "      <td>0</td>\n",
       "      <td>0</td>\n",
       "    </tr>\n",
       "  </tbody>\n",
       "</table>\n",
       "<p>5 rows × 138 columns</p>\n",
       "</div>"
      ],
      "text/plain": [
       "  online_order book_table  rate  votes      location              rest_type  \\\n",
       "0          Yes        Yes   4.1    775  Banashankari        [Casual Dining]   \n",
       "1          Yes         No   4.1    787  Banashankari        [Casual Dining]   \n",
       "2          Yes         No   3.8    918  Banashankari  [Cafe, Casual Dining]   \n",
       "3           No         No   3.7     88  Banashankari          [Quick Bites]   \n",
       "4           No         No   3.8    166  Basavanagudi        [Casual Dining]   \n",
       "\n",
       "                           cuisines  cost_two_person service_type  Afghan  \\\n",
       "0  [North Indian, Mughlai, Chinese]            800.0       Buffet       0   \n",
       "1     [Chinese, North Indian, Thai]            800.0       Buffet       0   \n",
       "2          [Cafe, Mexican, Italian]            800.0       Buffet       0   \n",
       "3      [South Indian, North Indian]            300.0       Buffet       0   \n",
       "4        [North Indian, Rajasthani]            600.0       Buffet       0   \n",
       "\n",
       "   ...  Kiosk  Lounge  Meat Shop  Mess  Microbrewery  Pub  Quick Bites  \\\n",
       "0  ...      0       0          0     0             0    0            0   \n",
       "1  ...      0       0          0     0             0    0            0   \n",
       "2  ...      0       0          0     0             0    0            0   \n",
       "3  ...      0       0          0     0             0    0            1   \n",
       "4  ...      0       0          0     0             0    0            0   \n",
       "\n",
       "   Sweet Shop  Takeaway  nan  \n",
       "0           0         0    0  \n",
       "1           0         0    0  \n",
       "2           0         0    0  \n",
       "3           0         0    0  \n",
       "4           0         0    0  \n",
       "\n",
       "[5 rows x 138 columns]"
      ]
     },
     "execution_count": 30,
     "metadata": {},
     "output_type": "execute_result"
    }
   ],
   "source": [
    "df.head()"
   ]
  },
  {
   "cell_type": "code",
   "execution_count": 31,
   "metadata": {
    "ExecuteTime": {
     "end_time": "2020-08-18T21:09:42.934879Z",
     "start_time": "2020-08-18T21:09:42.897977Z"
    },
    "scrolled": true
   },
   "outputs": [
    {
     "data": {
      "text/html": [
       "<div>\n",
       "<style scoped>\n",
       "    .dataframe tbody tr th:only-of-type {\n",
       "        vertical-align: middle;\n",
       "    }\n",
       "\n",
       "    .dataframe tbody tr th {\n",
       "        vertical-align: top;\n",
       "    }\n",
       "\n",
       "    .dataframe thead th {\n",
       "        text-align: right;\n",
       "    }\n",
       "</style>\n",
       "<table border=\"1\" class=\"dataframe\">\n",
       "  <thead>\n",
       "    <tr style=\"text-align: right;\">\n",
       "      <th></th>\n",
       "      <th>online_order</th>\n",
       "      <th>book_table</th>\n",
       "      <th>rate</th>\n",
       "      <th>votes</th>\n",
       "      <th>location</th>\n",
       "      <th>rest_type</th>\n",
       "      <th>cuisines</th>\n",
       "      <th>cost_two_person</th>\n",
       "      <th>service_type</th>\n",
       "      <th>Afghan</th>\n",
       "      <th>...</th>\n",
       "      <th>Kiosk</th>\n",
       "      <th>Lounge</th>\n",
       "      <th>Meat Shop</th>\n",
       "      <th>Mess</th>\n",
       "      <th>Microbrewery</th>\n",
       "      <th>Pub</th>\n",
       "      <th>Quick Bites</th>\n",
       "      <th>Sweet Shop</th>\n",
       "      <th>Takeaway</th>\n",
       "      <th>nan</th>\n",
       "    </tr>\n",
       "  </thead>\n",
       "  <tbody>\n",
       "    <tr>\n",
       "      <th>0</th>\n",
       "      <td>Yes</td>\n",
       "      <td>Yes</td>\n",
       "      <td>4.1</td>\n",
       "      <td>775</td>\n",
       "      <td>Banashankari</td>\n",
       "      <td>[Casual Dining]</td>\n",
       "      <td>[North Indian, Mughlai, Chinese]</td>\n",
       "      <td>800.0</td>\n",
       "      <td>Buffet</td>\n",
       "      <td>0</td>\n",
       "      <td>...</td>\n",
       "      <td>0</td>\n",
       "      <td>0</td>\n",
       "      <td>0</td>\n",
       "      <td>0</td>\n",
       "      <td>0</td>\n",
       "      <td>0</td>\n",
       "      <td>0</td>\n",
       "      <td>0</td>\n",
       "      <td>0</td>\n",
       "      <td>0</td>\n",
       "    </tr>\n",
       "    <tr>\n",
       "      <th>1</th>\n",
       "      <td>Yes</td>\n",
       "      <td>No</td>\n",
       "      <td>4.1</td>\n",
       "      <td>787</td>\n",
       "      <td>Banashankari</td>\n",
       "      <td>[Casual Dining]</td>\n",
       "      <td>[Chinese, North Indian, Thai]</td>\n",
       "      <td>800.0</td>\n",
       "      <td>Buffet</td>\n",
       "      <td>0</td>\n",
       "      <td>...</td>\n",
       "      <td>0</td>\n",
       "      <td>0</td>\n",
       "      <td>0</td>\n",
       "      <td>0</td>\n",
       "      <td>0</td>\n",
       "      <td>0</td>\n",
       "      <td>0</td>\n",
       "      <td>0</td>\n",
       "      <td>0</td>\n",
       "      <td>0</td>\n",
       "    </tr>\n",
       "    <tr>\n",
       "      <th>2</th>\n",
       "      <td>Yes</td>\n",
       "      <td>No</td>\n",
       "      <td>3.8</td>\n",
       "      <td>918</td>\n",
       "      <td>Banashankari</td>\n",
       "      <td>[Cafe, Casual Dining]</td>\n",
       "      <td>[Cafe, Mexican, Italian]</td>\n",
       "      <td>800.0</td>\n",
       "      <td>Buffet</td>\n",
       "      <td>0</td>\n",
       "      <td>...</td>\n",
       "      <td>0</td>\n",
       "      <td>0</td>\n",
       "      <td>0</td>\n",
       "      <td>0</td>\n",
       "      <td>0</td>\n",
       "      <td>0</td>\n",
       "      <td>0</td>\n",
       "      <td>0</td>\n",
       "      <td>0</td>\n",
       "      <td>0</td>\n",
       "    </tr>\n",
       "  </tbody>\n",
       "</table>\n",
       "<p>3 rows × 138 columns</p>\n",
       "</div>"
      ],
      "text/plain": [
       "  online_order book_table  rate  votes      location              rest_type  \\\n",
       "0          Yes        Yes   4.1    775  Banashankari        [Casual Dining]   \n",
       "1          Yes         No   4.1    787  Banashankari        [Casual Dining]   \n",
       "2          Yes         No   3.8    918  Banashankari  [Cafe, Casual Dining]   \n",
       "\n",
       "                           cuisines  cost_two_person service_type  Afghan  \\\n",
       "0  [North Indian, Mughlai, Chinese]            800.0       Buffet       0   \n",
       "1     [Chinese, North Indian, Thai]            800.0       Buffet       0   \n",
       "2          [Cafe, Mexican, Italian]            800.0       Buffet       0   \n",
       "\n",
       "   ...  Kiosk  Lounge  Meat Shop  Mess  Microbrewery  Pub  Quick Bites  \\\n",
       "0  ...      0       0          0     0             0    0            0   \n",
       "1  ...      0       0          0     0             0    0            0   \n",
       "2  ...      0       0          0     0             0    0            0   \n",
       "\n",
       "   Sweet Shop  Takeaway  nan  \n",
       "0           0         0    0  \n",
       "1           0         0    0  \n",
       "2           0         0    0  \n",
       "\n",
       "[3 rows x 138 columns]"
      ]
     },
     "execution_count": 31,
     "metadata": {},
     "output_type": "execute_result"
    }
   ],
   "source": [
    "df.head(3)"
   ]
  },
  {
   "cell_type": "code",
   "execution_count": 32,
   "metadata": {
    "ExecuteTime": {
     "end_time": "2020-08-18T21:09:42.990727Z",
     "start_time": "2020-08-18T21:09:42.936872Z"
    },
    "scrolled": true
   },
   "outputs": [],
   "source": [
    "df['online_order'] = LabelEncoder().fit_transform(df['online_order'])\n",
    "df['book_table'] = LabelEncoder().fit_transform(df['book_table'])\n",
    "df['location'] = LabelEncoder().fit_transform(df['location'])\n",
    "df['service_type'] = LabelEncoder().fit_transform(df['service_type'])\n"
   ]
  },
  {
   "cell_type": "code",
   "execution_count": 33,
   "metadata": {
    "ExecuteTime": {
     "end_time": "2020-08-18T21:09:43.027630Z",
     "start_time": "2020-08-18T21:09:42.995716Z"
    }
   },
   "outputs": [
    {
     "data": {
      "text/html": [
       "<div>\n",
       "<style scoped>\n",
       "    .dataframe tbody tr th:only-of-type {\n",
       "        vertical-align: middle;\n",
       "    }\n",
       "\n",
       "    .dataframe tbody tr th {\n",
       "        vertical-align: top;\n",
       "    }\n",
       "\n",
       "    .dataframe thead th {\n",
       "        text-align: right;\n",
       "    }\n",
       "</style>\n",
       "<table border=\"1\" class=\"dataframe\">\n",
       "  <thead>\n",
       "    <tr style=\"text-align: right;\">\n",
       "      <th></th>\n",
       "      <th>online_order</th>\n",
       "      <th>book_table</th>\n",
       "      <th>rate</th>\n",
       "      <th>votes</th>\n",
       "      <th>location</th>\n",
       "      <th>rest_type</th>\n",
       "      <th>cuisines</th>\n",
       "      <th>cost_two_person</th>\n",
       "      <th>service_type</th>\n",
       "      <th>Afghan</th>\n",
       "      <th>...</th>\n",
       "      <th>Kiosk</th>\n",
       "      <th>Lounge</th>\n",
       "      <th>Meat Shop</th>\n",
       "      <th>Mess</th>\n",
       "      <th>Microbrewery</th>\n",
       "      <th>Pub</th>\n",
       "      <th>Quick Bites</th>\n",
       "      <th>Sweet Shop</th>\n",
       "      <th>Takeaway</th>\n",
       "      <th>nan</th>\n",
       "    </tr>\n",
       "  </thead>\n",
       "  <tbody>\n",
       "    <tr>\n",
       "      <th>0</th>\n",
       "      <td>1</td>\n",
       "      <td>1</td>\n",
       "      <td>4.1</td>\n",
       "      <td>775</td>\n",
       "      <td>1</td>\n",
       "      <td>[Casual Dining]</td>\n",
       "      <td>[North Indian, Mughlai, Chinese]</td>\n",
       "      <td>800.0</td>\n",
       "      <td>0</td>\n",
       "      <td>0</td>\n",
       "      <td>...</td>\n",
       "      <td>0</td>\n",
       "      <td>0</td>\n",
       "      <td>0</td>\n",
       "      <td>0</td>\n",
       "      <td>0</td>\n",
       "      <td>0</td>\n",
       "      <td>0</td>\n",
       "      <td>0</td>\n",
       "      <td>0</td>\n",
       "      <td>0</td>\n",
       "    </tr>\n",
       "    <tr>\n",
       "      <th>1</th>\n",
       "      <td>1</td>\n",
       "      <td>0</td>\n",
       "      <td>4.1</td>\n",
       "      <td>787</td>\n",
       "      <td>1</td>\n",
       "      <td>[Casual Dining]</td>\n",
       "      <td>[Chinese, North Indian, Thai]</td>\n",
       "      <td>800.0</td>\n",
       "      <td>0</td>\n",
       "      <td>0</td>\n",
       "      <td>...</td>\n",
       "      <td>0</td>\n",
       "      <td>0</td>\n",
       "      <td>0</td>\n",
       "      <td>0</td>\n",
       "      <td>0</td>\n",
       "      <td>0</td>\n",
       "      <td>0</td>\n",
       "      <td>0</td>\n",
       "      <td>0</td>\n",
       "      <td>0</td>\n",
       "    </tr>\n",
       "    <tr>\n",
       "      <th>2</th>\n",
       "      <td>1</td>\n",
       "      <td>0</td>\n",
       "      <td>3.8</td>\n",
       "      <td>918</td>\n",
       "      <td>1</td>\n",
       "      <td>[Cafe, Casual Dining]</td>\n",
       "      <td>[Cafe, Mexican, Italian]</td>\n",
       "      <td>800.0</td>\n",
       "      <td>0</td>\n",
       "      <td>0</td>\n",
       "      <td>...</td>\n",
       "      <td>0</td>\n",
       "      <td>0</td>\n",
       "      <td>0</td>\n",
       "      <td>0</td>\n",
       "      <td>0</td>\n",
       "      <td>0</td>\n",
       "      <td>0</td>\n",
       "      <td>0</td>\n",
       "      <td>0</td>\n",
       "      <td>0</td>\n",
       "    </tr>\n",
       "  </tbody>\n",
       "</table>\n",
       "<p>3 rows × 138 columns</p>\n",
       "</div>"
      ],
      "text/plain": [
       "   online_order  book_table  rate  votes  location              rest_type  \\\n",
       "0             1           1   4.1    775         1        [Casual Dining]   \n",
       "1             1           0   4.1    787         1        [Casual Dining]   \n",
       "2             1           0   3.8    918         1  [Cafe, Casual Dining]   \n",
       "\n",
       "                           cuisines  cost_two_person  service_type  Afghan  \\\n",
       "0  [North Indian, Mughlai, Chinese]            800.0             0       0   \n",
       "1     [Chinese, North Indian, Thai]            800.0             0       0   \n",
       "2          [Cafe, Mexican, Italian]            800.0             0       0   \n",
       "\n",
       "   ...  Kiosk  Lounge  Meat Shop  Mess  Microbrewery  Pub  Quick Bites  \\\n",
       "0  ...      0       0          0     0             0    0            0   \n",
       "1  ...      0       0          0     0             0    0            0   \n",
       "2  ...      0       0          0     0             0    0            0   \n",
       "\n",
       "   Sweet Shop  Takeaway  nan  \n",
       "0           0         0    0  \n",
       "1           0         0    0  \n",
       "2           0         0    0  \n",
       "\n",
       "[3 rows x 138 columns]"
      ]
     },
     "execution_count": 33,
     "metadata": {},
     "output_type": "execute_result"
    }
   ],
   "source": [
    "df.head(3)"
   ]
  },
  {
   "cell_type": "markdown",
   "metadata": {},
   "source": [
    "---"
   ]
  },
  {
   "cell_type": "markdown",
   "metadata": {},
   "source": [
    "### Preparing Dataset"
   ]
  },
  {
   "cell_type": "code",
   "execution_count": 34,
   "metadata": {
    "ExecuteTime": {
     "end_time": "2020-08-18T21:09:43.065528Z",
     "start_time": "2020-08-18T21:09:43.029625Z"
    }
   },
   "outputs": [],
   "source": [
    "df.drop(['rest_type','cuisines'],axis=1,inplace=True)"
   ]
  },
  {
   "cell_type": "code",
   "execution_count": 35,
   "metadata": {
    "ExecuteTime": {
     "end_time": "2020-08-18T21:09:43.076498Z",
     "start_time": "2020-08-18T21:09:43.069517Z"
    }
   },
   "outputs": [
    {
     "data": {
      "text/plain": [
       "(43682, 136)"
      ]
     },
     "execution_count": 35,
     "metadata": {},
     "output_type": "execute_result"
    }
   ],
   "source": [
    "df.shape"
   ]
  },
  {
   "cell_type": "code",
   "execution_count": 36,
   "metadata": {
    "ExecuteTime": {
     "end_time": "2020-08-18T21:09:43.150302Z",
     "start_time": "2020-08-18T21:09:43.079492Z"
    }
   },
   "outputs": [],
   "source": [
    "df.dropna(inplace=True)"
   ]
  },
  {
   "cell_type": "code",
   "execution_count": 37,
   "metadata": {
    "ExecuteTime": {
     "end_time": "2020-08-18T21:09:43.158280Z",
     "start_time": "2020-08-18T21:09:43.152296Z"
    }
   },
   "outputs": [
    {
     "data": {
      "text/plain": [
       "(43617, 136)"
      ]
     },
     "execution_count": 37,
     "metadata": {},
     "output_type": "execute_result"
    }
   ],
   "source": [
    "df.shape"
   ]
  },
  {
   "cell_type": "code",
   "execution_count": 38,
   "metadata": {
    "ExecuteTime": {
     "end_time": "2020-08-18T21:09:43.196180Z",
     "start_time": "2020-08-18T21:09:43.160275Z"
    }
   },
   "outputs": [],
   "source": [
    "x = df.drop(['rate'],axis=1)\n",
    "y = df['rate']"
   ]
  },
  {
   "cell_type": "code",
   "execution_count": 39,
   "metadata": {
    "ExecuteTime": {
     "end_time": "2020-08-18T21:09:43.264999Z",
     "start_time": "2020-08-18T21:09:43.199170Z"
    }
   },
   "outputs": [],
   "source": [
    "x_train,x_test,y_train,y_test = train_test_split(x,y,test_size=0.2,random_state=42)\n",
    "\n"
   ]
  },
  {
   "cell_type": "code",
   "execution_count": 40,
   "metadata": {
    "ExecuteTime": {
     "end_time": "2020-08-18T21:09:43.272973Z",
     "start_time": "2020-08-18T21:09:43.266990Z"
    }
   },
   "outputs": [
    {
     "data": {
      "text/plain": [
       "0"
      ]
     },
     "execution_count": 40,
     "metadata": {},
     "output_type": "execute_result"
    }
   ],
   "source": [
    "y_train.isna().sum()"
   ]
  },
  {
   "cell_type": "code",
   "execution_count": 41,
   "metadata": {
    "ExecuteTime": {
     "end_time": "2020-08-18T21:10:17.585929Z",
     "start_time": "2020-08-18T21:09:43.275966Z"
    }
   },
   "outputs": [
    {
     "data": {
      "text/plain": [
       "DecisionTreeRegressor(random_state=42)"
      ]
     },
     "execution_count": 41,
     "metadata": {},
     "output_type": "execute_result"
    }
   ],
   "source": [
    "rfr = RandomForestRegressor(random_state=42)\n",
    "lnr = LinearRegression()\n",
    "dct = DecisionTreeRegressor(random_state=42)\n",
    "\n",
    "rfr.fit(x_train,y_train)\n",
    "lnr.fit(x_train,y_train)\n",
    "dct.fit(x_train,y_train)"
   ]
  },
  {
   "cell_type": "code",
   "execution_count": 42,
   "metadata": {
    "ExecuteTime": {
     "end_time": "2020-08-18T21:10:18.886777Z",
     "start_time": "2020-08-18T21:10:17.587926Z"
    }
   },
   "outputs": [],
   "source": [
    "rfr_y_train_predict = rfr.predict(x_train)\n",
    "rfr_y_test_predict = rfr.predict(x_test)\n",
    "lnr_y_train_predict = lnr.predict(x_train)\n",
    "lnr_y_test_predict = lnr.predict(x_test)\n",
    "dct_y_train_predict = dct.predict(x_train)\n",
    "dct_y_test_predict = dct.predict(x_test)\n"
   ]
  },
  {
   "cell_type": "code",
   "execution_count": 43,
   "metadata": {
    "ExecuteTime": {
     "end_time": "2020-08-18T21:15:48.906408Z",
     "start_time": "2020-08-18T21:10:18.888773Z"
    }
   },
   "outputs": [
    {
     "data": {
      "text/html": [
       "<div>\n",
       "<style scoped>\n",
       "    .dataframe tbody tr th:only-of-type {\n",
       "        vertical-align: middle;\n",
       "    }\n",
       "\n",
       "    .dataframe tbody tr th {\n",
       "        vertical-align: top;\n",
       "    }\n",
       "\n",
       "    .dataframe thead th {\n",
       "        text-align: right;\n",
       "    }\n",
       "</style>\n",
       "<table border=\"1\" class=\"dataframe\">\n",
       "  <thead>\n",
       "    <tr style=\"text-align: right;\">\n",
       "      <th></th>\n",
       "      <th>CV error</th>\n",
       "      <th>CV std</th>\n",
       "      <th>Training Error</th>\n",
       "      <th>Test Error</th>\n",
       "      <th>Training_R2_Score</th>\n",
       "      <th>Test_R2_Score</th>\n",
       "    </tr>\n",
       "    <tr>\n",
       "      <th>Dataset</th>\n",
       "      <th></th>\n",
       "      <th></th>\n",
       "      <th></th>\n",
       "      <th></th>\n",
       "      <th></th>\n",
       "      <th></th>\n",
       "    </tr>\n",
       "  </thead>\n",
       "  <tbody>\n",
       "    <tr>\n",
       "      <th>Random Forest Regressor</th>\n",
       "      <td>-0.171532</td>\n",
       "      <td>0.041982</td>\n",
       "      <td>0.064235</td>\n",
       "      <td>0.148706</td>\n",
       "      <td>0.995152</td>\n",
       "      <td>0.972566</td>\n",
       "    </tr>\n",
       "  </tbody>\n",
       "</table>\n",
       "</div>"
      ],
      "text/plain": [
       "                         CV error    CV std  Training Error  Test Error  \\\n",
       "Dataset                                                                   \n",
       "Random Forest Regressor -0.171532  0.041982        0.064235    0.148706   \n",
       "\n",
       "                         Training_R2_Score  Test_R2_Score  \n",
       "Dataset                                                    \n",
       "Random Forest Regressor           0.995152       0.972566  "
      ]
     },
     "execution_count": 43,
     "metadata": {},
     "output_type": "execute_result"
    }
   ],
   "source": [
    "RandomForest_Result = pd.DataFrame({'Dataset': ['Random Forest Regressor'], \n",
    "              'CV error': [ (cross_val_score(rfr, x, y, scoring='neg_root_mean_squared_error',cv=5).mean())],\n",
    "              'CV std': [ (cross_val_score(rfr, x, y, scoring='neg_root_mean_squared_error',cv=5).std())],\n",
    "              'Training Error' : [np.sqrt(mean_squared_error(y_train, rfr_y_train_predict))],\n",
    "              'Test Error' : [np.sqrt(mean_squared_error(y_test, rfr_y_test_predict))],\n",
    "              'Training_R2_Score' : [r2_score(y_train, rfr_y_train_predict)],\n",
    "              'Test_R2_Score' : [r2_score(y_test, rfr_y_test_predict)]\n",
    "             }).set_index('Dataset')\n",
    "RandomForest_Result"
   ]
  },
  {
   "cell_type": "code",
   "execution_count": 44,
   "metadata": {
    "ExecuteTime": {
     "end_time": "2020-08-18T21:18:31.180403Z",
     "start_time": "2020-08-18T21:15:48.908404Z"
    }
   },
   "outputs": [
    {
     "data": {
      "text/plain": [
       "array([0.97125456, 0.96733023, 0.93861589, 0.98690222, 0.94701334])"
      ]
     },
     "execution_count": 44,
     "metadata": {},
     "output_type": "execute_result"
    }
   ],
   "source": [
    "cross_val_score(rfr, x, y, scoring='r2',cv=5)"
   ]
  },
  {
   "cell_type": "code",
   "execution_count": 45,
   "metadata": {
    "ExecuteTime": {
     "end_time": "2020-08-18T21:18:33.584986Z",
     "start_time": "2020-08-18T21:18:31.182398Z"
    }
   },
   "outputs": [
    {
     "data": {
      "text/html": [
       "<div>\n",
       "<style scoped>\n",
       "    .dataframe tbody tr th:only-of-type {\n",
       "        vertical-align: middle;\n",
       "    }\n",
       "\n",
       "    .dataframe tbody tr th {\n",
       "        vertical-align: top;\n",
       "    }\n",
       "\n",
       "    .dataframe thead th {\n",
       "        text-align: right;\n",
       "    }\n",
       "</style>\n",
       "<table border=\"1\" class=\"dataframe\">\n",
       "  <thead>\n",
       "    <tr style=\"text-align: right;\">\n",
       "      <th></th>\n",
       "      <th>CV error</th>\n",
       "      <th>CV std</th>\n",
       "      <th>Training Error</th>\n",
       "      <th>Test Error</th>\n",
       "      <th>Training_R2_Score</th>\n",
       "      <th>Test_R2_Score</th>\n",
       "    </tr>\n",
       "    <tr>\n",
       "      <th>Dataset</th>\n",
       "      <th></th>\n",
       "      <th></th>\n",
       "      <th></th>\n",
       "      <th></th>\n",
       "      <th></th>\n",
       "      <th></th>\n",
       "    </tr>\n",
       "  </thead>\n",
       "  <tbody>\n",
       "    <tr>\n",
       "      <th>Multi Linear Regression</th>\n",
       "      <td>-0.841867</td>\n",
       "      <td>0.078162</td>\n",
       "      <td>0.84286</td>\n",
       "      <td>0.824947</td>\n",
       "      <td>0.165326</td>\n",
       "      <td>0.155732</td>\n",
       "    </tr>\n",
       "  </tbody>\n",
       "</table>\n",
       "</div>"
      ],
      "text/plain": [
       "                         CV error    CV std  Training Error  Test Error  \\\n",
       "Dataset                                                                   \n",
       "Multi Linear Regression -0.841867  0.078162         0.84286    0.824947   \n",
       "\n",
       "                         Training_R2_Score  Test_R2_Score  \n",
       "Dataset                                                    \n",
       "Multi Linear Regression           0.165326       0.155732  "
      ]
     },
     "execution_count": 45,
     "metadata": {},
     "output_type": "execute_result"
    }
   ],
   "source": [
    "MultiLinearRegression_Result = pd.DataFrame({'Dataset': ['Multi Linear Regression'], \n",
    "              'CV error': [ (cross_val_score(lnr, x, y, scoring='neg_root_mean_squared_error',cv=5).mean())],\n",
    "              'CV std': [ (cross_val_score(lnr, x, y, scoring='neg_root_mean_squared_error',cv=5).std())],\n",
    "              'Training Error' : [np.sqrt(mean_squared_error(y_train, lnr_y_train_predict))],\n",
    "              'Test Error' : [np.sqrt(mean_squared_error(y_test, lnr_y_test_predict))],\n",
    "              'Training_R2_Score' : [r2_score(y_train, lnr_y_train_predict)],\n",
    "              'Test_R2_Score' : [r2_score(y_test, lnr_y_test_predict)]\n",
    "             }).set_index('Dataset')\n",
    "MultiLinearRegression_Result"
   ]
  },
  {
   "cell_type": "code",
   "execution_count": 46,
   "metadata": {
    "ExecuteTime": {
     "end_time": "2020-08-18T21:18:34.815764Z",
     "start_time": "2020-08-18T21:18:33.587978Z"
    }
   },
   "outputs": [
    {
     "data": {
      "text/plain": [
       "array([0.1314613 , 0.15060181, 0.12603593, 0.17091737, 0.1695498 ])"
      ]
     },
     "execution_count": 46,
     "metadata": {},
     "output_type": "execute_result"
    }
   ],
   "source": [
    "cross_val_score(lnr, x, y, scoring='r2',cv=5)"
   ]
  },
  {
   "cell_type": "code",
   "execution_count": 47,
   "metadata": {
    "ExecuteTime": {
     "end_time": "2020-08-18T21:18:40.413022Z",
     "start_time": "2020-08-18T21:18:34.818297Z"
    }
   },
   "outputs": [
    {
     "data": {
      "text/html": [
       "<div>\n",
       "<style scoped>\n",
       "    .dataframe tbody tr th:only-of-type {\n",
       "        vertical-align: middle;\n",
       "    }\n",
       "\n",
       "    .dataframe tbody tr th {\n",
       "        vertical-align: top;\n",
       "    }\n",
       "\n",
       "    .dataframe thead th {\n",
       "        text-align: right;\n",
       "    }\n",
       "</style>\n",
       "<table border=\"1\" class=\"dataframe\">\n",
       "  <thead>\n",
       "    <tr style=\"text-align: right;\">\n",
       "      <th></th>\n",
       "      <th>CV error</th>\n",
       "      <th>CV std</th>\n",
       "      <th>Training Error</th>\n",
       "      <th>Test Error</th>\n",
       "      <th>Training_R2_Score</th>\n",
       "      <th>Test_R2_Score</th>\n",
       "    </tr>\n",
       "    <tr>\n",
       "      <th>Dataset</th>\n",
       "      <th></th>\n",
       "      <th></th>\n",
       "      <th></th>\n",
       "      <th></th>\n",
       "      <th></th>\n",
       "      <th></th>\n",
       "    </tr>\n",
       "  </thead>\n",
       "  <tbody>\n",
       "    <tr>\n",
       "      <th>Decision Tree Regression</th>\n",
       "      <td>-0.229016</td>\n",
       "      <td>0.058152</td>\n",
       "      <td>0.043115</td>\n",
       "      <td>0.180701</td>\n",
       "      <td>0.997816</td>\n",
       "      <td>0.959491</td>\n",
       "    </tr>\n",
       "  </tbody>\n",
       "</table>\n",
       "</div>"
      ],
      "text/plain": [
       "                          CV error    CV std  Training Error  Test Error  \\\n",
       "Dataset                                                                    \n",
       "Decision Tree Regression -0.229016  0.058152        0.043115    0.180701   \n",
       "\n",
       "                          Training_R2_Score  Test_R2_Score  \n",
       "Dataset                                                     \n",
       "Decision Tree Regression           0.997816       0.959491  "
      ]
     },
     "execution_count": 47,
     "metadata": {},
     "output_type": "execute_result"
    }
   ],
   "source": [
    "DecisionTree_Result = pd.DataFrame({'Dataset': ['Decision Tree Regression'], \n",
    "              'CV error': [ (cross_val_score(dct, x, y, scoring='neg_root_mean_squared_error',cv=5).mean())],\n",
    "              'CV std': [ (cross_val_score(dct, x, y, scoring='neg_root_mean_squared_error',cv=5).std())],\n",
    "              'Training Error' : [np.sqrt(mean_squared_error(y_train, dct_y_train_predict))],\n",
    "              'Test Error' : [np.sqrt(mean_squared_error(y_test, dct_y_test_predict))],\n",
    "              'Training_R2_Score' : [r2_score(y_train, dct_y_train_predict)],\n",
    "              'Test_R2_Score' : [r2_score(y_test, dct_y_test_predict)]\n",
    "             }).set_index('Dataset')\n",
    "DecisionTree_Result"
   ]
  },
  {
   "cell_type": "code",
   "execution_count": 48,
   "metadata": {
    "ExecuteTime": {
     "end_time": "2020-08-18T21:18:43.446650Z",
     "start_time": "2020-08-18T21:18:40.415017Z"
    }
   },
   "outputs": [
    {
     "data": {
      "text/plain": [
       "array([0.94485139, 0.93254492, 0.90384889, 0.98107503, 0.90139569])"
      ]
     },
     "execution_count": 48,
     "metadata": {},
     "output_type": "execute_result"
    }
   ],
   "source": [
    "cross_val_score(dct, x, y, scoring='r2',cv=5)"
   ]
  },
  {
   "cell_type": "code",
   "execution_count": 49,
   "metadata": {
    "ExecuteTime": {
     "end_time": "2020-08-18T21:18:43.474073Z",
     "start_time": "2020-08-18T21:18:43.449642Z"
    }
   },
   "outputs": [
    {
     "data": {
      "text/html": [
       "<div>\n",
       "<style scoped>\n",
       "    .dataframe tbody tr th:only-of-type {\n",
       "        vertical-align: middle;\n",
       "    }\n",
       "\n",
       "    .dataframe tbody tr th {\n",
       "        vertical-align: top;\n",
       "    }\n",
       "\n",
       "    .dataframe thead th {\n",
       "        text-align: right;\n",
       "    }\n",
       "</style>\n",
       "<table border=\"1\" class=\"dataframe\">\n",
       "  <thead>\n",
       "    <tr style=\"text-align: right;\">\n",
       "      <th></th>\n",
       "      <th>CV error</th>\n",
       "      <th>CV std</th>\n",
       "      <th>Training Error</th>\n",
       "      <th>Test Error</th>\n",
       "      <th>Training_R2_Score</th>\n",
       "      <th>Test_R2_Score</th>\n",
       "    </tr>\n",
       "    <tr>\n",
       "      <th>Dataset</th>\n",
       "      <th></th>\n",
       "      <th></th>\n",
       "      <th></th>\n",
       "      <th></th>\n",
       "      <th></th>\n",
       "      <th></th>\n",
       "    </tr>\n",
       "  </thead>\n",
       "  <tbody>\n",
       "    <tr>\n",
       "      <th>Random Forest Regressor</th>\n",
       "      <td>-0.171532</td>\n",
       "      <td>0.041982</td>\n",
       "      <td>0.064235</td>\n",
       "      <td>0.148706</td>\n",
       "      <td>0.995152</td>\n",
       "      <td>0.972566</td>\n",
       "    </tr>\n",
       "    <tr>\n",
       "      <th>Multi Linear Regression</th>\n",
       "      <td>-0.841867</td>\n",
       "      <td>0.078162</td>\n",
       "      <td>0.842860</td>\n",
       "      <td>0.824947</td>\n",
       "      <td>0.165326</td>\n",
       "      <td>0.155732</td>\n",
       "    </tr>\n",
       "    <tr>\n",
       "      <th>Decision Tree Regression</th>\n",
       "      <td>-0.229016</td>\n",
       "      <td>0.058152</td>\n",
       "      <td>0.043115</td>\n",
       "      <td>0.180701</td>\n",
       "      <td>0.997816</td>\n",
       "      <td>0.959491</td>\n",
       "    </tr>\n",
       "  </tbody>\n",
       "</table>\n",
       "</div>"
      ],
      "text/plain": [
       "                          CV error    CV std  Training Error  Test Error  \\\n",
       "Dataset                                                                    \n",
       "Random Forest Regressor  -0.171532  0.041982        0.064235    0.148706   \n",
       "Multi Linear Regression  -0.841867  0.078162        0.842860    0.824947   \n",
       "Decision Tree Regression -0.229016  0.058152        0.043115    0.180701   \n",
       "\n",
       "                          Training_R2_Score  Test_R2_Score  \n",
       "Dataset                                                     \n",
       "Random Forest Regressor            0.995152       0.972566  \n",
       "Multi Linear Regression            0.165326       0.155732  \n",
       "Decision Tree Regression           0.997816       0.959491  "
      ]
     },
     "execution_count": 49,
     "metadata": {},
     "output_type": "execute_result"
    }
   ],
   "source": [
    "Result = pd.concat([RandomForest_Result, MultiLinearRegression_Result, DecisionTree_Result], axis=0)\n",
    "Result"
   ]
  },
  {
   "cell_type": "markdown",
   "metadata": {},
   "source": [
    "## Hypertuning Parameter"
   ]
  },
  {
   "cell_type": "code",
   "execution_count": 50,
   "metadata": {
    "ExecuteTime": {
     "end_time": "2020-08-18T21:18:43.498009Z",
     "start_time": "2020-08-18T21:18:43.479062Z"
    }
   },
   "outputs": [],
   "source": [
    "n_estimators = [int(x) for x in np.linspace(start = 200, stop=2000,num=10)]\n",
    "max_features = ['auto', 'sqrt']\n",
    "max_depth = [int(x) for x in np.linspace(10, 110, num=11)]\n",
    "max_depth.append(None)\n",
    "min_samples_split = [2,5,10]\n",
    "min_samples_leaf = [1, 2, 4]\n",
    "bootstrap = [True, False]\n",
    "\n",
    "param = {'n_estimators': n_estimators,\n",
    "        'max_features': max_features,\n",
    "        'max_depth': max_depth,\n",
    "        'min_samples_split': min_samples_split,\n",
    "        'min_samples_leaf': min_samples_leaf,\n",
    "        'bootstrap': bootstrap}"
   ]
  },
  {
   "cell_type": "code",
   "execution_count": 51,
   "metadata": {
    "ExecuteTime": {
     "end_time": "2020-08-18T21:18:43.508980Z",
     "start_time": "2020-08-18T21:18:43.501999Z"
    }
   },
   "outputs": [],
   "source": [
    "tuning_rfr = RandomizedSearchCV(estimator=rfr, param_distributions=param, cv=5)"
   ]
  },
  {
   "cell_type": "code",
   "execution_count": 52,
   "metadata": {
    "ExecuteTime": {
     "end_time": "2020-08-18T23:45:55.100987Z",
     "start_time": "2020-08-18T21:18:43.511972Z"
    }
   },
   "outputs": [
    {
     "name": "stdout",
     "output_type": "stream",
     "text": [
      "{'n_estimators': 1800, 'min_samples_split': 2, 'min_samples_leaf': 1, 'max_features': 'sqrt', 'max_depth': 90, 'bootstrap': False}\n"
     ]
    }
   ],
   "source": [
    "tuning_rfr.fit(x_train, y_train)\n",
    "print(tuning_rfr.best_params_)"
   ]
  },
  {
   "cell_type": "code",
   "execution_count": 56,
   "metadata": {
    "ExecuteTime": {
     "end_time": "2020-08-19T05:30:07.125672Z",
     "start_time": "2020-08-19T05:26:11.941974Z"
    }
   },
   "outputs": [
    {
     "data": {
      "text/plain": [
       "RandomForestRegressor(bootstrap=False, max_depth=90, max_features='sqrt',\n",
       "                      n_estimators=1800, random_state=42)"
      ]
     },
     "execution_count": 56,
     "metadata": {},
     "output_type": "execute_result"
    }
   ],
   "source": [
    "rfr_rs = RandomForestRegressor(n_estimators= 1800, min_samples_split= 2, min_samples_leaf= 1, max_features='sqrt',max_depth= 90, bootstrap= False,random_state=42)\n",
    "rfr_rs.fit(x_train,y_train)"
   ]
  },
  {
   "cell_type": "code",
   "execution_count": 57,
   "metadata": {
    "ExecuteTime": {
     "end_time": "2020-08-19T06:11:01.992103Z",
     "start_time": "2020-08-19T06:10:36.053348Z"
    }
   },
   "outputs": [],
   "source": [
    "rfr_rs_y_train_predict = rfr_rs.predict(x_train)\n",
    "rfr_rs_y_test_predict = rfr_rs.predict(x_test)"
   ]
  },
  {
   "cell_type": "code",
   "execution_count": 58,
   "metadata": {
    "ExecuteTime": {
     "end_time": "2020-08-19T06:48:56.337686Z",
     "start_time": "2020-08-19T06:11:17.522757Z"
    }
   },
   "outputs": [
    {
     "data": {
      "text/html": [
       "<div>\n",
       "<style scoped>\n",
       "    .dataframe tbody tr th:only-of-type {\n",
       "        vertical-align: middle;\n",
       "    }\n",
       "\n",
       "    .dataframe tbody tr th {\n",
       "        vertical-align: top;\n",
       "    }\n",
       "\n",
       "    .dataframe thead th {\n",
       "        text-align: right;\n",
       "    }\n",
       "</style>\n",
       "<table border=\"1\" class=\"dataframe\">\n",
       "  <thead>\n",
       "    <tr style=\"text-align: right;\">\n",
       "      <th></th>\n",
       "      <th>CV error</th>\n",
       "      <th>CV std</th>\n",
       "      <th>Training Error</th>\n",
       "      <th>Test Error</th>\n",
       "      <th>Training_R2_Score</th>\n",
       "      <th>Test_R2_Score</th>\n",
       "    </tr>\n",
       "    <tr>\n",
       "      <th>Dataset</th>\n",
       "      <th></th>\n",
       "      <th></th>\n",
       "      <th></th>\n",
       "      <th></th>\n",
       "      <th></th>\n",
       "      <th></th>\n",
       "    </tr>\n",
       "  </thead>\n",
       "  <tbody>\n",
       "    <tr>\n",
       "      <th>Random Forest Regressor Tuned</th>\n",
       "      <td>-0.182244</td>\n",
       "      <td>0.046302</td>\n",
       "      <td>0.043115</td>\n",
       "      <td>0.160663</td>\n",
       "      <td>0.997816</td>\n",
       "      <td>0.967977</td>\n",
       "    </tr>\n",
       "  </tbody>\n",
       "</table>\n",
       "</div>"
      ],
      "text/plain": [
       "                               CV error    CV std  Training Error  Test Error  \\\n",
       "Dataset                                                                         \n",
       "Random Forest Regressor Tuned -0.182244  0.046302        0.043115    0.160663   \n",
       "\n",
       "                               Training_R2_Score  Test_R2_Score  \n",
       "Dataset                                                          \n",
       "Random Forest Regressor Tuned           0.997816       0.967977  "
      ]
     },
     "execution_count": 58,
     "metadata": {},
     "output_type": "execute_result"
    }
   ],
   "source": [
    "RandomForest_Tuning_Result = pd.DataFrame({'Dataset': ['Random Forest Regressor Tuned'], \n",
    "              'CV error': [ (cross_val_score(rfr_rs, x, y, scoring='neg_root_mean_squared_error',cv=5).mean())],\n",
    "              'CV std': [ (cross_val_score(rfr_rs, x, y, scoring='neg_root_mean_squared_error',cv=5).std())],\n",
    "              'Training Error' : [np.sqrt(mean_squared_error(y_train, rfr_rs_y_train_predict))],\n",
    "              'Test Error' : [np.sqrt(mean_squared_error(y_test, rfr_rs_y_test_predict))],\n",
    "              'Training_R2_Score' : [r2_score(y_train, rfr_rs_y_train_predict)],\n",
    "              'Test_R2_Score' : [r2_score(y_test, rfr_rs_y_test_predict)]\n",
    "             }).set_index('Dataset')\n",
    "RandomForest_Tuning_Result"
   ]
  },
  {
   "cell_type": "markdown",
   "metadata": {},
   "source": [
    "---"
   ]
  },
  {
   "cell_type": "markdown",
   "metadata": {},
   "source": [
    "## Final Dataframe"
   ]
  },
  {
   "cell_type": "code",
   "execution_count": 59,
   "metadata": {
    "ExecuteTime": {
     "end_time": "2020-08-19T06:51:39.501602Z",
     "start_time": "2020-08-19T06:51:39.482656Z"
    }
   },
   "outputs": [
    {
     "data": {
      "text/html": [
       "<div>\n",
       "<style scoped>\n",
       "    .dataframe tbody tr th:only-of-type {\n",
       "        vertical-align: middle;\n",
       "    }\n",
       "\n",
       "    .dataframe tbody tr th {\n",
       "        vertical-align: top;\n",
       "    }\n",
       "\n",
       "    .dataframe thead th {\n",
       "        text-align: right;\n",
       "    }\n",
       "</style>\n",
       "<table border=\"1\" class=\"dataframe\">\n",
       "  <thead>\n",
       "    <tr style=\"text-align: right;\">\n",
       "      <th></th>\n",
       "      <th>Actual Rate</th>\n",
       "      <th>Predicted Rate</th>\n",
       "    </tr>\n",
       "  </thead>\n",
       "  <tbody>\n",
       "    <tr>\n",
       "      <th>0</th>\n",
       "      <td>3.5</td>\n",
       "      <td>3.282</td>\n",
       "    </tr>\n",
       "    <tr>\n",
       "      <th>1</th>\n",
       "      <td>3.2</td>\n",
       "      <td>3.235</td>\n",
       "    </tr>\n",
       "    <tr>\n",
       "      <th>2</th>\n",
       "      <td>3.3</td>\n",
       "      <td>3.323</td>\n",
       "    </tr>\n",
       "    <tr>\n",
       "      <th>3</th>\n",
       "      <td>3.5</td>\n",
       "      <td>3.464</td>\n",
       "    </tr>\n",
       "    <tr>\n",
       "      <th>4</th>\n",
       "      <td>3.5</td>\n",
       "      <td>3.408</td>\n",
       "    </tr>\n",
       "  </tbody>\n",
       "</table>\n",
       "</div>"
      ],
      "text/plain": [
       "   Actual Rate  Predicted Rate\n",
       "0          3.5           3.282\n",
       "1          3.2           3.235\n",
       "2          3.3           3.323\n",
       "3          3.5           3.464\n",
       "4          3.5           3.408"
      ]
     },
     "execution_count": 59,
     "metadata": {},
     "output_type": "execute_result"
    }
   ],
   "source": [
    "final_df = pd.DataFrame({'Actual Rate' : np.array(y_test).flatten(),\n",
    "                        'Predicted Rate' : np.array(rfr_y_test_predict).flatten()\n",
    "                        }).head(50)\n",
    "final_df.head(5)"
   ]
  },
  {
   "cell_type": "code",
   "execution_count": 60,
   "metadata": {
    "ExecuteTime": {
     "end_time": "2020-08-19T06:51:40.705038Z",
     "start_time": "2020-08-19T06:51:40.097256Z"
    }
   },
   "outputs": [
    {
     "data": {
      "image/png": "[encoded data removed]",
      "text/plain": [
       "<Figure size 1152x576 with 1 Axes>"
      ]
     },
     "metadata": {
      "needs_background": "light"
     },
     "output_type": "display_data"
    }
   ],
   "source": [
    "final_df.plot(kind='bar', figsize=(16,8))\n",
    "plt.title('Difference between Actual Rate vs Predicted Rate')\n",
    "plt.show()"
   ]
  },
  {
   "cell_type": "code",
   "execution_count": null,
   "metadata": {},
   "outputs": [],
   "source": []
  },
  {
   "cell_type": "code",
   "execution_count": null,
   "metadata": {},
   "outputs": [],
   "source": []
  }
 ],
 "metadata": {
  "kernelspec": {
   "display_name": "Python 3",
   "language": "python",
   "name": "python3"
  },
  "language_info": {
   "codemirror_mode": {
    "name": "ipython",
    "version": 3
   },
   "file_extension": ".py",
   "mimetype": "text/x-python",
   "name": "python",
   "nbconvert_exporter": "python",
   "pygments_lexer": "ipython3",
   "version": "3.8.3"
  }
 },
 "nbformat": 4,
 "nbformat_minor": 4
}
